{
 "cells": [
  {
   "cell_type": "markdown",
   "metadata": {},
   "source": [
    "# Basic JSONL DataFrame Operations Example\n",
    "\n",
    "This notebook demonstrates the basic operations of the `jsonldf` package with pandas DataFrames.\n",
    "We'll create a simple dataset, save it to JSONL format, and perform various operations."
   ]
  },
  {
   "cell_type": "code",
   "execution_count": 23,
   "metadata": {},
   "outputs": [],
   "source": [
    "import pandas as pd\n",
    "import sys\n",
    "import os\n",
    "from datetime import datetime\n",
    "\n",
    "# Add parent directory to path to import jsonlfile\n",
    "# sys.path.append(os.path.abspath(os.path.join(os.getcwd(), \"../../\")))\n",
    "\n",
    "\n"
   ]
  },
  {
   "cell_type": "code",
   "execution_count": 24,
   "metadata": {},
   "outputs": [],
   "source": [
    "from jsonldb.jsonldf import (\n",
    "    save_jsonldf, load_jsonldf, update_jsonldf,\n",
    "    select_jsonldf, delete_jsonldf, lint_jsonldf\n",
    ")"
   ]
  },
  {
   "cell_type": "markdown",
   "metadata": {},
   "source": [
    "## Create Sample DataFrame\n",
    "\n",
    "Let's create a simple DataFrame with user information."
   ]
  },
  {
   "cell_type": "code",
   "execution_count": 25,
   "metadata": {},
   "outputs": [
    {
     "name": "stdout",
     "output_type": "stream",
     "text": [
      "Original DataFrame:\n",
      "           name  age      city\n",
      "user_001   John   30  New York\n",
      "user_002  Alice   25    London\n",
      "user_003    Bob   35     Paris\n",
      "user_004  Carol   28     Tokyo\n"
     ]
    }
   ],
   "source": [
    "# Create sample DataFrame\n",
    "data = {\n",
    "    'name': ['John', 'Alice', 'Bob', 'Carol'],\n",
    "    'age': [30, 25, 35, 28],\n",
    "    'city': ['New York', 'London', 'Paris', 'Tokyo']\n",
    "}\n",
    "\n",
    "df = pd.DataFrame(data)\n",
    "df.index = [f'user_{i:03d}' for i in range(1, 5)]\n",
    "\n",
    "print(\"Original DataFrame:\")\n",
    "print(df)"
   ]
  },
  {
   "cell_type": "markdown",
   "metadata": {},
   "source": [
    "## Save DataFrame to JSONL\n",
    "\n",
    "Now we'll save our DataFrame to a JSONL file."
   ]
  },
  {
   "cell_type": "code",
   "execution_count": 26,
   "metadata": {},
   "outputs": [
    {
     "name": "stdout",
     "output_type": "stream",
     "text": [
      "Saving DataFrame to JSONL...\n"
     ]
    }
   ],
   "source": [
    "print(\"Saving DataFrame to JSONL...\")\n",
    "save_jsonldf('test_basic.jsonl', df)"
   ]
  },
  {
   "cell_type": "markdown",
   "metadata": {},
   "source": [
    "## Load and Verify Data\n",
    "\n",
    "Let's load the data back from the JSONL file to verify it was saved correctly."
   ]
  },
  {
   "cell_type": "code",
   "execution_count": 27,
   "metadata": {},
   "outputs": [
    {
     "name": "stdout",
     "output_type": "stream",
     "text": [
      "Loading DataFrame from JSONL:\n",
      "           name  age      city\n",
      "user_001   John   30  New York\n",
      "user_002  Alice   25    London\n",
      "user_003    Bob   35     Paris\n",
      "user_004  Carol   28     Tokyo\n"
     ]
    }
   ],
   "source": [
    "print(\"Loading DataFrame from JSONL:\")\n",
    "loaded_df = load_jsonldf('test_basic.jsonl')\n",
    "print(loaded_df)"
   ]
  },
  {
   "cell_type": "markdown",
   "metadata": {},
   "source": [
    "## Update Records\n",
    "\n",
    "Now we'll update some records in our dataset."
   ]
  },
  {
   "cell_type": "code",
   "execution_count": 28,
   "metadata": {},
   "outputs": [
    {
     "name": "stdout",
     "output_type": "stream",
     "text": [
      "Updating records...\n",
      "\n",
      "Verifying updates:\n",
      "                   name  age        city\n",
      "user_003            Bob   35       Paris\n",
      "user_004          Carol   28       Tokyo\n",
      "user_001   John Updated   31      Boston\n",
      "user_002  Alice Updated   26  Manchester\n"
     ]
    }
   ],
   "source": [
    "print(\"Updating records...\")\n",
    "\n",
    "# Create updates DataFrame\n",
    "updates = pd.DataFrame({\n",
    "    'name': ['John Updated', 'Alice Updated'],\n",
    "    'age': [31, 26],\n",
    "    'city': ['Boston', 'Manchester']\n",
    "}, index=['user_001', 'user_002'])\n",
    "\n",
    "update_jsonldf('test_basic.jsonl', updates)\n",
    "\n",
    "# Verify updates\n",
    "print(\"\\nVerifying updates:\")\n",
    "updated_df = load_jsonldf('test_basic.jsonl')\n",
    "print(updated_df)"
   ]
  },
  {
   "cell_type": "markdown",
   "metadata": {},
   "source": [
    "## Select Range of Records\n",
    "\n",
    "Let's select a range of records from our dataset."
   ]
  },
  {
   "cell_type": "code",
   "execution_count": 29,
   "metadata": {},
   "outputs": [
    {
     "name": "stdout",
     "output_type": "stream",
     "text": [
      "Selecting records in range (user_001 to user_002):\n",
      "                   name  age        city\n",
      "user_001   John Updated   31      Boston\n",
      "user_002  Alice Updated   26  Manchester\n"
     ]
    }
   ],
   "source": [
    "print(\"Selecting records in range (user_001 to user_002):\")\n",
    "selected_df = select_jsonldf('test_basic.jsonl', ('user_001', 'user_002'))\n",
    "print(selected_df)"
   ]
  },
  {
   "cell_type": "markdown",
   "metadata": {},
   "source": [
    "## Delete Records\n",
    "\n",
    "Now we'll delete some records from our dataset."
   ]
  },
  {
   "cell_type": "code",
   "execution_count": 30,
   "metadata": {},
   "outputs": [
    {
     "name": "stdout",
     "output_type": "stream",
     "text": [
      "Deleting records (user_001, user_003)...\n",
      "\n",
      "Verifying deletions:\n",
      "                   name  age        city\n",
      "user_004          Carol   28       Tokyo\n",
      "user_002  Alice Updated   26  Manchester\n"
     ]
    }
   ],
   "source": [
    "print(\"Deleting records (user_001, user_003)...\")\n",
    "delete_jsonldf('test_basic.jsonl', ['user_001', 'user_003'])\n",
    "\n",
    "# Verify deletions\n",
    "print(\"\\nVerifying deletions:\")\n",
    "deleted_df = load_jsonldf('test_basic.jsonl')\n",
    "print(deleted_df)"
   ]
  },
  {
   "cell_type": "markdown",
   "metadata": {},
   "source": [
    "## Lint the File\n",
    "\n",
    "Finally, let's sort and clean our JSONL file."
   ]
  },
  {
   "cell_type": "code",
   "execution_count": 31,
   "metadata": {},
   "outputs": [
    {
     "name": "stdout",
     "output_type": "stream",
     "text": [
      "Sorting and cleaning the file...\n",
      "\n",
      "Final state after lint:\n",
      "                   name  age        city\n",
      "user_002  Alice Updated   26  Manchester\n",
      "user_004          Carol   28       Tokyo\n"
     ]
    }
   ],
   "source": [
    "print(\"Sorting and cleaning the file...\")\n",
    "lint_jsonldf('test_basic.jsonl')\n",
    "\n",
    "# Show final state\n",
    "print(\"\\nFinal state after lint:\")\n",
    "final_df = load_jsonldf('test_basic.jsonl')\n",
    "print(final_df)"
   ]
  },
  {
   "cell_type": "markdown",
   "metadata": {},
   "source": [
    "## Cleanup\n",
    "\n",
    "Let's clean up our files."
   ]
  },
  {
   "cell_type": "code",
   "execution_count": 32,
   "metadata": {},
   "outputs": [
    {
     "name": "stdout",
     "output_type": "stream",
     "text": [
      "Cleaning up...\n",
      "Done!\n"
     ]
    }
   ],
   "source": [
    "print(\"Cleaning up...\")\n",
    "os.remove('test_basic.jsonl')\n",
    "os.remove('test_basic.jsonl.idx')\n",
    "print(\"Done!\")"
   ]
  }
 ],
 "metadata": {
  "kernelspec": {
   "display_name": "base",
   "language": "python",
   "name": "python3"
  },
  "language_info": {
   "codemirror_mode": {
    "name": "ipython",
    "version": 3
   },
   "file_extension": ".py",
   "mimetype": "text/x-python",
   "name": "python",
   "nbconvert_exporter": "python",
   "pygments_lexer": "ipython3",
   "version": "3.9.18"
  }
 },
 "nbformat": 4,
 "nbformat_minor": 4
}
