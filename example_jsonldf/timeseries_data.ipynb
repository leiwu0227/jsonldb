{
 "cells": [
  {
   "cell_type": "markdown",
   "metadata": {},
   "source": [
    "# Time Series Data Example\n",
    "\n",
    "This notebook demonstrates how to use the `jsonldf` package with time series data.\n",
    "We'll create simulated sensor data, save it in JSONL format, and perform various operations\n",
    "including time-based selection, updates, and data retention policies."
   ]
  },
  {
   "cell_type": "code",
   "execution_count": 1,
   "metadata": {},
   "outputs": [],
   "source": [
    "import pandas as pd\n",
    "import sys\n",
    "import os\n",
    "from datetime import datetime, timedelta\n",
    "import numpy as np\n",
    "import math\n",
    "import random\n",
    "\n",
    "# Add parent directory to path to import jsonldb\n",
    "sys.path.append(os.path.abspath(os.path.join(os.getcwd(), \"../../\")))\n",
    "\n",
    "from jsonldb.jsonldf import (\n",
    "    save_jsonldf, load_jsonldf, update_jsonldf,\n",
    "    select_jsonldf, delete_jsonldf, lint_jsonldf\n",
    ")"
   ]
  },
  {
   "cell_type": "markdown",
   "metadata": {},
   "source": [
    "## Generate Sensor Data\n",
    "\n",
    "Let's create a function to generate simulated sensor data with periodic variations."
   ]
  },
  {
   "cell_type": "code",
   "execution_count": 2,
   "metadata": {},
   "outputs": [],
   "source": [
    "def generate_sensor_data(start_time, num_points, sensor_id):\n",
    "    \"\"\"Generate simulated sensor data with periodic variations.\n",
    "    \n",
    "    Args:\n",
    "        start_time: Starting datetime\n",
    "        num_points: Number of data points to generate\n",
    "        sensor_id: Identifier for the sensor\n",
    "    \"\"\"\n",
    "    # Generate timestamps\n",
    "    timestamps = [start_time + timedelta(minutes=5*i) for i in range(num_points)]\n",
    "    \n",
    "    # Generate data with periodic variations\n",
    "    data = []\n",
    "    for t in timestamps:\n",
    "        # Add daily variation\n",
    "        hour_factor = math.sin(2 * math.pi * t.hour / 24)\n",
    "        \n",
    "        # Base values with some randomness\n",
    "        temperature = 25 + 5 * hour_factor + random.uniform(-1, 1)\n",
    "        humidity = 60 + 10 * hour_factor + random.uniform(-2, 2)\n",
    "        \n",
    "        data.append({\n",
    "            'timestamp': t,\n",
    "            'sensor_id': sensor_id,\n",
    "            'temperature': temperature,\n",
    "            'humidity': humidity,\n",
    "            'status': 'normal' if temperature < 30 else 'warning'\n",
    "        })\n",
    "    \n",
    "    return pd.DataFrame(data)"
   ]
  },
  {
   "cell_type": "markdown",
   "metadata": {},
   "source": [
    "## Create and Save Initial Data\n",
    "\n",
    "Generate data for multiple sensors over a 24-hour period."
   ]
  },
  {
   "cell_type": "code",
   "execution_count": 3,
   "metadata": {},
   "outputs": [
    {
     "name": "stdout",
     "output_type": "stream",
     "text": [
      "Generated data shape: (288, 4)\n",
      "\n",
      "Sample of data:\n",
      "                     sensor_id  temperature   humidity  status\n",
      "timestamp                                                     \n",
      "2024-01-01 00:00:00  sensor_00    25.211679  61.506890  normal\n",
      "2024-01-01 00:05:00  sensor_00    25.321086  59.022296  normal\n",
      "2024-01-01 00:10:00  sensor_00    24.576836  61.098418  normal\n",
      "2024-01-01 00:15:00  sensor_00    24.706252  60.416932  normal\n",
      "2024-01-01 00:20:00  sensor_00    25.836592  60.709151  normal\n"
     ]
    }
   ],
   "source": [
    "# Generate data for multiple sensors\n",
    "start_time = datetime(2024, 1, 1, 0, 0)\n",
    "num_points = 24 * 12  # 5-minute intervals for 24 hours\n",
    "\n",
    "dfs = []\n",
    "for sensor_id in ['sensor_00', 'sensor_01', 'sensor_02']:\n",
    "    df = generate_sensor_data(start_time, num_points, sensor_id)\n",
    "    dfs.append(df)\n",
    "\n",
    "# Combine all sensor data\n",
    "df = pd.concat(dfs)\n",
    "df.set_index('timestamp', inplace=True)\n",
    "\n",
    "# Remove duplicate index data\n",
    "df = df[~df.index.duplicated(keep='first')]\n",
    "\n",
    "print(\"Generated data shape:\", df.shape)\n",
    "print(\"\\nSample of data:\")\n",
    "print(df.head())"
   ]
  },
  {
   "cell_type": "code",
   "execution_count": 4,
   "metadata": {},
   "outputs": [
    {
     "name": "stdout",
     "output_type": "stream",
     "text": [
      "DataFrame index is unique.\n"
     ]
    }
   ],
   "source": [
    "# Check if the DataFrame index is unique\n",
    "if not df.index.is_unique:\n",
    "    print(\"Duplicate indices found:\")\n",
    "    print(df[df.index.duplicated(keep=False)])\n",
    "else:\n",
    "    print(\"DataFrame index is unique.\")\n"
   ]
  },
  {
   "cell_type": "markdown",
   "metadata": {},
   "source": [
    "## Save Data to JSONL\n",
    "\n",
    "Save the generated data to a JSONL file."
   ]
  },
  {
   "cell_type": "code",
   "execution_count": 5,
   "metadata": {},
   "outputs": [
    {
     "name": "stdout",
     "output_type": "stream",
     "text": [
      "Saving data to JSONL...\n"
     ]
    }
   ],
   "source": [
    "print(\"Saving data to JSONL...\")\n",
    "save_jsonldf('sensor_data.jsonl', df)"
   ]
  },
  {
   "cell_type": "markdown",
   "metadata": {},
   "source": [
    "## Select Recent Data\n",
    "\n",
    "Select the last 6 hours of data for sensor_00."
   ]
  },
  {
   "cell_type": "code",
   "execution_count": 6,
   "metadata": {},
   "outputs": [
    {
     "name": "stdout",
     "output_type": "stream",
     "text": [
      "Selecting data between 2024-01-01 18:00:00 and 2024-01-02 00:00:00 for sensor_00\n",
      "\n",
      "Recent data:\n",
      "                     sensor_id  temperature   humidity  status\n",
      "2024-01-01 00:00:00  sensor_00    25.211679  61.506890  normal\n",
      "2024-01-01 00:05:00  sensor_00    25.321086  59.022296  normal\n",
      "2024-01-01 00:10:00  sensor_00    24.576836  61.098418  normal\n",
      "2024-01-01 00:15:00  sensor_00    24.706252  60.416932  normal\n",
      "2024-01-01 00:20:00  sensor_00    25.836592  60.709151  normal\n",
      "...                        ...          ...        ...     ...\n",
      "2024-01-01 23:35:00  sensor_00    23.605049  56.265599  normal\n",
      "2024-01-01 23:40:00  sensor_00    23.378021  56.151184  normal\n",
      "2024-01-01 23:45:00  sensor_00    23.190718  56.643788  normal\n",
      "2024-01-01 23:50:00  sensor_00    24.535305  59.226843  normal\n",
      "2024-01-01 23:55:00  sensor_00    24.421930  57.750804  normal\n",
      "\n",
      "[288 rows x 4 columns]\n"
     ]
    }
   ],
   "source": [
    "# Select last 6 hours of data for sensor_00\n",
    "end_time = start_time + timedelta(hours=24)\n",
    "start_time = end_time - timedelta(hours=6)\n",
    "\n",
    "print(f\"Selecting data between {start_time} and {end_time} for sensor_00\")\n",
    "recent_data = select_jsonldf('sensor_data.jsonl', (start_time.isoformat(), end_time.isoformat()))\n",
    "recent_data = recent_data[recent_data['sensor_id'] == 'sensor_00']\n",
    "\n",
    "print(\"\\nRecent data:\")\n",
    "print(recent_data)"
   ]
  },
  {
   "cell_type": "markdown",
   "metadata": {},
   "source": [
    "## Calculate Statistics\n",
    "\n",
    "Calculate basic statistics for the selected data."
   ]
  },
  {
   "cell_type": "code",
   "execution_count": 7,
   "metadata": {},
   "outputs": [
    {
     "name": "stdout",
     "output_type": "stream",
     "text": [
      "\n",
      "Statistics for recent data:\n",
      "Temperature:\n",
      "  Average: 25.03°C\n",
      "  Min: 19.01°C\n",
      "  Max: 30.97°C\n",
      "\n",
      "Humidity:\n",
      "  Average: 60.16%\n",
      "  Min: 48.19%\n",
      "  Max: 71.62%\n"
     ]
    }
   ],
   "source": [
    "print(\"\\nStatistics for recent data:\")\n",
    "print(\"Temperature:\")\n",
    "print(f\"  Average: {recent_data['temperature'].mean():.2f}°C\")\n",
    "print(f\"  Min: {recent_data['temperature'].min():.2f}°C\")\n",
    "print(f\"  Max: {recent_data['temperature'].max():.2f}°C\")\n",
    "\n",
    "print(\"\\nHumidity:\")\n",
    "print(f\"  Average: {recent_data['humidity'].mean():.2f}%\")\n",
    "print(f\"  Min: {recent_data['humidity'].min():.2f}%\")\n",
    "print(f\"  Max: {recent_data['humidity'].max():.2f}%\")"
   ]
  },
  {
   "cell_type": "markdown",
   "metadata": {},
   "source": [
    "## Apply Calibration\n",
    "\n",
    "Apply a temperature calibration of +0.5°C to sensor_00 readings."
   ]
  },
  {
   "cell_type": "code",
   "execution_count": 8,
   "metadata": {},
   "outputs": [
    {
     "name": "stdout",
     "output_type": "stream",
     "text": [
      "\n",
      "Applying temperature calibration...\n",
      "\n",
      "Verifying calibration:\n",
      "                     sensor_id  temperature   humidity  status\n",
      "2024-01-01 00:00:00  sensor_00    25.711679  61.506890  normal\n",
      "2024-01-01 00:05:00  sensor_00    25.821086  59.022296  normal\n",
      "2024-01-01 00:10:00  sensor_00    25.076836  61.098418  normal\n",
      "2024-01-01 00:15:00  sensor_00    25.206252  60.416932  normal\n",
      "2024-01-01 00:20:00  sensor_00    26.336592  60.709151  normal\n",
      "...                        ...          ...        ...     ...\n",
      "2024-01-01 23:35:00  sensor_00    24.105049  56.265599  normal\n",
      "2024-01-01 23:40:00  sensor_00    23.878021  56.151184  normal\n",
      "2024-01-01 23:45:00  sensor_00    23.690718  56.643788  normal\n",
      "2024-01-01 23:50:00  sensor_00    25.035305  59.226843  normal\n",
      "2024-01-01 23:55:00  sensor_00    24.921930  57.750804  normal\n",
      "\n",
      "[288 rows x 4 columns]\n"
     ]
    }
   ],
   "source": [
    "print(\"\\nApplying temperature calibration...\")\n",
    "\n",
    "# Create updates DataFrame with calibrated temperatures\n",
    "updates = recent_data.copy()\n",
    "updates['temperature'] += 0.5\n",
    "\n",
    "update_jsonldf('sensor_data.jsonl', updates)\n",
    "\n",
    "# Verify calibration\n",
    "print(\"\\nVerifying calibration:\")\n",
    "calibrated_data = select_jsonldf('sensor_data.jsonl', (start_time.isoformat(), end_time.isoformat()))\n",
    "calibrated_data = calibrated_data[calibrated_data['sensor_id'] == 'sensor_00']\n",
    "print(calibrated_data)"
   ]
  },
  {
   "cell_type": "markdown",
   "metadata": {},
   "source": [
    "## Apply Data Retention Policy\n",
    "\n",
    "Delete data older than 20 hours based on retention policy."
   ]
  },
  {
   "cell_type": "code",
   "execution_count": 9,
   "metadata": {},
   "outputs": [
    {
     "name": "stdout",
     "output_type": "stream",
     "text": [
      "\n",
      "Deleting data older than 2024-01-01 04:00:00\n"
     ]
    }
   ],
   "source": [
    "# Delete old data\n",
    "cutoff_time = end_time - timedelta(hours=20)\n",
    "print(f\"\\nDeleting data older than {cutoff_time}\")\n",
    "\n",
    "# Get all timestamps to delete\n",
    "all_data = load_jsonldf('sensor_data.jsonl')\n",
    "timestamps_to_delete = all_data[all_data.index < cutoff_time].index\n",
    "\n",
    "delete_jsonldf('sensor_data.jsonl', [t.isoformat() for t in timestamps_to_delete])"
   ]
  },
  {
   "cell_type": "markdown",
   "metadata": {},
   "source": [
    "## Verify Final State\n",
    "\n",
    "Check the final state of the data after all operations."
   ]
  },
  {
   "cell_type": "code",
   "execution_count": 10,
   "metadata": {},
   "outputs": [
    {
     "name": "stdout",
     "output_type": "stream",
     "text": [
      "\n",
      "Final data summary:\n",
      "Total readings: 240\n",
      "Oldest reading: 2024-01-01 04:00:00\n",
      "Newest reading: 2024-01-01 23:55:00\n",
      "\n",
      "Readings per sensor:\n",
      "sensor_00    240\n",
      "Name: sensor_id, dtype: int64\n"
     ]
    }
   ],
   "source": [
    "print(\"\\nFinal data summary:\")\n",
    "final_data = load_jsonldf('sensor_data.jsonl')\n",
    "print(f\"Total readings: {len(final_data)}\")\n",
    "print(f\"Oldest reading: {final_data.index.min()}\")\n",
    "print(f\"Newest reading: {final_data.index.max()}\")\n",
    "print(\"\\nReadings per sensor:\")\n",
    "print(final_data['sensor_id'].value_counts())"
   ]
  },
  {
   "cell_type": "markdown",
   "metadata": {},
   "source": [
    "## Cleanup\n",
    "\n",
    "Remove the JSONL file and its index."
   ]
  },
  {
   "cell_type": "code",
   "execution_count": 11,
   "metadata": {},
   "outputs": [
    {
     "name": "stdout",
     "output_type": "stream",
     "text": [
      "\n",
      "Cleaning up...\n",
      "Done!\n"
     ]
    }
   ],
   "source": [
    "print(\"\\nCleaning up...\")\n",
    "os.remove('sensor_data.jsonl')\n",
    "os.remove('sensor_data.jsonl.idx')\n",
    "print(\"Done!\")"
   ]
  },
  {
   "cell_type": "code",
   "execution_count": null,
   "metadata": {},
   "outputs": [],
   "source": []
  }
 ],
 "metadata": {
  "kernelspec": {
   "display_name": "base",
   "language": "python",
   "name": "python3"
  },
  "language_info": {
   "codemirror_mode": {
    "name": "ipython",
    "version": 3
   },
   "file_extension": ".py",
   "mimetype": "text/x-python",
   "name": "python",
   "nbconvert_exporter": "python",
   "pygments_lexer": "ipython3",
   "version": "3.9.18"
  }
 },
 "nbformat": 4,
 "nbformat_minor": 4
}
