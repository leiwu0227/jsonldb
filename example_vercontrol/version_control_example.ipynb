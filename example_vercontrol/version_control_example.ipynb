{
 "cells": [
  {
   "cell_type": "markdown",
   "metadata": {},
   "source": [
    "# Version Control Example\n",
    "\n",
    "This notebook demonstrates how to use the version control functions to manage JSONL files using Git. We'll walk through the process step by step, showing how to:\n",
    "\n",
    "1. Initialize a Git repository\n",
    "2. Create and commit sample data\n",
    "3. Track different versions\n",
    "4. Revert to previous versions\n",
    "\n",
    "## Setup and Imports"
   ]
  },
  {
   "cell_type": "code",
   "execution_count": 1,
   "metadata": {},
   "outputs": [],
   "source": [
    "import os\n",
    "import sys\n",
    "import json\n",
    "from datetime import datetime\n",
    "import shutil\n",
    "\n",
    "# Add parent directory to path to import vercontrol\n",
    "sys.path.append(os.path.dirname(os.path.dirname(os.path.abspath('.'))))\n",
    "from vercontrol import init_folder, commit, list_version, revert"
   ]
  },
  {
   "cell_type": "markdown",
   "metadata": {},
   "source": [
    "## Helper Function for Sample Data\n",
    "\n",
    "We'll create a helper function to generate sample JSONL data for our example:"
   ]
  },
  {
   "cell_type": "code",
   "execution_count": 2,
   "metadata": {},
   "outputs": [],
   "source": [
    "def create_sample_data(folder_path: str, version: int) -> None:\n",
    "    \"\"\"Create sample JSONL data for testing.\n",
    "    \n",
    "    Args:\n",
    "        folder_path (str): Path to create the data\n",
    "        version (int): Version number for the data\n",
    "    \"\"\"\n",
    "    # Create sample data\n",
    "    data = {\n",
    "        \"version\": version,\n",
    "        \"timestamp\": datetime.now().isoformat(),\n",
    "        \"records\": [\n",
    "            {\"id\": 1, \"value\": f\"test_value_{version}_1\"},\n",
    "            {\"id\": 2, \"value\": f\"test_value_{version}_2\"}\n",
    "        ]\n",
    "    }\n",
    "    \n",
    "    # Save to JSONL file\n",
    "    with open(os.path.join(folder_path, \"data.jsonl\"), \"w\") as f:\n",
    "        for record in data[\"records\"]:\n",
    "            f.write(json.dumps(record) + \"\\n\")"
   ]
  },
  {
   "cell_type": "markdown",
   "metadata": {},
   "source": [
    "## Step 1: Create Test Environment\n",
    "\n",
    "First, let's create a test folder and clean up any existing one:"
   ]
  },
  {
   "cell_type": "code",
   "execution_count": 3,
   "metadata": {},
   "outputs": [
    {
     "name": "stdout",
     "output_type": "stream",
     "text": [
      "Created test folder: test_version_control\n"
     ]
    }
   ],
   "source": [
    "# Create a test folder\n",
    "test_folder = \"test_version_control\"\n",
    "if os.path.exists(test_folder):\n",
    "    shutil.rmtree(test_folder)\n",
    "os.makedirs(test_folder)\n",
    "print(f\"Created test folder: {test_folder}\")"
   ]
  },
  {
   "cell_type": "markdown",
   "metadata": {},
   "source": [
    "## Step 2: Initialize Git Repository\n",
    "\n",
    "Now, let's initialize the folder as a Git repository:"
   ]
  },
  {
   "cell_type": "code",
   "execution_count": 4,
   "metadata": {},
   "outputs": [
    {
     "name": "stdout",
     "output_type": "stream",
     "text": [
      "Initializing git repository...\n",
      "Initialized git repository in test_version_control\n"
     ]
    }
   ],
   "source": [
    "print(\"Initializing git repository...\")\n",
    "init_folder(test_folder)"
   ]
  },
  {
   "cell_type": "markdown",
   "metadata": {},
   "source": [
    "## Step 3: Create and Commit Initial Data\n",
    "\n",
    "Let's create our first version of data and commit it:"
   ]
  },
  {
   "cell_type": "code",
   "execution_count": 5,
   "metadata": {},
   "outputs": [
    {
     "name": "stdout",
     "output_type": "stream",
     "text": [
      "Creating initial data...\n",
      "Committed changes with message: Auto Commit: 2025-03-25@23-41\n"
     ]
    }
   ],
   "source": [
    "print(\"Creating initial data...\")\n",
    "create_sample_data(test_folder, 1)\n",
    "commit(test_folder)"
   ]
  },
  {
   "cell_type": "markdown",
   "metadata": {},
   "source": [
    "## Step 4: Create and Commit Updated Data\n",
    "\n",
    "Now, let's create a second version with updated data and commit it with a custom message:"
   ]
  },
  {
   "cell_type": "code",
   "execution_count": 6,
   "metadata": {},
   "outputs": [
    {
     "name": "stdout",
     "output_type": "stream",
     "text": [
      "Creating updated data...\n",
      "Committed changes with message: Manual Commit: 2025-03-25@23-41 Updated test values\n"
     ]
    }
   ],
   "source": [
    "print(\"Creating updated data...\")\n",
    "create_sample_data(test_folder, 2)\n",
    "commit(test_folder, \"Updated test values\")"
   ]
  },
  {
   "cell_type": "markdown",
   "metadata": {},
   "source": [
    "## Step 5: Create and Commit More Data\n",
    "\n",
    "Let's create a third version with more data:"
   ]
  },
  {
   "cell_type": "code",
   "execution_count": 7,
   "metadata": {},
   "outputs": [
    {
     "name": "stdout",
     "output_type": "stream",
     "text": [
      "Creating more data...\n",
      "Committed changes with message: Auto Commit: 2025-03-25@23-41\n"
     ]
    }
   ],
   "source": [
    "print(\"Creating more data...\")\n",
    "create_sample_data(test_folder, 3)\n",
    "commit(test_folder)"
   ]
  },
  {
   "cell_type": "markdown",
   "metadata": {},
   "source": [
    "## Step 6: List All Versions\n",
    "\n",
    "Let's see all the commits we've made:"
   ]
  },
  {
   "cell_type": "code",
   "execution_count": 8,
   "metadata": {},
   "outputs": [
    {
     "name": "stdout",
     "output_type": "stream",
     "text": [
      "Listing all versions:\n",
      "Hash: 517def2d... Message: Auto Commit: 2025-03-25@23-41\n",
      "Hash: c17a1130... Message: Manual Commit: 2025-03-25@23-41 Updated test values\n",
      "Hash: 53e1edec... Message: Auto Commit: 2025-03-25@23-41\n"
     ]
    }
   ],
   "source": [
    "print(\"Listing all versions:\")\n",
    "versions = list_version(test_folder)\n",
    "for hash_value, msg in versions.items():\n",
    "    print(f\"Hash: {hash_value[:8]}... Message: {msg}\")"
   ]
  },
  {
   "cell_type": "markdown",
   "metadata": {},
   "source": [
    "## Step 7: Revert to First Version\n",
    "\n",
    "Now, let's revert back to the first version:"
   ]
  },
  {
   "cell_type": "code",
   "execution_count": 9,
   "metadata": {},
   "outputs": [
    {
     "name": "stdout",
     "output_type": "stream",
     "text": [
      "Reverting to first version...\n",
      "Reverted to commit 53e1edec9d9020582bfded72e1acbeaadcf02b40\n"
     ]
    }
   ],
   "source": [
    "print(\"Reverting to first version...\")\n",
    "first_commit = list(versions.keys())[-1]  # Get the first commit hash\n",
    "revert(test_folder, first_commit)"
   ]
  },
  {
   "cell_type": "markdown",
   "metadata": {},
   "source": [
    "## Step 8: Verify Reversion\n",
    "\n",
    "Let's check the versions again to confirm the reversion:"
   ]
  },
  {
   "cell_type": "code",
   "execution_count": 10,
   "metadata": {},
   "outputs": [
    {
     "name": "stdout",
     "output_type": "stream",
     "text": [
      "Listing versions after revert:\n",
      "Hash: 53e1edec... Message: Auto Commit: 2025-03-25@23-41\n"
     ]
    }
   ],
   "source": [
    "print(\"Listing versions after revert:\")\n",
    "versions = list_version(test_folder)\n",
    "for hash_value, msg in versions.items():\n",
    "    print(f\"Hash: {hash_value[:8]}... Message: {msg}\")"
   ]
  },
  {
   "cell_type": "markdown",
   "metadata": {},
   "source": [
    "## Step 9: Clean Up\n",
    "\n",
    "Finally, let's clean up our test environment:"
   ]
  },
  {
   "cell_type": "code",
   "execution_count": 11,
   "metadata": {},
   "outputs": [
    {
     "name": "stdout",
     "output_type": "stream",
     "text": [
      "Cleaning up...\n"
     ]
    },
    {
     "ename": "PermissionError",
     "evalue": "[WinError 32] The process cannot access the file because it is being used by another process: 'test_version_control'",
     "output_type": "error",
     "traceback": [
      "\u001b[1;31m---------------------------------------------------------------------------\u001b[0m",
      "\u001b[1;31mPermissionError\u001b[0m                           Traceback (most recent call last)",
      "Cell \u001b[1;32mIn[11], line 2\u001b[0m\n\u001b[0;32m      1\u001b[0m \u001b[38;5;28mprint\u001b[39m(\u001b[38;5;124m\"\u001b[39m\u001b[38;5;124mCleaning up...\u001b[39m\u001b[38;5;124m\"\u001b[39m)\n\u001b[1;32m----> 2\u001b[0m \u001b[43mshutil\u001b[49m\u001b[38;5;241;43m.\u001b[39;49m\u001b[43mrmtree\u001b[49m\u001b[43m(\u001b[49m\u001b[43mtest_folder\u001b[49m\u001b[43m)\u001b[49m\n\u001b[0;32m      3\u001b[0m \u001b[38;5;28mprint\u001b[39m(\u001b[38;5;124m\"\u001b[39m\u001b[38;5;124mExample completed successfully!\u001b[39m\u001b[38;5;124m\"\u001b[39m)\n",
      "File \u001b[1;32mh:\\valcap\\software\\anaconda3\\lib\\shutil.py:759\u001b[0m, in \u001b[0;36mrmtree\u001b[1;34m(path, ignore_errors, onerror)\u001b[0m\n\u001b[0;32m    757\u001b[0m     \u001b[38;5;66;03m# can't continue even if onerror hook returns\u001b[39;00m\n\u001b[0;32m    758\u001b[0m     \u001b[38;5;28;01mreturn\u001b[39;00m\n\u001b[1;32m--> 759\u001b[0m \u001b[38;5;28;01mreturn\u001b[39;00m \u001b[43m_rmtree_unsafe\u001b[49m\u001b[43m(\u001b[49m\u001b[43mpath\u001b[49m\u001b[43m,\u001b[49m\u001b[43m \u001b[49m\u001b[43monerror\u001b[49m\u001b[43m)\u001b[49m\n",
      "File \u001b[1;32mh:\\valcap\\software\\anaconda3\\lib\\shutil.py:633\u001b[0m, in \u001b[0;36m_rmtree_unsafe\u001b[1;34m(path, onerror)\u001b[0m\n\u001b[0;32m    631\u001b[0m     os\u001b[38;5;241m.\u001b[39mrmdir(path)\n\u001b[0;32m    632\u001b[0m \u001b[38;5;28;01mexcept\u001b[39;00m \u001b[38;5;167;01mOSError\u001b[39;00m:\n\u001b[1;32m--> 633\u001b[0m     \u001b[43monerror\u001b[49m\u001b[43m(\u001b[49m\u001b[43mos\u001b[49m\u001b[38;5;241;43m.\u001b[39;49m\u001b[43mrmdir\u001b[49m\u001b[43m,\u001b[49m\u001b[43m \u001b[49m\u001b[43mpath\u001b[49m\u001b[43m,\u001b[49m\u001b[43m \u001b[49m\u001b[43msys\u001b[49m\u001b[38;5;241;43m.\u001b[39;49m\u001b[43mexc_info\u001b[49m\u001b[43m(\u001b[49m\u001b[43m)\u001b[49m\u001b[43m)\u001b[49m\n",
      "File \u001b[1;32mh:\\valcap\\software\\anaconda3\\lib\\shutil.py:631\u001b[0m, in \u001b[0;36m_rmtree_unsafe\u001b[1;34m(path, onerror)\u001b[0m\n\u001b[0;32m    629\u001b[0m             onerror(os\u001b[38;5;241m.\u001b[39munlink, fullname, sys\u001b[38;5;241m.\u001b[39mexc_info())\n\u001b[0;32m    630\u001b[0m \u001b[38;5;28;01mtry\u001b[39;00m:\n\u001b[1;32m--> 631\u001b[0m     \u001b[43mos\u001b[49m\u001b[38;5;241;43m.\u001b[39;49m\u001b[43mrmdir\u001b[49m\u001b[43m(\u001b[49m\u001b[43mpath\u001b[49m\u001b[43m)\u001b[49m\n\u001b[0;32m    632\u001b[0m \u001b[38;5;28;01mexcept\u001b[39;00m \u001b[38;5;167;01mOSError\u001b[39;00m:\n\u001b[0;32m    633\u001b[0m     onerror(os\u001b[38;5;241m.\u001b[39mrmdir, path, sys\u001b[38;5;241m.\u001b[39mexc_info())\n",
      "\u001b[1;31mPermissionError\u001b[0m: [WinError 32] The process cannot access the file because it is being used by another process: 'test_version_control'"
     ]
    }
   ],
   "source": [
    "print(\"Cleaning up...\")\n",
    "shutil.rmtree(test_folder)\n",
    "print(\"Example completed successfully!\")"
   ]
  }
 ],
 "metadata": {
  "kernelspec": {
   "display_name": "base",
   "language": "python",
   "name": "python3"
  },
  "language_info": {
   "codemirror_mode": {
    "name": "ipython",
    "version": 3
   },
   "file_extension": ".py",
   "mimetype": "text/x-python",
   "name": "python",
   "nbconvert_exporter": "python",
   "pygments_lexer": "ipython3",
   "version": "3.9.18"
  }
 },
 "nbformat": 4,
 "nbformat_minor": 4
}
