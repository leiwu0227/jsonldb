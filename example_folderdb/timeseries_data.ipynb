{
 "cells": [
  {
   "cell_type": "markdown",
   "metadata": {},
   "source": [
    "# Time Series Data with FolderDB\n",
    "\n",
    "This notebook demonstrates how to work with time series data using the FolderDB class. We'll show:\n",
    "- Generating time series data with datetime keys\n",
    "- Storing and retrieving time-based records\n",
    "- Performing range queries with timestamps\n",
    "- Calculating statistics on time series data"
   ]
  },
  {
   "cell_type": "markdown",
   "metadata": {},
   "source": [
    "## Setup and Imports\n",
    "\n",
    "First, let's import the required libraries and set up our environment."
   ]
  },
  {
   "cell_type": "code",
   "execution_count": 2,
   "metadata": {},
   "outputs": [],
   "source": [
    "import os\n",
    "import pandas as pd\n",
    "import numpy as np\n",
    "from datetime import datetime, timedelta\n",
    "from folderdb import FolderDB"
   ]
  },
  {
   "cell_type": "markdown",
   "metadata": {},
   "source": [
    "## Initialize Database\n",
    "\n",
    "Let's create a folder for our database and initialize the FolderDB instance."
   ]
  },
  {
   "cell_type": "code",
   "execution_count": 3,
   "metadata": {},
   "outputs": [],
   "source": [
    "# Create a folder for our database\n",
    "db_folder = \"timeseries_db\"\n",
    "os.makedirs(db_folder, exist_ok=True)\n",
    "\n",
    "# Initialize the database\n",
    "db = FolderDB(db_folder)"
   ]
  },
  {
   "cell_type": "markdown",
   "metadata": {},
   "source": [
    "## Generate Sample Data\n",
    "\n",
    "Let's create a function to generate sample sensor data with temperature, humidity, and pressure readings."
   ]
  },
  {
   "cell_type": "code",
   "execution_count": 4,
   "metadata": {},
   "outputs": [
    {
     "name": "stdout",
     "output_type": "stream",
     "text": [
      "Sensor 1 Data (first 5 records):\n"
     ]
    },
    {
     "data": {
      "text/html": [
       "<div>\n",
       "<style scoped>\n",
       "    .dataframe tbody tr th:only-of-type {\n",
       "        vertical-align: middle;\n",
       "    }\n",
       "\n",
       "    .dataframe tbody tr th {\n",
       "        vertical-align: top;\n",
       "    }\n",
       "\n",
       "    .dataframe thead th {\n",
       "        text-align: right;\n",
       "    }\n",
       "</style>\n",
       "<table border=\"1\" class=\"dataframe\">\n",
       "  <thead>\n",
       "    <tr style=\"text-align: right;\">\n",
       "      <th></th>\n",
       "      <th>temperature</th>\n",
       "      <th>humidity</th>\n",
       "      <th>pressure</th>\n",
       "    </tr>\n",
       "  </thead>\n",
       "  <tbody>\n",
       "    <tr>\n",
       "      <th>2025-03-26 10:44:35.183498</th>\n",
       "      <td>23.6</td>\n",
       "      <td>52.7</td>\n",
       "      <td>1005.9</td>\n",
       "    </tr>\n",
       "    <tr>\n",
       "      <th>2025-03-26 10:45:35.183498</th>\n",
       "      <td>23.4</td>\n",
       "      <td>60.6</td>\n",
       "      <td>1014.5</td>\n",
       "    </tr>\n",
       "    <tr>\n",
       "      <th>2025-03-26 10:46:35.183498</th>\n",
       "      <td>27.8</td>\n",
       "      <td>52.5</td>\n",
       "      <td>1017.1</td>\n",
       "    </tr>\n",
       "    <tr>\n",
       "      <th>2025-03-26 10:47:35.183498</th>\n",
       "      <td>24.1</td>\n",
       "      <td>61.7</td>\n",
       "      <td>1016.1</td>\n",
       "    </tr>\n",
       "    <tr>\n",
       "      <th>2025-03-26 10:48:35.183498</th>\n",
       "      <td>28.8</td>\n",
       "      <td>57.6</td>\n",
       "      <td>1010.0</td>\n",
       "    </tr>\n",
       "  </tbody>\n",
       "</table>\n",
       "</div>"
      ],
      "text/plain": [
       "                            temperature  humidity  pressure\n",
       "2025-03-26 10:44:35.183498         23.6      52.7    1005.9\n",
       "2025-03-26 10:45:35.183498         23.4      60.6    1014.5\n",
       "2025-03-26 10:46:35.183498         27.8      52.5    1017.1\n",
       "2025-03-26 10:47:35.183498         24.1      61.7    1016.1\n",
       "2025-03-26 10:48:35.183498         28.8      57.6    1010.0"
      ]
     },
     "metadata": {},
     "output_type": "display_data"
    },
    {
     "name": "stdout",
     "output_type": "stream",
     "text": [
      "\n",
      "Sensor 2 Data (first 5 records):\n"
     ]
    },
    {
     "data": {
      "text/html": [
       "<div>\n",
       "<style scoped>\n",
       "    .dataframe tbody tr th:only-of-type {\n",
       "        vertical-align: middle;\n",
       "    }\n",
       "\n",
       "    .dataframe tbody tr th {\n",
       "        vertical-align: top;\n",
       "    }\n",
       "\n",
       "    .dataframe thead th {\n",
       "        text-align: right;\n",
       "    }\n",
       "</style>\n",
       "<table border=\"1\" class=\"dataframe\">\n",
       "  <thead>\n",
       "    <tr style=\"text-align: right;\">\n",
       "      <th></th>\n",
       "      <th>temperature</th>\n",
       "      <th>humidity</th>\n",
       "      <th>pressure</th>\n",
       "    </tr>\n",
       "  </thead>\n",
       "  <tbody>\n",
       "    <tr>\n",
       "      <th>2025-03-26 10:44:35.183498</th>\n",
       "      <td>24.2</td>\n",
       "      <td>65.2</td>\n",
       "      <td>1002.4</td>\n",
       "    </tr>\n",
       "    <tr>\n",
       "      <th>2025-03-26 10:45:35.183498</th>\n",
       "      <td>25.4</td>\n",
       "      <td>58.6</td>\n",
       "      <td>1015.1</td>\n",
       "    </tr>\n",
       "    <tr>\n",
       "      <th>2025-03-26 10:46:35.183498</th>\n",
       "      <td>24.9</td>\n",
       "      <td>63.0</td>\n",
       "      <td>1015.4</td>\n",
       "    </tr>\n",
       "    <tr>\n",
       "      <th>2025-03-26 10:47:35.183498</th>\n",
       "      <td>24.6</td>\n",
       "      <td>58.5</td>\n",
       "      <td>1011.1</td>\n",
       "    </tr>\n",
       "    <tr>\n",
       "      <th>2025-03-26 10:48:35.183498</th>\n",
       "      <td>27.0</td>\n",
       "      <td>68.2</td>\n",
       "      <td>1002.1</td>\n",
       "    </tr>\n",
       "  </tbody>\n",
       "</table>\n",
       "</div>"
      ],
      "text/plain": [
       "                            temperature  humidity  pressure\n",
       "2025-03-26 10:44:35.183498         24.2      65.2    1002.4\n",
       "2025-03-26 10:45:35.183498         25.4      58.6    1015.1\n",
       "2025-03-26 10:46:35.183498         24.9      63.0    1015.4\n",
       "2025-03-26 10:47:35.183498         24.6      58.5    1011.1\n",
       "2025-03-26 10:48:35.183498         27.0      68.2    1002.1"
      ]
     },
     "metadata": {},
     "output_type": "display_data"
    }
   ],
   "source": [
    "def generate_sensor_data(start_time: datetime, duration_minutes: int, interval_minutes: int = 1) -> pd.DataFrame:\n",
    "    \"\"\"Generate sample sensor data.\n",
    "    \n",
    "    Args:\n",
    "        start_time: Starting datetime\n",
    "        duration_minutes: Duration in minutes\n",
    "        interval_minutes: Time interval between readings in minutes\n",
    "        \n",
    "    Returns:\n",
    "        DataFrame with sensor readings\n",
    "    \"\"\"\n",
    "    # Generate timestamps\n",
    "    timestamps = [start_time + timedelta(minutes=i) for i in range(0, duration_minutes, interval_minutes)]\n",
    "    \n",
    "    # Generate random sensor data\n",
    "    data = {\n",
    "        'temperature': np.random.normal(25, 2, len(timestamps)),\n",
    "        'humidity': np.random.normal(60, 5, len(timestamps)),\n",
    "        'pressure': np.random.normal(1013, 5, len(timestamps))\n",
    "    }\n",
    "    \n",
    "    # Create DataFrame\n",
    "    df = pd.DataFrame(data, index=timestamps)\n",
    "    \n",
    "    # Round values\n",
    "    df['temperature'] = df['temperature'].round(1)\n",
    "    df['humidity'] = df['humidity'].round(1)\n",
    "    df['pressure'] = df['pressure'].round(1)\n",
    "    \n",
    "    return df\n",
    "\n",
    "# Generate data for two sensors\n",
    "start_time = datetime.now() - timedelta(hours=1)\n",
    "sensor1_data = generate_sensor_data(start_time, 60)\n",
    "sensor2_data = generate_sensor_data(start_time, 60)\n",
    "\n",
    "print(\"Sensor 1 Data (first 5 records):\")\n",
    "display(sensor1_data.head())\n",
    "print(\"\\nSensor 2 Data (first 5 records):\")\n",
    "display(sensor2_data.head())"
   ]
  },
  {
   "cell_type": "markdown",
   "metadata": {},
   "source": [
    "## Save Data to Database\n",
    "\n",
    "Now let's save our sensor data to the database using the `upsert_df` method."
   ]
  },
  {
   "cell_type": "code",
   "execution_count": 5,
   "metadata": {},
   "outputs": [
    {
     "name": "stdout",
     "output_type": "stream",
     "text": [
      "Database state after saving:\n",
      "FolderDB at timeseries_db\n",
      "--------------------------------------------------\n",
      "Found 2 JSONL files:\n",
      "\n",
      "sensor1.jsonl:\n",
      "  Size: 5160 bytes\n",
      "  Key range: 2025-03-26T10:44:35.183498 to 2025-03-26T11:43:35.183498\n",
      "  Count: 60\n",
      "\n",
      "sensor2.jsonl:\n",
      "  Size: 5159 bytes\n",
      "  Key range: 2025-03-26T10:44:35.183498 to 2025-03-26T11:43:35.183498\n",
      "  Count: 60\n"
     ]
    }
   ],
   "source": [
    "# Save DataFrames to database\n",
    "db.upsert_df(\"sensor1\", sensor1_data)\n",
    "db.upsert_df(\"sensor2\", sensor2_data)\n",
    "\n",
    "print(\"Database state after saving:\")\n",
    "print(str(db))"
   ]
  },
  {
   "cell_type": "markdown",
   "metadata": {},
   "source": [
    "## Query Recent Data\n",
    "\n",
    "Let's query the last 30 minutes of data from both sensors."
   ]
  },
  {
   "cell_type": "code",
   "execution_count": 6,
   "metadata": {},
   "outputs": [
    {
     "name": "stdout",
     "output_type": "stream",
     "text": [
      "Recent Sensor 1 Data:\n"
     ]
    },
    {
     "data": {
      "text/html": [
       "<div>\n",
       "<style scoped>\n",
       "    .dataframe tbody tr th:only-of-type {\n",
       "        vertical-align: middle;\n",
       "    }\n",
       "\n",
       "    .dataframe tbody tr th {\n",
       "        vertical-align: top;\n",
       "    }\n",
       "\n",
       "    .dataframe thead th {\n",
       "        text-align: right;\n",
       "    }\n",
       "</style>\n",
       "<table border=\"1\" class=\"dataframe\">\n",
       "  <thead>\n",
       "    <tr style=\"text-align: right;\">\n",
       "      <th></th>\n",
       "      <th>temperature</th>\n",
       "      <th>humidity</th>\n",
       "      <th>pressure</th>\n",
       "    </tr>\n",
       "  </thead>\n",
       "  <tbody>\n",
       "    <tr>\n",
       "      <th>2025-03-26T11:15:35.183498</th>\n",
       "      <td>24.5</td>\n",
       "      <td>64.5</td>\n",
       "      <td>1013.6</td>\n",
       "    </tr>\n",
       "    <tr>\n",
       "      <th>2025-03-26T11:16:35.183498</th>\n",
       "      <td>23.7</td>\n",
       "      <td>59.9</td>\n",
       "      <td>1016.1</td>\n",
       "    </tr>\n",
       "    <tr>\n",
       "      <th>2025-03-26T11:17:35.183498</th>\n",
       "      <td>29.7</td>\n",
       "      <td>60.1</td>\n",
       "      <td>1014.3</td>\n",
       "    </tr>\n",
       "    <tr>\n",
       "      <th>2025-03-26T11:18:35.183498</th>\n",
       "      <td>23.3</td>\n",
       "      <td>58.8</td>\n",
       "      <td>1005.7</td>\n",
       "    </tr>\n",
       "    <tr>\n",
       "      <th>2025-03-26T11:19:35.183498</th>\n",
       "      <td>23.4</td>\n",
       "      <td>45.9</td>\n",
       "      <td>1016.6</td>\n",
       "    </tr>\n",
       "  </tbody>\n",
       "</table>\n",
       "</div>"
      ],
      "text/plain": [
       "                            temperature  humidity  pressure\n",
       "2025-03-26T11:15:35.183498         24.5      64.5    1013.6\n",
       "2025-03-26T11:16:35.183498         23.7      59.9    1016.1\n",
       "2025-03-26T11:17:35.183498         29.7      60.1    1014.3\n",
       "2025-03-26T11:18:35.183498         23.3      58.8    1005.7\n",
       "2025-03-26T11:19:35.183498         23.4      45.9    1016.6"
      ]
     },
     "metadata": {},
     "output_type": "display_data"
    },
    {
     "name": "stdout",
     "output_type": "stream",
     "text": [
      "\n",
      "Recent Sensor 2 Data:\n"
     ]
    },
    {
     "data": {
      "text/html": [
       "<div>\n",
       "<style scoped>\n",
       "    .dataframe tbody tr th:only-of-type {\n",
       "        vertical-align: middle;\n",
       "    }\n",
       "\n",
       "    .dataframe tbody tr th {\n",
       "        vertical-align: top;\n",
       "    }\n",
       "\n",
       "    .dataframe thead th {\n",
       "        text-align: right;\n",
       "    }\n",
       "</style>\n",
       "<table border=\"1\" class=\"dataframe\">\n",
       "  <thead>\n",
       "    <tr style=\"text-align: right;\">\n",
       "      <th></th>\n",
       "      <th>temperature</th>\n",
       "      <th>humidity</th>\n",
       "      <th>pressure</th>\n",
       "    </tr>\n",
       "  </thead>\n",
       "  <tbody>\n",
       "    <tr>\n",
       "      <th>2025-03-26T11:15:35.183498</th>\n",
       "      <td>28.1</td>\n",
       "      <td>46.9</td>\n",
       "      <td>1009.2</td>\n",
       "    </tr>\n",
       "    <tr>\n",
       "      <th>2025-03-26T11:16:35.183498</th>\n",
       "      <td>25.8</td>\n",
       "      <td>56.4</td>\n",
       "      <td>1016.4</td>\n",
       "    </tr>\n",
       "    <tr>\n",
       "      <th>2025-03-26T11:17:35.183498</th>\n",
       "      <td>24.8</td>\n",
       "      <td>51.4</td>\n",
       "      <td>1015.5</td>\n",
       "    </tr>\n",
       "    <tr>\n",
       "      <th>2025-03-26T11:18:35.183498</th>\n",
       "      <td>26.7</td>\n",
       "      <td>54.7</td>\n",
       "      <td>1010.6</td>\n",
       "    </tr>\n",
       "    <tr>\n",
       "      <th>2025-03-26T11:19:35.183498</th>\n",
       "      <td>24.1</td>\n",
       "      <td>58.7</td>\n",
       "      <td>1006.5</td>\n",
       "    </tr>\n",
       "  </tbody>\n",
       "</table>\n",
       "</div>"
      ],
      "text/plain": [
       "                            temperature  humidity  pressure\n",
       "2025-03-26T11:15:35.183498         28.1      46.9    1009.2\n",
       "2025-03-26T11:16:35.183498         25.8      56.4    1016.4\n",
       "2025-03-26T11:17:35.183498         24.8      51.4    1015.5\n",
       "2025-03-26T11:18:35.183498         26.7      54.7    1010.6\n",
       "2025-03-26T11:19:35.183498         24.1      58.7    1006.5"
      ]
     },
     "metadata": {},
     "output_type": "display_data"
    }
   ],
   "source": [
    "# Get current time and calculate time range\n",
    "end_time = datetime.now()\n",
    "start_time = end_time - timedelta(minutes=30)\n",
    "\n",
    "# Query recent data\n",
    "recent_data = db.get_df([\"sensor1\", \"sensor2\"], lower_key=start_time, upper_key=end_time)\n",
    "\n",
    "print(\"Recent Sensor 1 Data:\")\n",
    "display(recent_data[\"sensor1\"].head())\n",
    "print(\"\\nRecent Sensor 2 Data:\")\n",
    "display(recent_data[\"sensor2\"].head())"
   ]
  },
  {
   "cell_type": "markdown",
   "metadata": {},
   "source": [
    "## Calculate Statistics\n",
    "\n",
    "Let's calculate some basic statistics on the sensor data."
   ]
  },
  {
   "cell_type": "code",
   "execution_count": 7,
   "metadata": {},
   "outputs": [
    {
     "name": "stdout",
     "output_type": "stream",
     "text": [
      "Sensor 1 Statistics:\n"
     ]
    },
    {
     "data": {
      "text/html": [
       "<div>\n",
       "<style scoped>\n",
       "    .dataframe tbody tr th:only-of-type {\n",
       "        vertical-align: middle;\n",
       "    }\n",
       "\n",
       "    .dataframe tbody tr th {\n",
       "        vertical-align: top;\n",
       "    }\n",
       "\n",
       "    .dataframe thead th {\n",
       "        text-align: right;\n",
       "    }\n",
       "</style>\n",
       "<table border=\"1\" class=\"dataframe\">\n",
       "  <thead>\n",
       "    <tr style=\"text-align: right;\">\n",
       "      <th></th>\n",
       "      <th>temperature</th>\n",
       "      <th>humidity</th>\n",
       "      <th>pressure</th>\n",
       "    </tr>\n",
       "  </thead>\n",
       "  <tbody>\n",
       "    <tr>\n",
       "      <th>count</th>\n",
       "      <td>60.000000</td>\n",
       "      <td>60.000000</td>\n",
       "      <td>60.000000</td>\n",
       "    </tr>\n",
       "    <tr>\n",
       "      <th>mean</th>\n",
       "      <td>24.800000</td>\n",
       "      <td>60.010000</td>\n",
       "      <td>1013.113333</td>\n",
       "    </tr>\n",
       "    <tr>\n",
       "      <th>std</th>\n",
       "      <td>1.995418</td>\n",
       "      <td>5.399049</td>\n",
       "      <td>4.298698</td>\n",
       "    </tr>\n",
       "    <tr>\n",
       "      <th>min</th>\n",
       "      <td>20.100000</td>\n",
       "      <td>45.600000</td>\n",
       "      <td>1004.300000</td>\n",
       "    </tr>\n",
       "    <tr>\n",
       "      <th>25%</th>\n",
       "      <td>23.400000</td>\n",
       "      <td>57.125000</td>\n",
       "      <td>1010.900000</td>\n",
       "    </tr>\n",
       "    <tr>\n",
       "      <th>50%</th>\n",
       "      <td>24.450000</td>\n",
       "      <td>60.000000</td>\n",
       "      <td>1012.950000</td>\n",
       "    </tr>\n",
       "    <tr>\n",
       "      <th>75%</th>\n",
       "      <td>26.050000</td>\n",
       "      <td>63.275000</td>\n",
       "      <td>1015.800000</td>\n",
       "    </tr>\n",
       "    <tr>\n",
       "      <th>max</th>\n",
       "      <td>29.700000</td>\n",
       "      <td>71.800000</td>\n",
       "      <td>1025.000000</td>\n",
       "    </tr>\n",
       "  </tbody>\n",
       "</table>\n",
       "</div>"
      ],
      "text/plain": [
       "       temperature   humidity     pressure\n",
       "count    60.000000  60.000000    60.000000\n",
       "mean     24.800000  60.010000  1013.113333\n",
       "std       1.995418   5.399049     4.298698\n",
       "min      20.100000  45.600000  1004.300000\n",
       "25%      23.400000  57.125000  1010.900000\n",
       "50%      24.450000  60.000000  1012.950000\n",
       "75%      26.050000  63.275000  1015.800000\n",
       "max      29.700000  71.800000  1025.000000"
      ]
     },
     "metadata": {},
     "output_type": "display_data"
    },
    {
     "name": "stdout",
     "output_type": "stream",
     "text": [
      "\n",
      "Sensor 2 Statistics:\n"
     ]
    },
    {
     "data": {
      "text/html": [
       "<div>\n",
       "<style scoped>\n",
       "    .dataframe tbody tr th:only-of-type {\n",
       "        vertical-align: middle;\n",
       "    }\n",
       "\n",
       "    .dataframe tbody tr th {\n",
       "        vertical-align: top;\n",
       "    }\n",
       "\n",
       "    .dataframe thead th {\n",
       "        text-align: right;\n",
       "    }\n",
       "</style>\n",
       "<table border=\"1\" class=\"dataframe\">\n",
       "  <thead>\n",
       "    <tr style=\"text-align: right;\">\n",
       "      <th></th>\n",
       "      <th>temperature</th>\n",
       "      <th>humidity</th>\n",
       "      <th>pressure</th>\n",
       "    </tr>\n",
       "  </thead>\n",
       "  <tbody>\n",
       "    <tr>\n",
       "      <th>count</th>\n",
       "      <td>60.000000</td>\n",
       "      <td>60.000000</td>\n",
       "      <td>60.000000</td>\n",
       "    </tr>\n",
       "    <tr>\n",
       "      <th>mean</th>\n",
       "      <td>25.333333</td>\n",
       "      <td>60.818333</td>\n",
       "      <td>1012.588333</td>\n",
       "    </tr>\n",
       "    <tr>\n",
       "      <th>std</th>\n",
       "      <td>1.937994</td>\n",
       "      <td>4.898720</td>\n",
       "      <td>5.751583</td>\n",
       "    </tr>\n",
       "    <tr>\n",
       "      <th>min</th>\n",
       "      <td>21.700000</td>\n",
       "      <td>46.900000</td>\n",
       "      <td>993.200000</td>\n",
       "    </tr>\n",
       "    <tr>\n",
       "      <th>25%</th>\n",
       "      <td>23.900000</td>\n",
       "      <td>58.250000</td>\n",
       "      <td>1009.150000</td>\n",
       "    </tr>\n",
       "    <tr>\n",
       "      <th>50%</th>\n",
       "      <td>24.900000</td>\n",
       "      <td>60.700000</td>\n",
       "      <td>1014.150000</td>\n",
       "    </tr>\n",
       "    <tr>\n",
       "      <th>75%</th>\n",
       "      <td>26.325000</td>\n",
       "      <td>64.700000</td>\n",
       "      <td>1016.175000</td>\n",
       "    </tr>\n",
       "    <tr>\n",
       "      <th>max</th>\n",
       "      <td>32.100000</td>\n",
       "      <td>69.500000</td>\n",
       "      <td>1023.500000</td>\n",
       "    </tr>\n",
       "  </tbody>\n",
       "</table>\n",
       "</div>"
      ],
      "text/plain": [
       "       temperature   humidity     pressure\n",
       "count    60.000000  60.000000    60.000000\n",
       "mean     25.333333  60.818333  1012.588333\n",
       "std       1.937994   4.898720     5.751583\n",
       "min      21.700000  46.900000   993.200000\n",
       "25%      23.900000  58.250000  1009.150000\n",
       "50%      24.900000  60.700000  1014.150000\n",
       "75%      26.325000  64.700000  1016.175000\n",
       "max      32.100000  69.500000  1023.500000"
      ]
     },
     "metadata": {},
     "output_type": "display_data"
    }
   ],
   "source": [
    "# Get all data\n",
    "all_data = db.get_df([\"sensor1\", \"sensor2\"])\n",
    "\n",
    "print(\"Sensor 1 Statistics:\")\n",
    "display(all_data[\"sensor1\"].describe())\n",
    "print(\"\\nSensor 2 Statistics:\")\n",
    "display(all_data[\"sensor2\"].describe())"
   ]
  },
  {
   "cell_type": "markdown",
   "metadata": {},
   "source": [
    "## Apply Calibration\n",
    "\n",
    "Let's apply a calibration factor to one of the sensors."
   ]
  },
  {
   "cell_type": "code",
   "execution_count": 8,
   "metadata": {},
   "outputs": [
    {
     "name": "stdout",
     "output_type": "stream",
     "text": [
      "Calibrated Sensor 1 Data (first 5 records):\n"
     ]
    },
    {
     "data": {
      "text/html": [
       "<div>\n",
       "<style scoped>\n",
       "    .dataframe tbody tr th:only-of-type {\n",
       "        vertical-align: middle;\n",
       "    }\n",
       "\n",
       "    .dataframe tbody tr th {\n",
       "        vertical-align: top;\n",
       "    }\n",
       "\n",
       "    .dataframe thead th {\n",
       "        text-align: right;\n",
       "    }\n",
       "</style>\n",
       "<table border=\"1\" class=\"dataframe\">\n",
       "  <thead>\n",
       "    <tr style=\"text-align: right;\">\n",
       "      <th></th>\n",
       "      <th>temperature</th>\n",
       "      <th>humidity</th>\n",
       "      <th>pressure</th>\n",
       "    </tr>\n",
       "  </thead>\n",
       "  <tbody>\n",
       "    <tr>\n",
       "      <th>2025-03-26T10:44:35.183498</th>\n",
       "      <td>25.96</td>\n",
       "      <td>52.7</td>\n",
       "      <td>1005.9</td>\n",
       "    </tr>\n",
       "    <tr>\n",
       "      <th>2025-03-26T10:45:35.183498</th>\n",
       "      <td>25.74</td>\n",
       "      <td>60.6</td>\n",
       "      <td>1014.5</td>\n",
       "    </tr>\n",
       "    <tr>\n",
       "      <th>2025-03-26T10:46:35.183498</th>\n",
       "      <td>30.58</td>\n",
       "      <td>52.5</td>\n",
       "      <td>1017.1</td>\n",
       "    </tr>\n",
       "    <tr>\n",
       "      <th>2025-03-26T10:47:35.183498</th>\n",
       "      <td>26.51</td>\n",
       "      <td>61.7</td>\n",
       "      <td>1016.1</td>\n",
       "    </tr>\n",
       "    <tr>\n",
       "      <th>2025-03-26T10:48:35.183498</th>\n",
       "      <td>31.68</td>\n",
       "      <td>57.6</td>\n",
       "      <td>1010.0</td>\n",
       "    </tr>\n",
       "  </tbody>\n",
       "</table>\n",
       "</div>"
      ],
      "text/plain": [
       "                            temperature  humidity  pressure\n",
       "2025-03-26T10:44:35.183498        25.96      52.7    1005.9\n",
       "2025-03-26T10:45:35.183498        25.74      60.6    1014.5\n",
       "2025-03-26T10:46:35.183498        30.58      52.5    1017.1\n",
       "2025-03-26T10:47:35.183498        26.51      61.7    1016.1\n",
       "2025-03-26T10:48:35.183498        31.68      57.6    1010.0"
      ]
     },
     "metadata": {},
     "output_type": "display_data"
    }
   ],
   "source": [
    "# Apply calibration to sensor1\n",
    "calibration_factor = 1.1\n",
    "sensor1_calibrated = all_data[\"sensor1\"].copy()\n",
    "sensor1_calibrated['temperature'] *= calibration_factor\n",
    "\n",
    "# Save calibrated data\n",
    "db.upsert_df(\"sensor1\", sensor1_calibrated)\n",
    "\n",
    "print(\"Calibrated Sensor 1 Data (first 5 records):\")\n",
    "display(sensor1_calibrated.head())"
   ]
  },
  {
   "cell_type": "markdown",
   "metadata": {},
   "source": [
    "## Delete Old Data\n",
    "\n",
    "Let's delete data older than 30 minutes."
   ]
  },
  {
   "cell_type": "code",
   "execution_count": 9,
   "metadata": {},
   "outputs": [
    {
     "name": "stdout",
     "output_type": "stream",
     "text": [
      "Database state after deletion:\n",
      "FolderDB at timeseries_db\n",
      "--------------------------------------------------\n",
      "Found 2 JSONL files:\n",
      "\n",
      "sensor1.jsonl:\n",
      "  Size: 10813 bytes\n",
      "  Key range: 2025-03-26T10:44:35.183498 to 2025-03-26T11:43:35.183498\n",
      "  Count: 119\n",
      "\n",
      "sensor2.jsonl:\n",
      "  Size: 5159 bytes\n",
      "  Key range: 2025-03-26T10:44:35.183498 to 2025-03-26T11:43:35.183498\n",
      "  Count: 60\n"
     ]
    }
   ],
   "source": [
    "# Delete old data from both sensors\n",
    "cutoff_time = datetime.now() - timedelta(minutes=30)\n",
    "\n",
    "db.delete_file_range(\"sensor1\", None, cutoff_time)\n",
    "db.delete_file_range(\"sensor2\", None, cutoff_time)\n",
    "\n",
    "print(\"Database state after deletion:\")\n",
    "print(str(db))"
   ]
  },
  {
   "cell_type": "markdown",
   "metadata": {},
   "source": [
    "## Cleanup\n",
    "\n",
    "Finally, let's clean up by removing the database folder and its contents."
   ]
  },
  {
   "cell_type": "code",
   "execution_count": 10,
   "metadata": {},
   "outputs": [
    {
     "name": "stdout",
     "output_type": "stream",
     "text": [
      "Database folder has been cleaned up.\n"
     ]
    }
   ],
   "source": [
    "# Cleanup\n",
    "for file in os.listdir(db_folder):\n",
    "    os.remove(os.path.join(db_folder, file))\n",
    "os.rmdir(db_folder)\n",
    "\n",
    "print(\"Database folder has been cleaned up.\")"
   ]
  },
  {
   "cell_type": "code",
   "execution_count": null,
   "metadata": {},
   "outputs": [],
   "source": []
  }
 ],
 "metadata": {
  "kernelspec": {
   "display_name": "base",
   "language": "python",
   "name": "python3"
  },
  "language_info": {
   "codemirror_mode": {
    "name": "ipython",
    "version": 3
   },
   "file_extension": ".py",
   "mimetype": "text/x-python",
   "name": "python",
   "nbconvert_exporter": "python",
   "pygments_lexer": "ipython3",
   "version": "3.9.18"
  }
 },
 "nbformat": 4,
 "nbformat_minor": 4
}
