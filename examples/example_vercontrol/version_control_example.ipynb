{
 "cells": [
  {
   "cell_type": "markdown",
   "metadata": {},
   "source": [
    "# Version Control Example\n",
    "\n",
    "This notebook demonstrates how to use the version control functions to manage JSONL files using Git. We'll walk through the process step by step, showing how to:\n",
    "\n",
    "1. Initialize a Git repository\n",
    "2. Create and commit sample data\n",
    "3. Track different versions\n",
    "4. Revert to previous versions\n",
    "\n",
    "## Setup and Imports"
   ]
  },
  {
   "cell_type": "code",
   "execution_count": 1,
   "metadata": {},
   "outputs": [],
   "source": [
    "import os\n",
    "import sys\n",
    "import json\n",
    "from datetime import datetime\n",
    "import shutil\n",
    "\n",
    "\n",
    "from jsonldb.vercontrol import init_folder, commit, list_version, revert"
   ]
  },
  {
   "cell_type": "markdown",
   "metadata": {},
   "source": [
    "## Helper Function for Sample Data\n",
    "\n",
    "We'll create a helper function to generate sample JSONL data for our example:"
   ]
  },
  {
   "cell_type": "code",
   "execution_count": 2,
   "metadata": {},
   "outputs": [],
   "source": [
    "def create_sample_data(folder_path: str, version: int) -> None:\n",
    "    \"\"\"Create sample JSONL data for testing.\n",
    "    \n",
    "    Args:\n",
    "        folder_path (str): Path to create the data\n",
    "        version (int): Version number for the data\n",
    "    \"\"\"\n",
    "    # Create sample data\n",
    "    data = {\n",
    "        \"version\": version,\n",
    "        \"timestamp\": datetime.now().isoformat(),\n",
    "        \"records\": [\n",
    "            {\"id\": 1, \"value\": f\"test_value_{version}_1\"},\n",
    "            {\"id\": 2, \"value\": f\"test_value_{version}_2\"}\n",
    "        ]\n",
    "    }\n",
    "    \n",
    "    # Save to JSONL file\n",
    "    with open(os.path.join(folder_path, \"data.jsonl\"), \"w\") as f:\n",
    "        for record in data[\"records\"]:\n",
    "            f.write(json.dumps(record) + \"\\n\")"
   ]
  },
  {
   "cell_type": "markdown",
   "metadata": {},
   "source": [
    "## Step 1: Create Test Environment\n",
    "\n",
    "First, let's create a test folder and clean up any existing one:"
   ]
  },
  {
   "cell_type": "code",
   "execution_count": null,
   "metadata": {},
   "outputs": [],
   "source": [
    "# Create a test folder\n",
    "test_folder = \"test_version_control\"\n",
    "if os.path.exists(test_folder):\n",
    "    shutil.rmtree(test_folder)\n",
    "os.makedirs(test_folder)\n",
    "print(f\"Created test folder: {test_folder}\")"
   ]
  },
  {
   "cell_type": "markdown",
   "metadata": {},
   "source": [
    "## Step 2: Initialize Git Repository\n",
    "\n",
    "Now, let's initialize the folder as a Git repository:"
   ]
  },
  {
   "cell_type": "code",
   "execution_count": null,
   "metadata": {},
   "outputs": [],
   "source": [
    "print(\"Initializing git repository...\")\n",
    "init_folder(test_folder)"
   ]
  },
  {
   "cell_type": "markdown",
   "metadata": {},
   "source": [
    "## Step 3: Create and Commit Initial Data\n",
    "\n",
    "Let's create our first version of data and commit it:"
   ]
  },
  {
   "cell_type": "code",
   "execution_count": null,
   "metadata": {},
   "outputs": [],
   "source": [
    "print(\"Creating initial data...\")\n",
    "create_sample_data(test_folder, 1)\n",
    "commit(test_folder)"
   ]
  },
  {
   "cell_type": "markdown",
   "metadata": {},
   "source": [
    "## Step 4: Create and Commit Updated Data\n",
    "\n",
    "Now, let's create a second version with updated data and commit it with a custom message:"
   ]
  },
  {
   "cell_type": "code",
   "execution_count": null,
   "metadata": {},
   "outputs": [],
   "source": [
    "print(\"Creating updated data...\")\n",
    "create_sample_data(test_folder, 2)\n",
    "commit(test_folder, \"Updated test values\")"
   ]
  },
  {
   "cell_type": "markdown",
   "metadata": {},
   "source": [
    "## Step 5: Create and Commit More Data\n",
    "\n",
    "Let's create a third version with more data:"
   ]
  },
  {
   "cell_type": "code",
   "execution_count": null,
   "metadata": {},
   "outputs": [],
   "source": [
    "print(\"Creating more data...\")\n",
    "create_sample_data(test_folder, 3)\n",
    "commit(test_folder)"
   ]
  },
  {
   "cell_type": "markdown",
   "metadata": {},
   "source": [
    "## Step 6: List All Versions\n",
    "\n",
    "Let's see all the commits we've made:"
   ]
  },
  {
   "cell_type": "code",
   "execution_count": null,
   "metadata": {},
   "outputs": [],
   "source": [
    "print(\"Listing all versions:\")\n",
    "versions = list_version(test_folder)\n",
    "for hash_value, msg in versions.items():\n",
    "    print(f\"Hash: {hash_value[:8]}... Message: {msg}\")"
   ]
  },
  {
   "cell_type": "markdown",
   "metadata": {},
   "source": [
    "## Step 7: Revert to First Version\n",
    "\n",
    "Now, let's revert back to the first version:"
   ]
  },
  {
   "cell_type": "code",
   "execution_count": null,
   "metadata": {},
   "outputs": [],
   "source": [
    "print(\"Reverting to first version...\")\n",
    "first_commit = list(versions.keys())[-1]  # Get the first commit hash\n",
    "revert(test_folder, first_commit)"
   ]
  },
  {
   "cell_type": "markdown",
   "metadata": {},
   "source": [
    "## Step 8: Verify Reversion\n",
    "\n",
    "Let's check the versions again to confirm the reversion:"
   ]
  },
  {
   "cell_type": "code",
   "execution_count": null,
   "metadata": {},
   "outputs": [],
   "source": [
    "print(\"Listing versions after revert:\")\n",
    "versions = list_version(test_folder)\n",
    "for hash_value, msg in versions.items():\n",
    "    print(f\"Hash: {hash_value[:8]}... Message: {msg}\")"
   ]
  },
  {
   "cell_type": "markdown",
   "metadata": {},
   "source": [
    "## Step 9: Clean Up\n",
    "\n",
    "Finally, let's clean up our test environment:"
   ]
  },
  {
   "cell_type": "code",
   "execution_count": null,
   "metadata": {},
   "outputs": [],
   "source": [
    "print(\"Cleaning up...\")\n",
    "shutil.rmtree(test_folder)\n",
    "print(\"Example completed successfully!\")"
   ]
  },
  {
   "cell_type": "code",
   "execution_count": null,
   "metadata": {},
   "outputs": [],
   "source": []
  }
 ],
 "metadata": {
  "kernelspec": {
   "display_name": "base",
   "language": "python",
   "name": "python3"
  },
  "language_info": {
   "codemirror_mode": {
    "name": "ipython",
    "version": 3
   },
   "file_extension": ".py",
   "mimetype": "text/x-python",
   "name": "python",
   "nbconvert_exporter": "python",
   "pygments_lexer": "ipython3",
   "version": "3.9.18"
  }
 },
 "nbformat": 4,
 "nbformat_minor": 4
}
