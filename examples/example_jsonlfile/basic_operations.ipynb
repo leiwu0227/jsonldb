{
 "cells": [
  {
   "cell_type": "markdown",
   "metadata": {},
   "source": [
    "# JSONL File Operations Tutorial\n",
    "\n",
    "This notebook demonstrates the basic operations of the `jsonlfile` package, which provides efficient JSONL file handling with byte-position indexing.\n",
    "\n",
    "## Setup\n",
    "First, let's import the required libraries and set up our environment."
   ]
  },
  {
   "cell_type": "code",
   "execution_count": 1,
   "metadata": {},
   "outputs": [],
   "source": [
    "import sys\n",
    "import os\n",
    "import random\n",
    "from datetime import datetime\n",
    "\n",
    "# Add parent directory to path to import jsonlfile\n",
    "sys.path.append(os.path.abspath(os.path.join(os.getcwd(), \"../../\")))\n",
    "\n"
   ]
  },
  {
   "cell_type": "code",
   "execution_count": 2,
   "metadata": {},
   "outputs": [],
   "source": [
    "from jsonldb.jsonlfile import save_jsonl, load_jsonl, select_jsonl, update_jsonl, delete_jsonl, lint_jsonl"
   ]
  },
  {
   "cell_type": "markdown",
   "metadata": {},
   "source": [
    "## Generate Sample Data\n",
    "\n",
    "Let's create a helper function to generate random records with a consistent structure. Each record will have:\n",
    "- A timestamp\n",
    "- A numeric value\n",
    "- A temperature reading\n",
    "- A status indicator\n",
    "- A list of tags"
   ]
  },
  {
   "cell_type": "code",
   "execution_count": null,
   "metadata": {},
   "outputs": [],
   "source": [
    "def generate_random_record():\n",
    "    \"\"\"Generate a random record with consistent structure.\"\"\"\n",
    "    return {\n",
    "        \"timestamp\": datetime.now().isoformat(),\n",
    "        \"value\": random.randint(1, 1000),\n",
    "        \"temperature\": round(random.uniform(20.0, 30.0), 2),\n",
    "        \"status\": random.choice([\"active\", \"inactive\", \"pending\"]),\n",
    "        \"tags\": random.sample([\"hot\", \"cold\", \"medium\", \"critical\", \"normal\"], k=2)\n",
    "    }\n",
    "\n",
    "# Generate sample data (100 records)\n",
    "print(\"Generating sample data...\")\n",
    "data = {\n",
    "    f\"record_{i:04d}\": generate_random_record()\n",
    "    for i in range(100)\n",
    "}\n",
    "\n",
    "# Display a sample record\n",
    "sample_key = next(iter(data))\n",
    "print(f\"\\nSample record:\\n{sample_key}: {data[sample_key]}\")"
   ]
  },
  {
   "cell_type": "code",
   "execution_count": null,
   "metadata": {},
   "outputs": [],
   "source": [
    "data"
   ]
  },
  {
   "cell_type": "markdown",
   "metadata": {},
   "source": [
    "## Save Data to JSONL File\n",
    "\n",
    "Now we'll save our data to a JSONL file. The `save_jsonl` function will:\n",
    "1. Create a JSONL file with our records\n",
    "2. Automatically create an index file (.idx) for fast access\n",
    "3. Ensure proper formatting of each record"
   ]
  },
  {
   "cell_type": "code",
   "execution_count": null,
   "metadata": {},
   "outputs": [],
   "source": [
    "print(\"Saving data to test.jsonl...\")\n",
    "save_jsonl(\"test.jsonl\", data)\n",
    "\n",
    "# Verify both files were created\n",
    "print(f\"\\nJSONL file exists: {os.path.exists('test.jsonl')}\")\n",
    "print(f\"Index file exists: {os.path.exists('test.jsonl.idx')}\")"
   ]
  },
  {
   "cell_type": "markdown",
   "metadata": {},
   "source": [
    "## Load and Verify Data\n",
    "\n",
    "Let's load the entire file back into memory and verify its contents. The `load_jsonl` function uses the index file for efficient loading."
   ]
  },
  {
   "cell_type": "code",
   "execution_count": null,
   "metadata": {},
   "outputs": [],
   "source": [
    "print(\"Loading entire file...\")\n",
    "loaded_data = load_jsonl(\"test.jsonl\")\n",
    "print(f\"Loaded {len(loaded_data)} records\")\n",
    "\n",
    "print(\"\\nSample record:\")\n",
    "sample_key = next(iter(loaded_data))\n",
    "print(f\"{sample_key}: {loaded_data[sample_key]}\")"
   ]
  },
  {
   "cell_type": "code",
   "execution_count": null,
   "metadata": {},
   "outputs": [],
   "source": [
    "loaded_data"
   ]
  },
  {
   "cell_type": "markdown",
   "metadata": {},
   "source": [
    "## Select Range of Records\n",
    "\n",
    "The `select_jsonl` function allows us to efficiently retrieve records within a specific key range. This is particularly useful for time-series data or when working with sorted keys."
   ]
  },
  {
   "cell_type": "code",
   "execution_count": null,
   "metadata": {},
   "outputs": [],
   "source": [
    "print(\"Selecting records in range...\")\n",
    "range_data = select_jsonl(\"test.jsonl\", \"record_0010\", \"record_0020\")\n",
    "print(f\"Selected {len(range_data)} records in range\")\n",
    "\n",
    "print(\"\\nFirst selected record:\")\n",
    "first_key = min(range_data.keys())\n",
    "print(f\"{first_key}: {range_data[first_key]}\")"
   ]
  },
  {
   "cell_type": "markdown",
   "metadata": {},
   "source": [
    "## Update Records\n",
    "\n",
    "The `update_jsonl` function can both update existing records and insert new ones. Let's demonstrate both operations:"
   ]
  },
  {
   "cell_type": "code",
   "execution_count": null,
   "metadata": {},
   "outputs": [],
   "source": [
    "print(\"Updating records...\")\n",
    "updates = {\n",
    "    \"record_0001\": {  # Update existing record\n",
    "        \"timestamp\": datetime.now().isoformat(),\n",
    "        \"value\": 9999,\n",
    "        \"temperature\": 25.0,\n",
    "        \"status\": \"updated\",\n",
    "        \"tags\": [\"modified\", \"test\"]\n",
    "    },\n",
    "    \"new_record\": {  # Insert new record\n",
    "        \"timestamp\": datetime.now().isoformat(),\n",
    "        \"value\": 8888,\n",
    "        \"temperature\": 22.5,\n",
    "        \"status\": \"new\",\n",
    "        \"tags\": [\"fresh\", \"test\"]\n",
    "    }\n",
    "}\n",
    "update_jsonl(\"test.jsonl\", updates)\n",
    "\n",
    "# Verify updates\n",
    "print(\"\\nVerifying updates...\")\n",
    "updated_data = load_jsonl(\"test.jsonl\")\n",
    "print(\"Updated record:\")\n",
    "print(f\"record_0001: {updated_data['record_0001']}\")\n",
    "print(\"\\nNew record:\")\n",
    "print(f\"new_record: {updated_data['new_record']}\")"
   ]
  },
  {
   "cell_type": "markdown",
   "metadata": {},
   "source": [
    "## Delete Records\n",
    "\n",
    "The `delete_jsonl` function removes records while maintaining file integrity. Deleted records are marked with spaces in the file, and their entries are removed from the index."
   ]
  },
  {
   "cell_type": "code",
   "execution_count": null,
   "metadata": {},
   "outputs": [],
   "source": [
    "print(\"Deleting records...\")\n",
    "delete_jsonl(\"test.jsonl\", [\"record_0001\", \"record_0002\"])\n",
    "\n",
    "# Verify deletions\n",
    "print(\"\\nVerifying deletions...\")\n",
    "final_data = load_jsonl(\"test.jsonl\")\n",
    "print(f\"Records after deletion: {len(final_data)}\")\n",
    "print(\"Checking deleted records:\")\n",
    "print(f\"'record_0001' exists: {'record_0001' in final_data}\")\n",
    "print(f\"'record_0002' exists: {'record_0002' in final_data}\")"
   ]
  },
  {
   "cell_type": "markdown",
   "metadata": {},
   "source": [
    "## Lint and Clean\n",
    "\n",
    "The `lint_jsonl` function sorts the file by keys and removes any deleted records, optimizing the file structure."
   ]
  },
  {
   "cell_type": "code",
   "execution_count": null,
   "metadata": {},
   "outputs": [],
   "source": [
    "print(\"Linting the file...\")\n",
    "lint_jsonl(\"test.jsonl\")\n",
    "print(\"File has been sorted and cleaned\")\n",
    "\n",
    "# Verify the file is sorted\n",
    "final_data = load_jsonl(\"test.jsonl\")\n",
    "is_sorted = list(final_data.keys()) == sorted(final_data.keys())\n",
    "print(f\"\\nFile is sorted: {is_sorted}\")"
   ]
  },
  {
   "cell_type": "markdown",
   "metadata": {},
   "source": [
    "## Cleanup\n",
    "\n",
    "Finally, let's clean up our test files."
   ]
  },
  {
   "cell_type": "code",
   "execution_count": null,
   "metadata": {},
   "outputs": [],
   "source": [
    "print(\"Cleaning up...\")\n",
    "os.remove(\"test.jsonl\")\n",
    "os.remove(\"test.jsonl.idx\")\n",
    "print(\"Done!\")"
   ]
  },
  {
   "cell_type": "code",
   "execution_count": null,
   "metadata": {},
   "outputs": [],
   "source": []
  }
 ],
 "metadata": {
  "kernelspec": {
   "display_name": "base",
   "language": "python",
   "name": "python3"
  },
  "language_info": {
   "codemirror_mode": {
    "name": "ipython",
    "version": 3
   },
   "file_extension": ".py",
   "mimetype": "text/x-python",
   "name": "python",
   "nbconvert_exporter": "python",
   "pygments_lexer": "ipython3",
   "version": "3.9.18"
  }
 },
 "nbformat": 4,
 "nbformat_minor": 4
}
