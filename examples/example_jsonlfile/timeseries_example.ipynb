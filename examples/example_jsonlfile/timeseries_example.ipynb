{
 "cells": [
  {
   "cell_type": "markdown",
   "metadata": {},
   "source": [
    "# Time Series Data Management with JSONL\n",
    "\n",
    "This notebook demonstrates how to use the `jsonlfile` package to manage time series data efficiently. We'll simulate sensor data collection and perform various operations like:\n",
    "- Generating sensor readings with realistic patterns\n",
    "- Storing and retrieving time series data using datetime keys\n",
    "- Analyzing data within specific time ranges\n",
    "- Applying calibration updates\n",
    "- Implementing data retention policies\n",
    "\n",
    "## Setup\n",
    "First, let's import the required libraries and set up our environment."
   ]
  },
  {
   "cell_type": "code",
   "execution_count": 1,
   "metadata": {},
   "outputs": [],
   "source": [
    "import sys\n",
    "import os\n",
    "import random\n",
    "import math\n",
    "from datetime import datetime, timedelta\n",
    "\n",
    "# Add parent directory to path to import jsonlfile\n",
    "sys.path.append(os.path.dirname(os.path.dirname(os.getcwd())))\n",
    "\n",
    "from jsonldb.jsonlfile import save_jsonl, load_jsonl, select_jsonl, update_jsonl, delete_jsonl,lint_jsonl"
   ]
  },
  {
   "cell_type": "markdown",
   "metadata": {},
   "source": [
    "## Generate Sensor Data\n",
    "\n",
    "We'll create a function that generates realistic sensor data with the following characteristics:\n",
    "- Temperature varies with a daily cycle (warmer during day, cooler at night)\n",
    "- Humidity inversely correlates with temperature\n",
    "- Random noise is added to make the data more realistic\n",
    "- Each sensor has a slight bias to simulate real-world variations\n",
    "- Data is keyed by datetime objects for efficient time-based operations"
   ]
  },
  {
   "cell_type": "code",
   "execution_count": 2,
   "metadata": {},
   "outputs": [
    {
     "name": "stdout",
     "output_type": "stream",
     "text": [
      "Generated 12 readings across 3 sensors\n",
      "\n",
      "Sample reading:\n",
      "2025-03-26 00:00:00: {'temperature': 22.53, 'humidity': 55.86, 'sensor_id': 'sensor_02', 'status': 'active'}\n"
     ]
    }
   ],
   "source": [
    "def generate_sensor_data(start_time, num_points, sensor_id):\n",
    "    \"\"\"Generate simulated sensor data with realistic patterns.\n",
    "    \n",
    "    Args:\n",
    "        start_time (datetime): Starting time for the data series\n",
    "        num_points (int): Number of data points to generate\n",
    "        sensor_id (str): Identifier for the sensor (affects baseline values)\n",
    "    \n",
    "    Returns:\n",
    "        dict: Dictionary of timestamped sensor readings with datetime keys\n",
    "    \"\"\"\n",
    "    data = {}\n",
    "    sensor_num = int(sensor_id.split('_')[1])\n",
    "    \n",
    "    # Add slight bias per sensor\n",
    "    temp_bias = sensor_num * 0.5\n",
    "    humidity_bias = sensor_num * -1.0\n",
    "    \n",
    "    for i in range(num_points):\n",
    "        timestamp = start_time + timedelta(minutes=5*i)\n",
    "        # Time of day in radians (0 to 2π)\n",
    "        time_of_day = (timestamp.hour * 3600 + timestamp.minute * 60) * 2 * math.pi / 86400\n",
    "        \n",
    "        # Base temperature varies in a sine wave (24-hour cycle)\n",
    "        base_temp = 22 + 5 * math.sin(time_of_day)\n",
    "        temperature = base_temp + temp_bias + random.uniform(-0.5, 0.5)\n",
    "        \n",
    "        # Humidity inversely correlates with temperature\n",
    "        base_humidity = 60 - 2 * (temperature - 22)\n",
    "        humidity = base_humidity + humidity_bias + random.uniform(-2, 2)\n",
    "        \n",
    "        # Ensure values are in realistic ranges\n",
    "        temperature = round(max(10, min(35, temperature)), 2)\n",
    "        humidity = round(max(30, min(90, humidity)), 2)\n",
    "        \n",
    "        data[timestamp] = {\n",
    "            \"temperature\": temperature,\n",
    "            \"humidity\": humidity,\n",
    "            \"sensor_id\": sensor_id,\n",
    "            \"status\": \"active\"\n",
    "        }\n",
    "    \n",
    "    return data\n",
    "\n",
    "# Generate 24 hours of data for three sensors (readings every 5 minutes)\n",
    "start_time = datetime.now().replace(hour=0, minute=0, second=0, microsecond=0)\n",
    "points_per_day = 12\n",
    "\n",
    "all_data = {}\n",
    "for sensor_id in [f\"sensor_{i:02d}\" for i in range(3)]:\n",
    "    sensor_data = generate_sensor_data(start_time, points_per_day, sensor_id)\n",
    "    all_data.update(sensor_data)\n",
    "\n",
    "print(f\"Generated {len(all_data)} readings across 3 sensors\")\n",
    "print(\"\\nSample reading:\")\n",
    "sample_key = next(iter(all_data))\n",
    "print(f\"{sample_key}: {all_data[sample_key]}\")"
   ]
  },
  {
   "cell_type": "code",
   "execution_count": 3,
   "metadata": {},
   "outputs": [
    {
     "data": {
      "text/plain": [
       "12"
      ]
     },
     "execution_count": 3,
     "metadata": {},
     "output_type": "execute_result"
    }
   ],
   "source": [
    "len(all_data)"
   ]
  },
  {
   "cell_type": "markdown",
   "metadata": {},
   "source": [
    "## Save Time Series Data\n",
    "\n",
    "Now we'll save our sensor data to a JSONL file. The datetime keys will be automatically handled by the JSONL serialization."
   ]
  },
  {
   "cell_type": "code",
   "execution_count": 4,
   "metadata": {},
   "outputs": [
    {
     "name": "stdout",
     "output_type": "stream",
     "text": [
      "Saving sensor data...\n",
      "\n",
      "JSONL file exists: True\n",
      "Index file exists: True\n"
     ]
    }
   ],
   "source": [
    "print(\"Saving sensor data...\")\n",
    "save_jsonl(\"sensor_data.jsonl\", all_data)\n",
    "\n",
    "# Verify the files were created\n",
    "print(f\"\\nJSONL file exists: {os.path.exists('sensor_data.jsonl')}\")\n",
    "print(f\"Index file exists: {os.path.exists('sensor_data.jsonl.idx')}\")"
   ]
  },
  {
   "cell_type": "markdown",
   "metadata": {},
   "source": [
    "## Select Time Series Data between a range"
   ]
  },
  {
   "cell_type": "code",
   "execution_count": 7,
   "metadata": {},
   "outputs": [],
   "source": [
    "start_date = datetime(2025,3,25,0,0,0)\n",
    "end_date = datetime(2025,3,25,0,25,0)\n",
    "\n",
    "\n",
    "select_data=select_jsonl(\"sensor_data.jsonl\",start_date,end_date)"
   ]
  },
  {
   "cell_type": "markdown",
   "metadata": {},
   "source": [
    "## Lint data"
   ]
  },
  {
   "cell_type": "code",
   "execution_count": 8,
   "metadata": {},
   "outputs": [],
   "source": [
    "lint_jsonl(\"sensor_data.jsonl\")"
   ]
  },
  {
   "cell_type": "markdown",
   "metadata": {},
   "source": [
    "## Cleanup\n",
    "\n",
    "Finally, let's clean up our test files."
   ]
  },
  {
   "cell_type": "code",
   "execution_count": 9,
   "metadata": {},
   "outputs": [
    {
     "name": "stdout",
     "output_type": "stream",
     "text": [
      "Cleaning up...\n",
      "Done!\n"
     ]
    }
   ],
   "source": [
    "print(\"Cleaning up...\")\n",
    "os.remove(\"sensor_data.jsonl\")\n",
    "os.remove(\"sensor_data.jsonl.idx\")\n",
    "print(\"Done!\")"
   ]
  },
  {
   "cell_type": "code",
   "execution_count": null,
   "metadata": {},
   "outputs": [],
   "source": []
  }
 ],
 "metadata": {
  "kernelspec": {
   "display_name": "Python 3",
   "language": "python",
   "name": "python3"
  },
  "language_info": {
   "codemirror_mode": {
    "name": "ipython",
    "version": 3
   },
   "file_extension": ".py",
   "mimetype": "text/x-python",
   "name": "python",
   "nbconvert_exporter": "python",
   "pygments_lexer": "ipython3",
   "version": "3.8.0"
  }
 },
 "nbformat": 4,
 "nbformat_minor": 4
}
