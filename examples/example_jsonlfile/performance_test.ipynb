{
 "cells": [
  {
   "cell_type": "markdown",
   "metadata": {},
   "source": [
    "# Performance Test for JSONL Operations\n",
    "\n",
    "This notebook demonstrates the performance characteristics of various JSONL operations using the `jsonlfile` module. We'll test:\n",
    "\n",
    "1. Saving large datasets\n",
    "2. Loading datasets\n",
    "3. Selecting records within a range\n",
    "4. Updating records\n",
    "5. Deleting records\n",
    "\n",
    "We'll use a large dataset with 1 million records and measure the performance of each operation."
   ]
  },
  {
   "cell_type": "code",
   "execution_count": 23,
   "metadata": {},
   "outputs": [],
   "source": [
    "import sys\n",
    "import os\n",
    "import random\n",
    "import time\n",
    "from datetime import datetime, timedelta\n",
    "\n",
    "from jsonldb.jsonlfile import save_jsonl, load_jsonl, select_jsonl, update_jsonl, delete_jsonl"
   ]
  },
  {
   "cell_type": "markdown",
   "metadata": {},
   "source": [
    "## Helper Functions\n",
    "\n",
    "First, let's define our helper functions for generating test data and timing operations."
   ]
  },
  {
   "cell_type": "code",
   "execution_count": 24,
   "metadata": {},
   "outputs": [],
   "source": [
    "def generate_random_record():\n",
    "    \"\"\"Generate a random record with consistent structure.\"\"\"\n",
    "    return {\n",
    "        \"timestamp\": datetime.now().isoformat(),\n",
    "        \"value\": random.randint(1, 1000000),\n",
    "        \"temperature\": round(random.uniform(-10.0, 40.0), 2),\n",
    "        \"pressure\": round(random.uniform(980, 1020), 2),\n",
    "        \"humidity\": random.randint(30, 90),\n",
    "        \"status\": random.choice([\"normal\", \"warning\", \"critical\", \"unknown\"]),\n",
    "        \"location\": random.choice([\"north\", \"south\", \"east\", \"west\", \"center\"]),\n",
    "        \"tags\": random.sample([\"sensor\", \"validated\", \"raw\", \"filtered\", \"anomaly\", \n",
    "                             \"peak\", \"valley\", \"trend\", \"stable\"], k=3)\n",
    "    }\n",
    "\n",
    "def time_operation(name, func, *args, **kwargs):\n",
    "    \"\"\"Time an operation and print results.\"\"\"\n",
    "    start = time.time()\n",
    "    result = func(*args, **kwargs)\n",
    "    elapsed = time.time() - start\n",
    "    print(f\"{name}: {elapsed:.3f} seconds\")\n",
    "    return result"
   ]
  },
  {
   "cell_type": "markdown",
   "metadata": {},
   "source": [
    "## Test Parameters\n",
    "\n",
    "Let's set up our test parameters. We'll use:\n",
    "- 1,000,000 total records\n",
    "- 10,000 records for selection\n",
    "- 10,000 records for updates\n",
    "- 10,000 records for deletion"
   ]
  },
  {
   "cell_type": "code",
   "execution_count": 25,
   "metadata": {},
   "outputs": [],
   "source": [
    "# Test parameters\n",
    "num_records = 1_000_000  # 1M records\n",
    "select_range = 10_000    # Select 10K records\n",
    "update_count = 10_000    # Update 10K records\n",
    "delete_count = 10_000    # Delete 10K records"
   ]
  },
  {
   "cell_type": "markdown",
   "metadata": {},
   "source": [
    "## Generate Test Data\n",
    "\n",
    "Let's generate our test dataset with random records."
   ]
  },
  {
   "cell_type": "code",
   "execution_count": 26,
   "metadata": {},
   "outputs": [
    {
     "name": "stdout",
     "output_type": "stream",
     "text": [
      "Generating 1,000,000 records...\n",
      "Generated 1,000,000 records\n"
     ]
    }
   ],
   "source": [
    "print(f\"Generating {num_records:,} records...\")\n",
    "data = {\n",
    "    f\"key_{i:08d}\": generate_random_record()\n",
    "    for i in range(num_records)\n",
    "}\n",
    "print(f\"Generated {len(data):,} records\")"
   ]
  },
  {
   "cell_type": "markdown",
   "metadata": {},
   "source": [
    "## Performance Tests\n",
    "\n",
    "Now let's run our performance tests for each operation."
   ]
  },
  {
   "cell_type": "markdown",
   "metadata": {},
   "source": [
    "### 1. Save Operation\n",
    "\n",
    "Test saving the entire dataset to a JSONL file."
   ]
  },
  {
   "cell_type": "code",
   "execution_count": 27,
   "metadata": {},
   "outputs": [
    {
     "name": "stdout",
     "output_type": "stream",
     "text": [
      "Testing save operation...\n",
      "Save: 3.557 seconds\n"
     ]
    }
   ],
   "source": [
    "print(\"Testing save operation...\")\n",
    "time_operation(\"Save\", save_jsonl, \"perf_test.jsonl\", data)"
   ]
  },
  {
   "cell_type": "markdown",
   "metadata": {},
   "source": [
    "### 2. Load Operation\n",
    "\n",
    "Test loading the entire dataset from the JSONL file."
   ]
  },
  {
   "cell_type": "code",
   "execution_count": 28,
   "metadata": {},
   "outputs": [
    {
     "name": "stdout",
     "output_type": "stream",
     "text": [
      "Testing load operation...\n",
      "Load: 7.071 seconds\n",
      "Loaded 1,000,000 records\n"
     ]
    }
   ],
   "source": [
    "print(\"Testing load operation...\")\n",
    "loaded_data = time_operation(\"Load\", load_jsonl, \"perf_test.jsonl\")\n",
    "print(f\"Loaded {len(loaded_data):,} records\")"
   ]
  },
  {
   "cell_type": "markdown",
   "metadata": {},
   "source": [
    "### 3. Select Operation\n",
    "\n",
    "Test selecting a range of records from the dataset."
   ]
  },
  {
   "cell_type": "code",
   "execution_count": 29,
   "metadata": {},
   "outputs": [
    {
     "name": "stdout",
     "output_type": "stream",
     "text": [
      "Testing select operation...\n",
      "Select: 13.457 seconds\n",
      "Selected 1,000,000 records\n"
     ]
    }
   ],
   "source": [
    "print(\"Testing select operation...\")\n",
    "start_key = f\"key_{random.randint(0, num_records-select_range):08d}\"\n",
    "end_key = f\"key_{int(start_key[4:]) + select_range:08d}\"\n",
    "selected = time_operation(\"Select\", select_jsonl, \"perf_test.jsonl\", (start_key, end_key))\n",
    "print(f\"Selected {len(selected):,} records\")\n",
    "\n"
   ]
  },
  {
   "cell_type": "markdown",
   "metadata": {},
   "source": [
    "### 4. Update Operation\n",
    "\n",
    "Test updating a subset of records in the dataset."
   ]
  },
  {
   "cell_type": "code",
   "execution_count": 30,
   "metadata": {},
   "outputs": [
    {
     "name": "stdout",
     "output_type": "stream",
     "text": [
      "Testing update operation...\n",
      "Update: 2.458 seconds\n"
     ]
    }
   ],
   "source": [
    "print(\"Testing update operation...\")\n",
    "updates = {\n",
    "    f\"key_{random.randint(0, num_records):08d}\": generate_random_record()\n",
    "    for _ in range(update_count)\n",
    "}\n",
    "time_operation(\"Update\", update_jsonl, \"perf_test.jsonl\", updates)"
   ]
  },
  {
   "cell_type": "markdown",
   "metadata": {},
   "source": [
    "### 5. Delete Operation\n",
    "\n",
    "Test deleting a subset of records from the dataset."
   ]
  },
  {
   "cell_type": "code",
   "execution_count": 31,
   "metadata": {},
   "outputs": [
    {
     "name": "stdout",
     "output_type": "stream",
     "text": [
      "Testing delete operation...\n",
      "Delete: 23.444 seconds\n"
     ]
    }
   ],
   "source": [
    "print(\"Testing delete operation...\")\n",
    "delete_keys = [f\"key_{random.randint(0, num_records):08d}\" \n",
    "              for _ in range(delete_count)]\n",
    "time_operation(\"Delete\", delete_jsonl, \"perf_test.jsonl\", delete_keys)"
   ]
  },
  {
   "cell_type": "markdown",
   "metadata": {},
   "source": [
    "## Performance Statistics\n",
    "\n",
    "Let's calculate and display the final statistics."
   ]
  },
  {
   "cell_type": "code",
   "execution_count": 32,
   "metadata": {},
   "outputs": [
    {
     "name": "stdout",
     "output_type": "stream",
     "text": [
      "Performance Statistics:\n",
      "--------------------------------------------------\n",
      "Final record count: 990,062\n",
      "Records per operation:\n",
      "- Save: 1000.0K records\n",
      "- Select: 10.0K records\n",
      "- Update: 10.0K records\n",
      "- Delete: 10.0K records\n"
     ]
    }
   ],
   "source": [
    "print(\"Performance Statistics:\")\n",
    "print(\"-\" * 50)\n",
    "final_data = load_jsonl(\"perf_test.jsonl\")\n",
    "print(f\"Final record count: {len(final_data):,}\")\n",
    "print(f\"Records per operation:\")\n",
    "print(f\"- Save: {num_records/1000:.1f}K records\")\n",
    "print(f\"- Select: {select_range/1000:.1f}K records\")\n",
    "print(f\"- Update: {update_count/1000:.1f}K records\")\n",
    "print(f\"- Delete: {delete_count/1000:.1f}K records\")"
   ]
  },
  {
   "cell_type": "markdown",
   "metadata": {},
   "source": [
    "## Cleanup\n",
    "\n",
    "Finally, let's clean up our test files."
   ]
  },
  {
   "cell_type": "code",
   "execution_count": 33,
   "metadata": {},
   "outputs": [
    {
     "name": "stdout",
     "output_type": "stream",
     "text": [
      "Cleaning up...\n",
      "Done!\n"
     ]
    }
   ],
   "source": [
    "print(\"Cleaning up...\")\n",
    "os.remove(\"perf_test.jsonl\")\n",
    "os.remove(\"perf_test.jsonl.idx\")\n",
    "print(\"Done!\")"
   ]
  },
  {
   "cell_type": "code",
   "execution_count": null,
   "metadata": {},
   "outputs": [],
   "source": []
  }
 ],
 "metadata": {
  "kernelspec": {
   "display_name": "base",
   "language": "python",
   "name": "python3"
  },
  "language_info": {
   "codemirror_mode": {
    "name": "ipython",
    "version": 3
   },
   "file_extension": ".py",
   "mimetype": "text/x-python",
   "name": "python",
   "nbconvert_exporter": "python",
   "pygments_lexer": "ipython3",
   "version": "3.9.18"
  }
 },
 "nbformat": 4,
 "nbformat_minor": 4
}
