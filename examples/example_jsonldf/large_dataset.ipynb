{
 "cells": [
  {
   "cell_type": "markdown",
   "metadata": {},
   "source": [
    "# Large Dataset Operations Example\n",
    "\n",
    "This notebook demonstrates how to use the `jsonldf` package with large datasets.\n",
    "We'll create a dataset with 100,000 records, perform various operations, and measure performance."
   ]
  },
  {
   "cell_type": "code",
   "execution_count": 1,
   "metadata": {},
   "outputs": [],
   "source": [
    "import pandas as pd\n",
    "import sys\n",
    "import os\n",
    "import numpy as np\n",
    "from datetime import datetime\n",
    "import time\n",
    "\n",
    "# Add parent directory to path to import jsonldb\n",
    "sys.path.append(os.path.abspath(os.path.join(os.getcwd(), \"../../\")))\n",
    "\n",
    "from jsonldb.jsonldf import (\n",
    "    save_jsonldf, load_jsonldf, update_jsonldf,\n",
    "    select_jsonldf, delete_jsonldf, lint_jsonldf\n",
    ")"
   ]
  },
  {
   "cell_type": "markdown",
   "metadata": {},
   "source": [
    "## Generate Large Dataset\n",
    "\n",
    "Let's create a function to generate a large dataset with multiple columns."
   ]
  },
  {
   "cell_type": "code",
   "execution_count": 2,
   "metadata": {},
   "outputs": [],
   "source": [
    "def generate_large_dataset(num_records=100000):\n",
    "    \"\"\"Generate a large dataset with multiple columns.\n",
    "    \n",
    "    Args:\n",
    "        num_records: Number of records to generate\n",
    "    \"\"\"\n",
    "    # Generate sample data\n",
    "    data = {\n",
    "        'value': np.random.normal(100, 15, num_records),\n",
    "        'category': np.random.choice(['A', 'B', 'C', 'D'], num_records),\n",
    "        'score': np.random.uniform(0, 1, num_records),\n",
    "        'count': np.random.poisson(5, num_records),\n",
    "        'timestamp': pd.date_range(\n",
    "            start=datetime(2024, 1, 1),\n",
    "            periods=num_records,\n",
    "            freq='1min'\n",
    "        )\n",
    "    }\n",
    "    \n",
    "    # Create DataFrame with string index\n",
    "    df = pd.DataFrame(data)\n",
    "    df.index = [f'record_{i:06d}' for i in range(num_records)]\n",
    "    \n",
    "    return df"
   ]
  },
  {
   "cell_type": "markdown",
   "metadata": {},
   "source": [
    "## Create Helper Function for Timing\n",
    "\n",
    "Create a function to measure operation execution time."
   ]
  },
  {
   "cell_type": "code",
   "execution_count": 3,
   "metadata": {},
   "outputs": [],
   "source": [
    "def time_operation(operation, *args, **kwargs):\n",
    "    \"\"\"Time an operation and return its result.\n",
    "    \n",
    "    Args:\n",
    "        operation: Function to time\n",
    "        *args: Positional arguments for the operation\n",
    "        **kwargs: Keyword arguments for the operation\n",
    "    \"\"\"\n",
    "    start_time = time.time()\n",
    "    result = operation(*args, **kwargs)\n",
    "    elapsed = time.time() - start_time\n",
    "    return result, elapsed"
   ]
  },
  {
   "cell_type": "markdown",
   "metadata": {},
   "source": [
    "## Generate and Display Initial Data\n",
    "\n",
    "Create a large dataset and show a sample."
   ]
  },
  {
   "cell_type": "code",
   "execution_count": 4,
   "metadata": {},
   "outputs": [
    {
     "name": "stdout",
     "output_type": "stream",
     "text": [
      "Generating large dataset...\n",
      "Generated DataFrame with 100000 records and 5 columns\n",
      "\n",
      "Sample of data:\n",
      "                    value category     score  count           timestamp\n",
      "record_000000  107.051234        C  0.019349      8 2024-01-01 00:00:00\n",
      "record_000001  100.252799        D  0.913470      9 2024-01-01 00:01:00\n",
      "record_000002  105.225750        D  0.828215      5 2024-01-01 00:02:00\n",
      "record_000003   95.292118        C  0.486212      3 2024-01-01 00:03:00\n",
      "record_000004  110.671849        D  0.723264      1 2024-01-01 00:04:00\n"
     ]
    }
   ],
   "source": [
    "print(\"Generating large dataset...\")\n",
    "df = generate_large_dataset()\n",
    "print(f\"Generated DataFrame with {len(df)} records and {len(df.columns)} columns\")\n",
    "print(\"\\nSample of data:\")\n",
    "print(df.head())\n",
    "\n",
    "# Convert the 'timestamp' column to string to avoid serialization issues\n",
    "df['timestamp'] = df['timestamp'].astype(str)\n"
   ]
  },
  {
   "cell_type": "markdown",
   "metadata": {},
   "source": [
    "## Save to JSONL and Measure Time\n",
    "\n",
    "Save the dataset to JSONL format and measure the operation time."
   ]
  },
  {
   "cell_type": "code",
   "execution_count": 5,
   "metadata": {},
   "outputs": [
    {
     "name": "stdout",
     "output_type": "stream",
     "text": [
      "Saving large dataset to JSONL...\n",
      "Save time: 1.01 seconds\n"
     ]
    }
   ],
   "source": [
    "print(\"Saving large dataset to JSONL...\")\n",
    "_, save_time = time_operation(save_jsonldf, 'large_data.jsonl', df)\n",
    "print(f\"Save time: {save_time:.2f} seconds\")"
   ]
  },
  {
   "cell_type": "markdown",
   "metadata": {},
   "source": [
    "## Load and Measure Time\n",
    "\n",
    "Load the entire dataset and measure the operation time."
   ]
  },
  {
   "cell_type": "code",
   "execution_count": 6,
   "metadata": {},
   "outputs": [
    {
     "name": "stdout",
     "output_type": "stream",
     "text": [
      "Loading entire dataset...\n",
      "Load time: 0.58 seconds\n"
     ]
    }
   ],
   "source": [
    "print(\"Loading entire dataset...\")\n",
    "loaded_df, load_time = time_operation(load_jsonldf, 'large_data.jsonl')\n",
    "print(f\"Load time: {load_time:.2f} seconds\")"
   ]
  },
  {
   "cell_type": "code",
   "execution_count": 7,
   "metadata": {},
   "outputs": [
    {
     "data": {
      "text/html": [
       "<div>\n",
       "<style scoped>\n",
       "    .dataframe tbody tr th:only-of-type {\n",
       "        vertical-align: middle;\n",
       "    }\n",
       "\n",
       "    .dataframe tbody tr th {\n",
       "        vertical-align: top;\n",
       "    }\n",
       "\n",
       "    .dataframe thead th {\n",
       "        text-align: right;\n",
       "    }\n",
       "</style>\n",
       "<table border=\"1\" class=\"dataframe\">\n",
       "  <thead>\n",
       "    <tr style=\"text-align: right;\">\n",
       "      <th></th>\n",
       "      <th>value</th>\n",
       "      <th>category</th>\n",
       "      <th>score</th>\n",
       "      <th>count</th>\n",
       "      <th>timestamp</th>\n",
       "    </tr>\n",
       "  </thead>\n",
       "  <tbody>\n",
       "    <tr>\n",
       "      <th>record_000000</th>\n",
       "      <td>107.051234</td>\n",
       "      <td>C</td>\n",
       "      <td>0.019349</td>\n",
       "      <td>8</td>\n",
       "      <td>2024-01-01 00:00:00</td>\n",
       "    </tr>\n",
       "    <tr>\n",
       "      <th>record_000001</th>\n",
       "      <td>100.252799</td>\n",
       "      <td>D</td>\n",
       "      <td>0.913470</td>\n",
       "      <td>9</td>\n",
       "      <td>2024-01-01 00:01:00</td>\n",
       "    </tr>\n",
       "    <tr>\n",
       "      <th>record_000002</th>\n",
       "      <td>105.225750</td>\n",
       "      <td>D</td>\n",
       "      <td>0.828215</td>\n",
       "      <td>5</td>\n",
       "      <td>2024-01-01 00:02:00</td>\n",
       "    </tr>\n",
       "    <tr>\n",
       "      <th>record_000003</th>\n",
       "      <td>95.292118</td>\n",
       "      <td>C</td>\n",
       "      <td>0.486212</td>\n",
       "      <td>3</td>\n",
       "      <td>2024-01-01 00:03:00</td>\n",
       "    </tr>\n",
       "    <tr>\n",
       "      <th>record_000004</th>\n",
       "      <td>110.671849</td>\n",
       "      <td>D</td>\n",
       "      <td>0.723264</td>\n",
       "      <td>1</td>\n",
       "      <td>2024-01-01 00:04:00</td>\n",
       "    </tr>\n",
       "  </tbody>\n",
       "</table>\n",
       "</div>"
      ],
      "text/plain": [
       "                    value category     score  count            timestamp\n",
       "record_000000  107.051234        C  0.019349      8  2024-01-01 00:00:00\n",
       "record_000001  100.252799        D  0.913470      9  2024-01-01 00:01:00\n",
       "record_000002  105.225750        D  0.828215      5  2024-01-01 00:02:00\n",
       "record_000003   95.292118        C  0.486212      3  2024-01-01 00:03:00\n",
       "record_000004  110.671849        D  0.723264      1  2024-01-01 00:04:00"
      ]
     },
     "execution_count": 7,
     "metadata": {},
     "output_type": "execute_result"
    }
   ],
   "source": [
    "loaded_df.head()"
   ]
  },
  {
   "cell_type": "markdown",
   "metadata": {},
   "source": [
    "## Select Range of Records\n",
    "\n",
    "Select a range of 1000 records and measure the operation time."
   ]
  },
  {
   "cell_type": "code",
   "execution_count": 8,
   "metadata": {},
   "outputs": [
    {
     "name": "stdout",
     "output_type": "stream",
     "text": [
      "Selecting range of 1000 records...\n",
      "Select time: 1.25 seconds\n",
      "Selected 1001 records\n"
     ]
    }
   ],
   "source": [
    "print(\"Selecting range of 1000 records...\")\n",
    "range_start = 'record_001000'\n",
    "range_end = 'record_002000'\n",
    "selected_df, select_time = time_operation(\n",
    "    select_jsonldf,\n",
    "    'large_data.jsonl',\n",
    "    range_start, range_end\n",
    ")\n",
    "print(f\"Select time: {select_time:.2f} seconds\")\n",
    "print(f\"Selected {len(selected_df)} records\")"
   ]
  },
  {
   "cell_type": "code",
   "execution_count": 9,
   "metadata": {},
   "outputs": [
    {
     "data": {
      "text/html": [
       "<div>\n",
       "<style scoped>\n",
       "    .dataframe tbody tr th:only-of-type {\n",
       "        vertical-align: middle;\n",
       "    }\n",
       "\n",
       "    .dataframe tbody tr th {\n",
       "        vertical-align: top;\n",
       "    }\n",
       "\n",
       "    .dataframe thead th {\n",
       "        text-align: right;\n",
       "    }\n",
       "</style>\n",
       "<table border=\"1\" class=\"dataframe\">\n",
       "  <thead>\n",
       "    <tr style=\"text-align: right;\">\n",
       "      <th></th>\n",
       "      <th>value</th>\n",
       "      <th>category</th>\n",
       "      <th>score</th>\n",
       "      <th>count</th>\n",
       "      <th>timestamp</th>\n",
       "    </tr>\n",
       "  </thead>\n",
       "  <tbody>\n",
       "    <tr>\n",
       "      <th>record_001000</th>\n",
       "      <td>110.601815</td>\n",
       "      <td>A</td>\n",
       "      <td>0.078800</td>\n",
       "      <td>2</td>\n",
       "      <td>2024-01-01 16:40:00</td>\n",
       "    </tr>\n",
       "    <tr>\n",
       "      <th>record_001001</th>\n",
       "      <td>102.020215</td>\n",
       "      <td>B</td>\n",
       "      <td>0.028568</td>\n",
       "      <td>6</td>\n",
       "      <td>2024-01-01 16:41:00</td>\n",
       "    </tr>\n",
       "    <tr>\n",
       "      <th>record_001002</th>\n",
       "      <td>115.741002</td>\n",
       "      <td>B</td>\n",
       "      <td>0.266427</td>\n",
       "      <td>3</td>\n",
       "      <td>2024-01-01 16:42:00</td>\n",
       "    </tr>\n",
       "    <tr>\n",
       "      <th>record_001003</th>\n",
       "      <td>109.060197</td>\n",
       "      <td>B</td>\n",
       "      <td>0.080881</td>\n",
       "      <td>6</td>\n",
       "      <td>2024-01-01 16:43:00</td>\n",
       "    </tr>\n",
       "    <tr>\n",
       "      <th>record_001004</th>\n",
       "      <td>57.824598</td>\n",
       "      <td>A</td>\n",
       "      <td>0.722577</td>\n",
       "      <td>5</td>\n",
       "      <td>2024-01-01 16:44:00</td>\n",
       "    </tr>\n",
       "  </tbody>\n",
       "</table>\n",
       "</div>"
      ],
      "text/plain": [
       "                    value category     score  count            timestamp\n",
       "record_001000  110.601815        A  0.078800      2  2024-01-01 16:40:00\n",
       "record_001001  102.020215        B  0.028568      6  2024-01-01 16:41:00\n",
       "record_001002  115.741002        B  0.266427      3  2024-01-01 16:42:00\n",
       "record_001003  109.060197        B  0.080881      6  2024-01-01 16:43:00\n",
       "record_001004   57.824598        A  0.722577      5  2024-01-01 16:44:00"
      ]
     },
     "execution_count": 9,
     "metadata": {},
     "output_type": "execute_result"
    }
   ],
   "source": [
    "selected_df.head()"
   ]
  },
  {
   "cell_type": "markdown",
   "metadata": {},
   "source": [
    "## Update Batch of Records\n",
    "\n",
    "Update 1000 random records and measure the operation time."
   ]
  },
  {
   "cell_type": "code",
   "execution_count": 10,
   "metadata": {},
   "outputs": [
    {
     "name": "stdout",
     "output_type": "stream",
     "text": [
      "Updating 1000 random records...\n",
      "Update time: 0.29 seconds\n"
     ]
    }
   ],
   "source": [
    "print(\"Updating 1000 random records...\")\n",
    "update_indices = [f'record_{i:06d}' for i in range(1000, 2000)]\n",
    "updates = pd.DataFrame({\n",
    "    'value': np.random.normal(200, 15, len(update_indices)),\n",
    "    'category': np.random.choice(['X', 'Y', 'Z'], len(update_indices)),\n",
    "    'score': np.random.uniform(0, 1, len(update_indices)),\n",
    "    'count': np.random.poisson(10, len(update_indices)),\n",
    "    'timestamp': pd.date_range(\n",
    "        start=datetime(2024, 1, 1),\n",
    "        periods=len(update_indices),\n",
    "        freq='1min'\n",
    "    )\n",
    "}, index=update_indices)\n",
    "\n",
    "# Convert timestamp column to string\n",
    "updates['timestamp'] = updates['timestamp'].astype(str)\n",
    "\n",
    "_, update_time = time_operation(update_jsonldf, 'large_data.jsonl', updates)\n",
    "print(f\"Update time: {update_time:.2f} seconds\")"
   ]
  },
  {
   "cell_type": "markdown",
   "metadata": {},
   "source": [
    "## Delete Batch of Records\n",
    "\n",
    "Delete 1000 records and measure the operation time."
   ]
  },
  {
   "cell_type": "code",
   "execution_count": 11,
   "metadata": {},
   "outputs": [
    {
     "name": "stdout",
     "output_type": "stream",
     "text": [
      "Deleting 1000 records...\n",
      "Delete time: 0.28 seconds\n"
     ]
    }
   ],
   "source": [
    "print(\"Deleting 1000 records...\")\n",
    "delete_indices = [f'record_{i:06d}' for i in range(2000, 3000)]\n",
    "_, delete_time = time_operation(delete_jsonldf, 'large_data.jsonl', delete_indices)\n",
    "print(f\"Delete time: {delete_time:.2f} seconds\")"
   ]
  },
  {
   "cell_type": "markdown",
   "metadata": {},
   "source": [
    "## Lint the File\n",
    "\n",
    "Sort and clean the JSONL file, measuring the operation time."
   ]
  },
  {
   "cell_type": "code",
   "execution_count": 12,
   "metadata": {},
   "outputs": [
    {
     "name": "stdout",
     "output_type": "stream",
     "text": [
      "Sorting and cleaning the file...\n",
      "Lint time: 2.88 seconds\n"
     ]
    }
   ],
   "source": [
    "print(\"Sorting and cleaning the file...\")\n",
    "_, lint_time = time_operation(lint_jsonldf, 'large_data.jsonl')\n",
    "print(f\"Lint time: {lint_time:.2f} seconds\")"
   ]
  },
  {
   "cell_type": "markdown",
   "metadata": {},
   "source": [
    "## Load Final State and Show Statistics\n",
    "\n",
    "Load the final state of the data and display various statistics."
   ]
  },
  {
   "cell_type": "code",
   "execution_count": 13,
   "metadata": {},
   "outputs": [
    {
     "name": "stdout",
     "output_type": "stream",
     "text": [
      "Loading final state...\n",
      "\n",
      "Final dataset statistics:\n",
      "Total records: 99000\n",
      "\n",
      "Numerical columns summary:\n",
      "              value         score         count\n",
      "count  99000.000000  9.900000e+04  99000.000000\n",
      "mean     101.129760  5.007560e-01      5.041556\n",
      "std       18.022363  2.882981e-01      2.300111\n",
      "min       34.166920  9.980197e-07      0.000000\n",
      "25%       90.132025  2.505428e-01      3.000000\n",
      "50%      100.323619  5.037684e-01      5.000000\n",
      "75%      110.646522  7.497940e-01      6.000000\n",
      "max      245.975725  9.999934e-01     18.000000\n",
      "\n",
      "Category distribution:\n",
      "B    24817\n",
      "C    24552\n",
      "D    24396\n",
      "A    24235\n",
      "Y      366\n",
      "X      327\n",
      "Z      307\n",
      "Name: category, dtype: int64\n"
     ]
    }
   ],
   "source": [
    "print(\"Loading final state...\")\n",
    "final_df = load_jsonldf('large_data.jsonl')\n",
    "print(\"\\nFinal dataset statistics:\")\n",
    "print(f\"Total records: {len(final_df)}\")\n",
    "print(\"\\nNumerical columns summary:\")\n",
    "print(final_df[['value', 'score', 'count']].describe())\n",
    "print(\"\\nCategory distribution:\")\n",
    "print(final_df['category'].value_counts())"
   ]
  },
  {
   "cell_type": "markdown",
   "metadata": {},
   "source": [
    "## Performance Summary\n",
    "\n",
    "Display a summary of all operation timings."
   ]
  },
  {
   "cell_type": "code",
   "execution_count": 14,
   "metadata": {},
   "outputs": [
    {
     "name": "stdout",
     "output_type": "stream",
     "text": [
      "\n",
      "Performance Summary:\n",
      "Operation       Time (s)    Records/s\n",
      "-----------------------------------\n",
      "Save            1.01            99176\n",
      "Load            0.58           171512\n",
      "Select          1.25              801\n",
      "Update          0.29             3396\n",
      "Delete          0.28             3601\n",
      "Lint            2.88            34372\n"
     ]
    }
   ],
   "source": [
    "print(\"\\nPerformance Summary:\")\n",
    "print(f\"{'Operation':<15} {'Time (s)':<10} {'Records/s':>10}\")\n",
    "print(\"-\" * 35)\n",
    "print(f\"{'Save':<15} {save_time:<10.2f} {len(df)/save_time:>10.0f}\")\n",
    "print(f\"{'Load':<15} {load_time:<10.2f} {len(df)/load_time:>10.0f}\")\n",
    "print(f\"{'Select':<15} {select_time:<10.2f} {1000/select_time:>10.0f}\")\n",
    "print(f\"{'Update':<15} {update_time:<10.2f} {1000/update_time:>10.0f}\")\n",
    "print(f\"{'Delete':<15} {delete_time:<10.2f} {1000/delete_time:>10.0f}\")\n",
    "print(f\"{'Lint':<15} {lint_time:<10.2f} {len(final_df)/lint_time:>10.0f}\")"
   ]
  },
  {
   "cell_type": "markdown",
   "metadata": {},
   "source": [
    "## Cleanup\n",
    "\n",
    "Remove the JSONL file and its index."
   ]
  },
  {
   "cell_type": "code",
   "execution_count": 15,
   "metadata": {},
   "outputs": [
    {
     "name": "stdout",
     "output_type": "stream",
     "text": [
      "\n",
      "Cleaning up...\n",
      "Done!\n"
     ]
    }
   ],
   "source": [
    "print(\"\\nCleaning up...\")\n",
    "os.remove('large_data.jsonl')\n",
    "os.remove('large_data.jsonl.idx')\n",
    "print(\"Done!\")"
   ]
  },
  {
   "cell_type": "code",
   "execution_count": null,
   "metadata": {},
   "outputs": [],
   "source": []
  }
 ],
 "metadata": {
  "kernelspec": {
   "display_name": "base",
   "language": "python",
   "name": "python3"
  },
  "language_info": {
   "codemirror_mode": {
    "name": "ipython",
    "version": 3
   },
   "file_extension": ".py",
   "mimetype": "text/x-python",
   "name": "python",
   "nbconvert_exporter": "python",
   "pygments_lexer": "ipython3",
   "version": "3.9.18"
  }
 },
 "nbformat": 4,
 "nbformat_minor": 4
}
