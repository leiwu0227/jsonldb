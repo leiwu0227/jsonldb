{
 "cells": [
  {
   "cell_type": "markdown",
   "metadata": {},
   "source": [
    "# Basic Operations with FolderDB\n",
    "\n",
    "This notebook demonstrates the basic operations you can perform with the FolderDB class, including:\n",
    "- Creating a database\n",
    "- Adding and updating data\n",
    "- Querying records\n",
    "- Deleting records"
   ]
  },
  {
   "cell_type": "markdown",
   "metadata": {},
   "source": [
    "## Setup and Imports\n",
    "\n",
    "First, let's import the required libraries and set up our environment."
   ]
  },
  {
   "cell_type": "code",
   "execution_count": 10,
   "metadata": {},
   "outputs": [],
   "source": [
    "import os\n",
    "import pandas as pd\n",
    "from datetime import datetime\n",
    "from jsonldb.folderdb import FolderDB"
   ]
  },
  {
   "cell_type": "markdown",
   "metadata": {},
   "source": [
    "## Initialize Database\n",
    "\n",
    "Let's create a folder for our database and initialize the FolderDB instance."
   ]
  },
  {
   "cell_type": "code",
   "execution_count": 11,
   "metadata": {},
   "outputs": [],
   "source": [
    "# Create a folder for our database\n",
    "db_folder = \"test_db\"\n",
    "os.makedirs(db_folder, exist_ok=True)\n",
    "\n",
    "# Initialize the database\n",
    "db = FolderDB(db_folder)"
   ]
  },
  {
   "cell_type": "markdown",
   "metadata": {},
   "source": [
    "## Create Sample Data\n",
    "\n",
    "Let's create some sample DataFrames with user and order information."
   ]
  },
  {
   "cell_type": "code",
   "execution_count": null,
   "metadata": {},
   "outputs": [],
   "source": [
    "# Create users DataFrame\n",
    "users_df = pd.DataFrame({\n",
    "    'name': ['Alice', 'Bob', 'Charlie'],\n",
    "    'age': [25, 30, 35],\n",
    "    'city': ['New York', 'London', 'Paris']\n",
    "}, index=['user1', 'user2', 'user3'])\n",
    "\n",
    "# Create orders DataFrame\n",
    "orders_df = pd.DataFrame({\n",
    "    'product': ['Laptop', 'Phone', 'Tablet'],\n",
    "    'price': [1000, 500, 300],\n",
    "    'quantity': [1, 2, 3]\n",
    "}, index=['order1', 'order2', 'order3'])\n",
    "\n",
    "print(\"Users DataFrame:\")\n",
    "display(users_df)\n",
    "print(\"\\nOrders DataFrame:\")\n",
    "display(orders_df)"
   ]
  },
  {
   "cell_type": "markdown",
   "metadata": {},
   "source": [
    "## Save Data to Database\n",
    "\n",
    "Now let's save our DataFrames to the database using the `upsert_df` method."
   ]
  },
  {
   "cell_type": "code",
   "execution_count": null,
   "metadata": {},
   "outputs": [],
   "source": [
    "# Save DataFrames to database\n",
    "db.upsert_df(\"users\", users_df)\n",
    "db.upsert_df(\"orders\", orders_df)\n",
    "\n",
    "print(\"Database state after saving:\")\n",
    "print(str(db))"
   ]
  },
  {
   "cell_type": "markdown",
   "metadata": {},
   "source": [
    "## Update Records\n",
    "\n",
    "Let's update some user information using a new DataFrame with updated values."
   ]
  },
  {
   "cell_type": "code",
   "execution_count": null,
   "metadata": {},
   "outputs": [],
   "source": [
    "# Create updates DataFrame\n",
    "updates_df = pd.DataFrame({\n",
    "    'name': ['Alice Smith'],\n",
    "    'age': [26],\n",
    "    'city': ['Boston']\n",
    "}, index=['user1'])\n",
    "\n",
    "# Update the database\n",
    "db.upsert_df(\"users\", updates_df)\n",
    "\n",
    "print(\"Updated user information:\")\n",
    "display(db.get_df([\"users\"])[\"users\"])\n",
    "print(str(db))"
   ]
  },
  {
   "cell_type": "markdown",
   "metadata": {},
   "source": [
    "## Query Records\n",
    "\n",
    "Let's demonstrate different ways to query records from the database."
   ]
  },
  {
   "cell_type": "code",
   "execution_count": null,
   "metadata": {},
   "outputs": [],
   "source": [
    "# Query all users\n",
    "print(\"All users:\")\n",
    "display(db.get_df([\"users\"])[\"users\"])\n",
    "\n",
    "# Query specific orders using key range\n",
    "print(\"\\nOrders 1-2:\")\n",
    "display(db.get_df([\"orders\"], lower_key=\"order1\", upper_key=\"order2\")[\"orders\"])"
   ]
  },
  {
   "cell_type": "markdown",
   "metadata": {},
   "source": [
    "## Delete Records\n",
    "\n",
    "Let's delete some records from the database."
   ]
  },
  {
   "cell_type": "code",
   "execution_count": null,
   "metadata": {},
   "outputs": [],
   "source": [
    "# Delete user2\n",
    "db.delete_file_keys(\"users\", [\"user2\"])\n",
    "\n",
    "print(\"Database state after deletion:\")\n",
    "print(str(db))\n",
    "\n",
    "print(\"\\nRemaining users:\")\n",
    "display(db.get_df([\"users\"])[\"users\"])\n"
   ]
  },
  {
   "cell_type": "markdown",
   "metadata": {},
   "source": [
    "## Cleanup\n",
    "\n",
    "Finally, let's clean up by removing the database folder and its contents."
   ]
  },
  {
   "cell_type": "code",
   "execution_count": null,
   "metadata": {},
   "outputs": [],
   "source": [
    "# Cleanup\n",
    "for file in os.listdir(db_folder):\n",
    "    os.remove(os.path.join(db_folder, file))\n",
    "os.rmdir(db_folder)\n",
    "\n",
    "print(\"Database folder has been cleaned up.\")"
   ]
  },
  {
   "cell_type": "code",
   "execution_count": null,
   "metadata": {},
   "outputs": [],
   "source": []
  }
 ],
 "metadata": {
  "kernelspec": {
   "display_name": "base",
   "language": "python",
   "name": "python3"
  },
  "language_info": {
   "codemirror_mode": {
    "name": "ipython",
    "version": 3
   },
   "file_extension": ".py",
   "mimetype": "text/x-python",
   "name": "python",
   "nbconvert_exporter": "python",
   "pygments_lexer": "ipython3",
   "version": "3.9.18"
  }
 },
 "nbformat": 4,
 "nbformat_minor": 4
}
