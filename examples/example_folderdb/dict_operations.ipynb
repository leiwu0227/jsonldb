{
 "cells": [
  {
   "cell_type": "markdown",
   "metadata": {},
   "source": [
    "# Dictionary Operations with FolderDB\n",
    "\n",
    "This notebook demonstrates how to work with nested dictionaries using the FolderDB class. We'll show:\n",
    "- Creating and storing nested dictionaries\n",
    "- Updating specific values in nested structures\n",
    "- Querying dictionary data\n",
    "- Deleting dictionary entries"
   ]
  },
  {
   "cell_type": "markdown",
   "metadata": {},
   "source": [
    "## Setup and Imports\n",
    "\n",
    "First, let's import the required libraries and set up our environment."
   ]
  },
  {
   "cell_type": "code",
   "execution_count": 12,
   "metadata": {},
   "outputs": [],
   "source": [
    "import os\n",
    "import json\n",
    "from jsonldb.folderdb import FolderDB"
   ]
  },
  {
   "cell_type": "markdown",
   "metadata": {},
   "source": [
    "## Initialize Database\n",
    "\n",
    "Let's create a folder for our database and initialize the FolderDB instance."
   ]
  },
  {
   "cell_type": "code",
   "execution_count": 13,
   "metadata": {},
   "outputs": [],
   "source": [
    "# Create a folder for our database\n",
    "db_folder = \"dict_db\"\n",
    "os.makedirs(db_folder, exist_ok=True)\n",
    "\n",
    "# Initialize the database\n",
    "db = FolderDB(db_folder)"
   ]
  },
  {
   "cell_type": "markdown",
   "metadata": {},
   "source": [
    "## Create Sample Data\n",
    "\n",
    "Let's create some sample nested dictionaries for products and inventory."
   ]
  },
  {
   "cell_type": "code",
   "execution_count": null,
   "metadata": {},
   "outputs": [],
   "source": [
    "# Create products dictionary\n",
    "products = {\n",
    "    \"prod1\": {\n",
    "        \"name\": \"Laptop\",\n",
    "        \"price\": 1000,\n",
    "        \"specs\": {\n",
    "            \"cpu\": \"Intel i7\",\n",
    "            \"ram\": \"16GB\",\n",
    "            \"storage\": \"512GB SSD\"\n",
    "        }\n",
    "    },\n",
    "    \"prod2\": {\n",
    "        \"name\": \"Smartphone\",\n",
    "        \"price\": 500,\n",
    "        \"specs\": {\n",
    "            \"cpu\": \"Snapdragon 8\",\n",
    "            \"ram\": \"8GB\",\n",
    "            \"storage\": \"256GB\"\n",
    "        }\n",
    "    }\n",
    "}\n",
    "\n",
    "# Create inventory dictionary\n",
    "inventory = {\n",
    "    \"loc1\": {\n",
    "        \"name\": \"Warehouse A\",\n",
    "        \"address\": \"123 Main St\",\n",
    "        \"stock\": {\n",
    "            \"prod1\": 10,\n",
    "            \"prod2\": 20\n",
    "        }\n",
    "    },\n",
    "    \"loc2\": {\n",
    "        \"name\": \"Warehouse B\",\n",
    "        \"address\": \"456 Oak Ave\",\n",
    "        \"stock\": {\n",
    "            \"prod1\": 5,\n",
    "            \"prod2\": 15\n",
    "        }\n",
    "    }\n",
    "}\n",
    "\n",
    "print(\"Products Dictionary:\")\n",
    "print(json.dumps(products, indent=2))\n",
    "print(\"\\nInventory Dictionary:\")\n",
    "print(json.dumps(inventory, indent=2))"
   ]
  },
  {
   "cell_type": "markdown",
   "metadata": {},
   "source": [
    "## Save Data to Database\n",
    "\n",
    "Now let's save our dictionaries to the database using the `upsert_dicts` method."
   ]
  },
  {
   "cell_type": "code",
   "execution_count": null,
   "metadata": {},
   "outputs": [],
   "source": [
    "# Save dictionaries to database\n",
    "db.upsert_dicts({\n",
    "    \"products\": products,\n",
    "    \"inventory\": inventory\n",
    "})\n",
    "\n",
    "print(\"Database state after saving:\")\n",
    "print(str(db))"
   ]
  },
  {
   "cell_type": "markdown",
   "metadata": {},
   "source": [
    "## Update Records\n",
    "\n",
    "Let's update the price of a product using the `upsert_dict` method."
   ]
  },
  {
   "cell_type": "code",
   "execution_count": null,
   "metadata": {},
   "outputs": [],
   "source": [
    "# Update product price\n",
    "updated_product = {\n",
    "    \"prod1\": {\n",
    "        \"name\": \"Laptop\",\n",
    "        \"price\": 1200,  # Updated price\n",
    "        \"specs\": {\n",
    "            \"cpu\": \"Intel i7\",\n",
    "            \"ram\": \"16GB\",\n",
    "            \"storage\": \"512GB SSD\"\n",
    "        }\n",
    "    }\n",
    "}\n",
    "\n",
    "db.upsert_dict(\"products\", updated_product)\n",
    "\n",
    "print(\"Updated product information:\")\n",
    "print(json.dumps(db.get_dict([\"products\"])[\"products\"], indent=2))"
   ]
  },
  {
   "cell_type": "markdown",
   "metadata": {},
   "source": [
    "## Query Records\n",
    "\n",
    "Let's demonstrate different ways to query dictionary data from the database."
   ]
  },
  {
   "cell_type": "code",
   "execution_count": null,
   "metadata": {},
   "outputs": [],
   "source": [
    "# Query all products\n",
    "print(\"All products:\")\n",
    "print(json.dumps(db.get_dict([\"products\"])[\"products\"], indent=2))\n",
    "\n",
    "# Query specific warehouse inventory\n",
    "print(\"\\nWarehouse A inventory:\")\n",
    "print(json.dumps(db.get_dict([\"inventory\"], lower_key=\"loc1\", upper_key=\"loc1\")[\"inventory\"], indent=2))"
   ]
  },
  {
   "cell_type": "markdown",
   "metadata": {},
   "source": [
    "## Update Nested Data\n",
    "\n",
    "Let's update the inventory for a specific location."
   ]
  },
  {
   "cell_type": "code",
   "execution_count": null,
   "metadata": {},
   "outputs": [],
   "source": [
    "# Update warehouse inventory\n",
    "updated_inventory = {\n",
    "    \"loc1\": {\n",
    "        \"name\": \"Warehouse A\",\n",
    "        \"address\": \"123 Main St\",\n",
    "        \"stock\": {\n",
    "            \"prod1\": 15,  # Updated quantity\n",
    "            \"prod2\": 25   # Updated quantity\n",
    "        }\n",
    "    }\n",
    "}\n",
    "\n",
    "db.upsert_dict(\"inventory\", updated_inventory)\n",
    "\n",
    "print(\"Updated inventory:\")\n",
    "print(json.dumps(db.get_dict([\"inventory\"])[\"inventory\"], indent=2))"
   ]
  },
  {
   "cell_type": "markdown",
   "metadata": {},
   "source": [
    "## Delete Records\n",
    "\n",
    "Let's delete a warehouse location from the inventory."
   ]
  },
  {
   "cell_type": "code",
   "execution_count": null,
   "metadata": {},
   "outputs": [],
   "source": [
    "# Delete warehouse location\n",
    "db.delete_file_keys(\"inventory\", [\"loc2\"])\n",
    "\n",
    "print(\"Database state after deletion:\")\n",
    "print(str(db))\n",
    "\n",
    "print(\"\\nRemaining inventory:\")\n",
    "print(json.dumps(db.get_dict([\"inventory\"])[\"inventory\"], indent=2))"
   ]
  },
  {
   "cell_type": "markdown",
   "metadata": {},
   "source": [
    "## Lint DB"
   ]
  },
  {
   "cell_type": "code",
   "execution_count": null,
   "metadata": {},
   "outputs": [],
   "source": [
    "db.lint_db()"
   ]
  },
  {
   "cell_type": "code",
   "execution_count": null,
   "metadata": {},
   "outputs": [],
   "source": [
    "print(db)"
   ]
  },
  {
   "cell_type": "markdown",
   "metadata": {},
   "source": [
    "## Cleanup\n",
    "\n",
    "Finally, let's clean up by removing the database folder and its contents."
   ]
  },
  {
   "cell_type": "code",
   "execution_count": null,
   "metadata": {},
   "outputs": [],
   "source": [
    "# Cleanup\n",
    "for file in os.listdir(db_folder):\n",
    "    os.remove(os.path.join(db_folder, file))\n",
    "os.rmdir(db_folder)\n",
    "\n",
    "print(\"Database folder has been cleaned up.\")"
   ]
  },
  {
   "cell_type": "code",
   "execution_count": null,
   "metadata": {},
   "outputs": [],
   "source": []
  },
  {
   "cell_type": "code",
   "execution_count": null,
   "metadata": {},
   "outputs": [],
   "source": []
  }
 ],
 "metadata": {
  "kernelspec": {
   "display_name": "base",
   "language": "python",
   "name": "python3"
  },
  "language_info": {
   "codemirror_mode": {
    "name": "ipython",
    "version": 3
   },
   "file_extension": ".py",
   "mimetype": "text/x-python",
   "name": "python",
   "nbconvert_exporter": "python",
   "pygments_lexer": "ipython3",
   "version": "3.9.18"
  }
 },
 "nbformat": 4,
 "nbformat_minor": 4
}
