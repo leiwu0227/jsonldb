{
 "cells": [
  {
   "cell_type": "markdown",
   "metadata": {},
   "source": [
    "# Time Series Data with FolderDB\n",
    "\n",
    "This notebook demonstrates how to work with time series data using the FolderDB class. We'll show:\n",
    "- Generating time series data with datetime keys\n",
    "- Storing and retrieving time-based records\n",
    "- Performing range queries with timestamps\n",
    "- Calculating statistics on time series data"
   ]
  },
  {
   "cell_type": "markdown",
   "metadata": {},
   "source": [
    "## Setup and Imports\n",
    "\n",
    "First, let's import the required libraries and set up our environment."
   ]
  },
  {
   "cell_type": "code",
   "execution_count": 2,
   "metadata": {},
   "outputs": [],
   "source": [
    "import os\n",
    "import pandas as pd\n",
    "import numpy as np\n",
    "from datetime import datetime, timedelta\n",
    "import sys\n",
    "\n",
    "# Add the parent directory to the Python path\n",
    "sys.path.append(os.path.dirname(os.path.dirname(os.path.dirname(os.getcwd()))))\n",
    "\n",
    "\n",
    "from jsonldb.folderdb import FolderDB"
   ]
  },
  {
   "cell_type": "markdown",
   "metadata": {},
   "source": [
    "## Initialize Database\n",
    "\n",
    "Let's create a folder for our database and initialize the FolderDB instance."
   ]
  },
  {
   "cell_type": "code",
   "execution_count": 3,
   "metadata": {},
   "outputs": [],
   "source": [
    "# Create a folder for our database\n",
    "db_folder = \"timeseries_db\"\n",
    "os.makedirs(db_folder, exist_ok=True)\n",
    "\n",
    "# Initialize the database\n",
    "db = FolderDB(db_folder)"
   ]
  },
  {
   "cell_type": "markdown",
   "metadata": {},
   "source": [
    "## Generate Sample Data\n",
    "\n",
    "Let's create a function to generate sample sensor data with temperature, humidity, and pressure readings."
   ]
  },
  {
   "cell_type": "code",
   "execution_count": 4,
   "metadata": {},
   "outputs": [
    {
     "name": "stdout",
     "output_type": "stream",
     "text": [
      "Sensor 1 Data (first 5 records):\n"
     ]
    },
    {
     "data": {
      "text/html": [
       "<div>\n",
       "<style scoped>\n",
       "    .dataframe tbody tr th:only-of-type {\n",
       "        vertical-align: middle;\n",
       "    }\n",
       "\n",
       "    .dataframe tbody tr th {\n",
       "        vertical-align: top;\n",
       "    }\n",
       "\n",
       "    .dataframe thead th {\n",
       "        text-align: right;\n",
       "    }\n",
       "</style>\n",
       "<table border=\"1\" class=\"dataframe\">\n",
       "  <thead>\n",
       "    <tr style=\"text-align: right;\">\n",
       "      <th></th>\n",
       "      <th>temperature</th>\n",
       "      <th>humidity</th>\n",
       "      <th>pressure</th>\n",
       "    </tr>\n",
       "  </thead>\n",
       "  <tbody>\n",
       "    <tr>\n",
       "      <th>2025-03-27 13:26:21.504995</th>\n",
       "      <td>24.2</td>\n",
       "      <td>56.7</td>\n",
       "      <td>1015.3</td>\n",
       "    </tr>\n",
       "    <tr>\n",
       "      <th>2025-03-27 13:27:21.504995</th>\n",
       "      <td>24.6</td>\n",
       "      <td>59.5</td>\n",
       "      <td>1016.6</td>\n",
       "    </tr>\n",
       "    <tr>\n",
       "      <th>2025-03-27 13:28:21.504995</th>\n",
       "      <td>22.5</td>\n",
       "      <td>54.4</td>\n",
       "      <td>1011.1</td>\n",
       "    </tr>\n",
       "    <tr>\n",
       "      <th>2025-03-27 13:29:21.504995</th>\n",
       "      <td>28.5</td>\n",
       "      <td>55.5</td>\n",
       "      <td>1015.7</td>\n",
       "    </tr>\n",
       "    <tr>\n",
       "      <th>2025-03-27 13:30:21.504995</th>\n",
       "      <td>25.0</td>\n",
       "      <td>66.5</td>\n",
       "      <td>1022.8</td>\n",
       "    </tr>\n",
       "  </tbody>\n",
       "</table>\n",
       "</div>"
      ],
      "text/plain": [
       "                            temperature  humidity  pressure\n",
       "2025-03-27 13:26:21.504995         24.2      56.7    1015.3\n",
       "2025-03-27 13:27:21.504995         24.6      59.5    1016.6\n",
       "2025-03-27 13:28:21.504995         22.5      54.4    1011.1\n",
       "2025-03-27 13:29:21.504995         28.5      55.5    1015.7\n",
       "2025-03-27 13:30:21.504995         25.0      66.5    1022.8"
      ]
     },
     "metadata": {},
     "output_type": "display_data"
    },
    {
     "name": "stdout",
     "output_type": "stream",
     "text": [
      "\n",
      "Sensor 2 Data (first 5 records):\n"
     ]
    },
    {
     "data": {
      "text/html": [
       "<div>\n",
       "<style scoped>\n",
       "    .dataframe tbody tr th:only-of-type {\n",
       "        vertical-align: middle;\n",
       "    }\n",
       "\n",
       "    .dataframe tbody tr th {\n",
       "        vertical-align: top;\n",
       "    }\n",
       "\n",
       "    .dataframe thead th {\n",
       "        text-align: right;\n",
       "    }\n",
       "</style>\n",
       "<table border=\"1\" class=\"dataframe\">\n",
       "  <thead>\n",
       "    <tr style=\"text-align: right;\">\n",
       "      <th></th>\n",
       "      <th>temperature</th>\n",
       "      <th>humidity</th>\n",
       "      <th>pressure</th>\n",
       "    </tr>\n",
       "  </thead>\n",
       "  <tbody>\n",
       "    <tr>\n",
       "      <th>2025-03-27 13:26:21.504995</th>\n",
       "      <td>24.2</td>\n",
       "      <td>56.1</td>\n",
       "      <td>1023.5</td>\n",
       "    </tr>\n",
       "    <tr>\n",
       "      <th>2025-03-27 13:27:21.504995</th>\n",
       "      <td>29.3</td>\n",
       "      <td>67.4</td>\n",
       "      <td>1007.9</td>\n",
       "    </tr>\n",
       "    <tr>\n",
       "      <th>2025-03-27 13:28:21.504995</th>\n",
       "      <td>23.4</td>\n",
       "      <td>54.8</td>\n",
       "      <td>1009.8</td>\n",
       "    </tr>\n",
       "    <tr>\n",
       "      <th>2025-03-27 13:29:21.504995</th>\n",
       "      <td>25.3</td>\n",
       "      <td>53.6</td>\n",
       "      <td>1009.1</td>\n",
       "    </tr>\n",
       "    <tr>\n",
       "      <th>2025-03-27 13:30:21.504995</th>\n",
       "      <td>21.1</td>\n",
       "      <td>63.4</td>\n",
       "      <td>1012.4</td>\n",
       "    </tr>\n",
       "  </tbody>\n",
       "</table>\n",
       "</div>"
      ],
      "text/plain": [
       "                            temperature  humidity  pressure\n",
       "2025-03-27 13:26:21.504995         24.2      56.1    1023.5\n",
       "2025-03-27 13:27:21.504995         29.3      67.4    1007.9\n",
       "2025-03-27 13:28:21.504995         23.4      54.8    1009.8\n",
       "2025-03-27 13:29:21.504995         25.3      53.6    1009.1\n",
       "2025-03-27 13:30:21.504995         21.1      63.4    1012.4"
      ]
     },
     "metadata": {},
     "output_type": "display_data"
    }
   ],
   "source": [
    "def generate_sensor_data(start_time: datetime, duration_minutes: int, interval_minutes: int = 1) -> pd.DataFrame:\n",
    "    \"\"\"Generate sample sensor data.\n",
    "    \n",
    "    Args:\n",
    "        start_time: Starting datetime\n",
    "        duration_minutes: Duration in minutes\n",
    "        interval_minutes: Time interval between readings in minutes\n",
    "        \n",
    "    Returns:\n",
    "        DataFrame with sensor readings\n",
    "    \"\"\"\n",
    "    # Generate timestamps\n",
    "    timestamps = [start_time + timedelta(minutes=i) for i in range(0, duration_minutes, interval_minutes)]\n",
    "    \n",
    "    # Generate random sensor data\n",
    "    data = {\n",
    "        'temperature': np.random.normal(25, 2, len(timestamps)),\n",
    "        'humidity': np.random.normal(60, 5, len(timestamps)),\n",
    "        'pressure': np.random.normal(1013, 5, len(timestamps))\n",
    "    }\n",
    "    \n",
    "    # Create DataFrame\n",
    "    df = pd.DataFrame(data, index=timestamps)\n",
    "    \n",
    "    # Round values\n",
    "    df['temperature'] = df['temperature'].round(1)\n",
    "    df['humidity'] = df['humidity'].round(1)\n",
    "    df['pressure'] = df['pressure'].round(1)\n",
    "    \n",
    "    return df\n",
    "\n",
    "# Generate data for two sensors\n",
    "start_time = datetime.now() - timedelta(hours=1)\n",
    "sensor1_data = generate_sensor_data(start_time, 60)\n",
    "sensor2_data = generate_sensor_data(start_time, 60)\n",
    "\n",
    "print(\"Sensor 1 Data (first 5 records):\")\n",
    "display(sensor1_data.head())\n",
    "print(\"\\nSensor 2 Data (first 5 records):\")\n",
    "display(sensor2_data.head())"
   ]
  },
  {
   "cell_type": "markdown",
   "metadata": {},
   "source": [
    "## Save Data to Database\n",
    "\n",
    "Now let's save our sensor data to the database using the `upsert_df` method."
   ]
  },
  {
   "cell_type": "code",
   "execution_count": 5,
   "metadata": {},
   "outputs": [
    {
     "name": "stdout",
     "output_type": "stream",
     "text": [
      "Database state after saving:\n",
      "FolderDB at timeseries_db\n",
      "--------------------------------------------------\n",
      "Found 2 JSONL files\n",
      "\n",
      "sensor1.jsonl:\n",
      "  Size: 4740 bytes\n",
      "  Count: 60\n",
      "  Key range: 2025-03-27T13:26:21 to 2025-03-27T14:25:21\n",
      "  Linted: False\n",
      "\n",
      "sensor2.jsonl:\n",
      "  Size: 4740 bytes\n",
      "  Count: 60\n",
      "  Key range: 2025-03-27T13:26:21 to 2025-03-27T14:25:21\n",
      "  Linted: False\n",
      "\n",
      "\n"
     ]
    }
   ],
   "source": [
    "# Save DataFrames to database\n",
    "db.upsert_df(\"sensor1\", sensor1_data)\n",
    "db.upsert_df(\"sensor2\", sensor2_data)\n",
    "\n",
    "print(\"Database state after saving:\")\n",
    "print(str(db))"
   ]
  },
  {
   "cell_type": "markdown",
   "metadata": {},
   "source": [
    "## Query Recent Data\n",
    "\n",
    "Let's query the last 30 minutes of data from both sensors."
   ]
  },
  {
   "cell_type": "code",
   "execution_count": 6,
   "metadata": {},
   "outputs": [
    {
     "name": "stdout",
     "output_type": "stream",
     "text": [
      "Recent Sensor 1 Data:\n"
     ]
    },
    {
     "data": {
      "text/html": [
       "<div>\n",
       "<style scoped>\n",
       "    .dataframe tbody tr th:only-of-type {\n",
       "        vertical-align: middle;\n",
       "    }\n",
       "\n",
       "    .dataframe tbody tr th {\n",
       "        vertical-align: top;\n",
       "    }\n",
       "\n",
       "    .dataframe thead th {\n",
       "        text-align: right;\n",
       "    }\n",
       "</style>\n",
       "<table border=\"1\" class=\"dataframe\">\n",
       "  <thead>\n",
       "    <tr style=\"text-align: right;\">\n",
       "      <th></th>\n",
       "      <th>temperature</th>\n",
       "      <th>humidity</th>\n",
       "      <th>pressure</th>\n",
       "    </tr>\n",
       "  </thead>\n",
       "  <tbody>\n",
       "    <tr>\n",
       "      <th>2025-03-27 13:57:21</th>\n",
       "      <td>26.4</td>\n",
       "      <td>72.6</td>\n",
       "      <td>1013.2</td>\n",
       "    </tr>\n",
       "    <tr>\n",
       "      <th>2025-03-27 13:58:21</th>\n",
       "      <td>23.6</td>\n",
       "      <td>54.7</td>\n",
       "      <td>1009.8</td>\n",
       "    </tr>\n",
       "    <tr>\n",
       "      <th>2025-03-27 13:59:21</th>\n",
       "      <td>25.0</td>\n",
       "      <td>64.1</td>\n",
       "      <td>1017.2</td>\n",
       "    </tr>\n",
       "    <tr>\n",
       "      <th>2025-03-27 14:00:21</th>\n",
       "      <td>25.5</td>\n",
       "      <td>53.1</td>\n",
       "      <td>1018.9</td>\n",
       "    </tr>\n",
       "    <tr>\n",
       "      <th>2025-03-27 14:01:21</th>\n",
       "      <td>22.3</td>\n",
       "      <td>58.7</td>\n",
       "      <td>1011.4</td>\n",
       "    </tr>\n",
       "  </tbody>\n",
       "</table>\n",
       "</div>"
      ],
      "text/plain": [
       "                     temperature  humidity  pressure\n",
       "2025-03-27 13:57:21         26.4      72.6    1013.2\n",
       "2025-03-27 13:58:21         23.6      54.7    1009.8\n",
       "2025-03-27 13:59:21         25.0      64.1    1017.2\n",
       "2025-03-27 14:00:21         25.5      53.1    1018.9\n",
       "2025-03-27 14:01:21         22.3      58.7    1011.4"
      ]
     },
     "metadata": {},
     "output_type": "display_data"
    },
    {
     "name": "stdout",
     "output_type": "stream",
     "text": [
      "\n",
      "Recent Sensor 2 Data:\n"
     ]
    },
    {
     "data": {
      "text/html": [
       "<div>\n",
       "<style scoped>\n",
       "    .dataframe tbody tr th:only-of-type {\n",
       "        vertical-align: middle;\n",
       "    }\n",
       "\n",
       "    .dataframe tbody tr th {\n",
       "        vertical-align: top;\n",
       "    }\n",
       "\n",
       "    .dataframe thead th {\n",
       "        text-align: right;\n",
       "    }\n",
       "</style>\n",
       "<table border=\"1\" class=\"dataframe\">\n",
       "  <thead>\n",
       "    <tr style=\"text-align: right;\">\n",
       "      <th></th>\n",
       "      <th>temperature</th>\n",
       "      <th>humidity</th>\n",
       "      <th>pressure</th>\n",
       "    </tr>\n",
       "  </thead>\n",
       "  <tbody>\n",
       "    <tr>\n",
       "      <th>2025-03-27 13:57:21</th>\n",
       "      <td>23.4</td>\n",
       "      <td>67.5</td>\n",
       "      <td>1020.2</td>\n",
       "    </tr>\n",
       "    <tr>\n",
       "      <th>2025-03-27 13:58:21</th>\n",
       "      <td>25.7</td>\n",
       "      <td>64.8</td>\n",
       "      <td>1011.4</td>\n",
       "    </tr>\n",
       "    <tr>\n",
       "      <th>2025-03-27 13:59:21</th>\n",
       "      <td>27.3</td>\n",
       "      <td>60.2</td>\n",
       "      <td>1010.2</td>\n",
       "    </tr>\n",
       "    <tr>\n",
       "      <th>2025-03-27 14:00:21</th>\n",
       "      <td>28.2</td>\n",
       "      <td>51.7</td>\n",
       "      <td>1014.6</td>\n",
       "    </tr>\n",
       "    <tr>\n",
       "      <th>2025-03-27 14:01:21</th>\n",
       "      <td>23.6</td>\n",
       "      <td>63.1</td>\n",
       "      <td>1007.1</td>\n",
       "    </tr>\n",
       "  </tbody>\n",
       "</table>\n",
       "</div>"
      ],
      "text/plain": [
       "                     temperature  humidity  pressure\n",
       "2025-03-27 13:57:21         23.4      67.5    1020.2\n",
       "2025-03-27 13:58:21         25.7      64.8    1011.4\n",
       "2025-03-27 13:59:21         27.3      60.2    1010.2\n",
       "2025-03-27 14:00:21         28.2      51.7    1014.6\n",
       "2025-03-27 14:01:21         23.6      63.1    1007.1"
      ]
     },
     "metadata": {},
     "output_type": "display_data"
    }
   ],
   "source": [
    "# Get current time and calculate time range\n",
    "end_time = datetime.now()\n",
    "start_time = end_time - timedelta(minutes=30)\n",
    "\n",
    "# Query recent data\n",
    "recent_data = db.get_df([\"sensor1\", \"sensor2\"], lower_key=start_time, upper_key=end_time)\n",
    "\n",
    "print(\"Recent Sensor 1 Data:\")\n",
    "display(recent_data[\"sensor1\"].head())\n",
    "print(\"\\nRecent Sensor 2 Data:\")\n",
    "display(recent_data[\"sensor2\"].head())"
   ]
  },
  {
   "cell_type": "markdown",
   "metadata": {},
   "source": [
    "## Calculate Statistics\n",
    "\n",
    "Let's calculate some basic statistics on the sensor data."
   ]
  },
  {
   "cell_type": "code",
   "execution_count": 7,
   "metadata": {},
   "outputs": [
    {
     "name": "stdout",
     "output_type": "stream",
     "text": [
      "Sensor 1 Statistics:\n"
     ]
    },
    {
     "data": {
      "text/html": [
       "<div>\n",
       "<style scoped>\n",
       "    .dataframe tbody tr th:only-of-type {\n",
       "        vertical-align: middle;\n",
       "    }\n",
       "\n",
       "    .dataframe tbody tr th {\n",
       "        vertical-align: top;\n",
       "    }\n",
       "\n",
       "    .dataframe thead th {\n",
       "        text-align: right;\n",
       "    }\n",
       "</style>\n",
       "<table border=\"1\" class=\"dataframe\">\n",
       "  <thead>\n",
       "    <tr style=\"text-align: right;\">\n",
       "      <th></th>\n",
       "      <th>temperature</th>\n",
       "      <th>humidity</th>\n",
       "      <th>pressure</th>\n",
       "    </tr>\n",
       "  </thead>\n",
       "  <tbody>\n",
       "    <tr>\n",
       "      <th>count</th>\n",
       "      <td>60.000000</td>\n",
       "      <td>60.000000</td>\n",
       "      <td>60.000000</td>\n",
       "    </tr>\n",
       "    <tr>\n",
       "      <th>mean</th>\n",
       "      <td>25.575000</td>\n",
       "      <td>61.428333</td>\n",
       "      <td>1013.590000</td>\n",
       "    </tr>\n",
       "    <tr>\n",
       "      <th>std</th>\n",
       "      <td>1.937903</td>\n",
       "      <td>5.546906</td>\n",
       "      <td>4.211433</td>\n",
       "    </tr>\n",
       "    <tr>\n",
       "      <th>min</th>\n",
       "      <td>21.600000</td>\n",
       "      <td>44.700000</td>\n",
       "      <td>1006.100000</td>\n",
       "    </tr>\n",
       "    <tr>\n",
       "      <th>25%</th>\n",
       "      <td>24.175000</td>\n",
       "      <td>58.400000</td>\n",
       "      <td>1010.325000</td>\n",
       "    </tr>\n",
       "    <tr>\n",
       "      <th>50%</th>\n",
       "      <td>25.250000</td>\n",
       "      <td>61.600000</td>\n",
       "      <td>1013.550000</td>\n",
       "    </tr>\n",
       "    <tr>\n",
       "      <th>75%</th>\n",
       "      <td>27.325000</td>\n",
       "      <td>64.175000</td>\n",
       "      <td>1016.300000</td>\n",
       "    </tr>\n",
       "    <tr>\n",
       "      <th>max</th>\n",
       "      <td>29.000000</td>\n",
       "      <td>74.000000</td>\n",
       "      <td>1022.900000</td>\n",
       "    </tr>\n",
       "  </tbody>\n",
       "</table>\n",
       "</div>"
      ],
      "text/plain": [
       "       temperature   humidity     pressure\n",
       "count    60.000000  60.000000    60.000000\n",
       "mean     25.575000  61.428333  1013.590000\n",
       "std       1.937903   5.546906     4.211433\n",
       "min      21.600000  44.700000  1006.100000\n",
       "25%      24.175000  58.400000  1010.325000\n",
       "50%      25.250000  61.600000  1013.550000\n",
       "75%      27.325000  64.175000  1016.300000\n",
       "max      29.000000  74.000000  1022.900000"
      ]
     },
     "metadata": {},
     "output_type": "display_data"
    },
    {
     "name": "stdout",
     "output_type": "stream",
     "text": [
      "\n",
      "Sensor 2 Statistics:\n"
     ]
    },
    {
     "data": {
      "text/html": [
       "<div>\n",
       "<style scoped>\n",
       "    .dataframe tbody tr th:only-of-type {\n",
       "        vertical-align: middle;\n",
       "    }\n",
       "\n",
       "    .dataframe tbody tr th {\n",
       "        vertical-align: top;\n",
       "    }\n",
       "\n",
       "    .dataframe thead th {\n",
       "        text-align: right;\n",
       "    }\n",
       "</style>\n",
       "<table border=\"1\" class=\"dataframe\">\n",
       "  <thead>\n",
       "    <tr style=\"text-align: right;\">\n",
       "      <th></th>\n",
       "      <th>temperature</th>\n",
       "      <th>humidity</th>\n",
       "      <th>pressure</th>\n",
       "    </tr>\n",
       "  </thead>\n",
       "  <tbody>\n",
       "    <tr>\n",
       "      <th>count</th>\n",
       "      <td>60.000000</td>\n",
       "      <td>60.000000</td>\n",
       "      <td>60.000000</td>\n",
       "    </tr>\n",
       "    <tr>\n",
       "      <th>mean</th>\n",
       "      <td>24.610000</td>\n",
       "      <td>61.261667</td>\n",
       "      <td>1012.841667</td>\n",
       "    </tr>\n",
       "    <tr>\n",
       "      <th>std</th>\n",
       "      <td>2.050523</td>\n",
       "      <td>4.990537</td>\n",
       "      <td>4.792908</td>\n",
       "    </tr>\n",
       "    <tr>\n",
       "      <th>min</th>\n",
       "      <td>19.400000</td>\n",
       "      <td>50.500000</td>\n",
       "      <td>1004.400000</td>\n",
       "    </tr>\n",
       "    <tr>\n",
       "      <th>25%</th>\n",
       "      <td>23.300000</td>\n",
       "      <td>57.775000</td>\n",
       "      <td>1009.650000</td>\n",
       "    </tr>\n",
       "    <tr>\n",
       "      <th>50%</th>\n",
       "      <td>24.550000</td>\n",
       "      <td>61.600000</td>\n",
       "      <td>1011.750000</td>\n",
       "    </tr>\n",
       "    <tr>\n",
       "      <th>75%</th>\n",
       "      <td>25.825000</td>\n",
       "      <td>65.050000</td>\n",
       "      <td>1016.400000</td>\n",
       "    </tr>\n",
       "    <tr>\n",
       "      <th>max</th>\n",
       "      <td>29.300000</td>\n",
       "      <td>71.500000</td>\n",
       "      <td>1026.700000</td>\n",
       "    </tr>\n",
       "  </tbody>\n",
       "</table>\n",
       "</div>"
      ],
      "text/plain": [
       "       temperature   humidity     pressure\n",
       "count    60.000000  60.000000    60.000000\n",
       "mean     24.610000  61.261667  1012.841667\n",
       "std       2.050523   4.990537     4.792908\n",
       "min      19.400000  50.500000  1004.400000\n",
       "25%      23.300000  57.775000  1009.650000\n",
       "50%      24.550000  61.600000  1011.750000\n",
       "75%      25.825000  65.050000  1016.400000\n",
       "max      29.300000  71.500000  1026.700000"
      ]
     },
     "metadata": {},
     "output_type": "display_data"
    }
   ],
   "source": [
    "# Get all data\n",
    "all_data = db.get_df([\"sensor1\", \"sensor2\"])\n",
    "\n",
    "print(\"Sensor 1 Statistics:\")\n",
    "display(all_data[\"sensor1\"].describe())\n",
    "print(\"\\nSensor 2 Statistics:\")\n",
    "display(all_data[\"sensor2\"].describe())"
   ]
  },
  {
   "cell_type": "markdown",
   "metadata": {},
   "source": [
    "## Apply Calibration\n",
    "\n",
    "Let's apply a calibration factor to one of the sensors."
   ]
  },
  {
   "cell_type": "code",
   "execution_count": 8,
   "metadata": {},
   "outputs": [
    {
     "name": "stdout",
     "output_type": "stream",
     "text": [
      "Calibrated Sensor 1 Data (first 5 records):\n"
     ]
    },
    {
     "data": {
      "text/html": [
       "<div>\n",
       "<style scoped>\n",
       "    .dataframe tbody tr th:only-of-type {\n",
       "        vertical-align: middle;\n",
       "    }\n",
       "\n",
       "    .dataframe tbody tr th {\n",
       "        vertical-align: top;\n",
       "    }\n",
       "\n",
       "    .dataframe thead th {\n",
       "        text-align: right;\n",
       "    }\n",
       "</style>\n",
       "<table border=\"1\" class=\"dataframe\">\n",
       "  <thead>\n",
       "    <tr style=\"text-align: right;\">\n",
       "      <th></th>\n",
       "      <th>temperature</th>\n",
       "      <th>humidity</th>\n",
       "      <th>pressure</th>\n",
       "    </tr>\n",
       "  </thead>\n",
       "  <tbody>\n",
       "    <tr>\n",
       "      <th>2025-03-27 13:26:21</th>\n",
       "      <td>26.62</td>\n",
       "      <td>56.7</td>\n",
       "      <td>1015.3</td>\n",
       "    </tr>\n",
       "    <tr>\n",
       "      <th>2025-03-27 13:27:21</th>\n",
       "      <td>27.06</td>\n",
       "      <td>59.5</td>\n",
       "      <td>1016.6</td>\n",
       "    </tr>\n",
       "    <tr>\n",
       "      <th>2025-03-27 13:28:21</th>\n",
       "      <td>24.75</td>\n",
       "      <td>54.4</td>\n",
       "      <td>1011.1</td>\n",
       "    </tr>\n",
       "    <tr>\n",
       "      <th>2025-03-27 13:29:21</th>\n",
       "      <td>31.35</td>\n",
       "      <td>55.5</td>\n",
       "      <td>1015.7</td>\n",
       "    </tr>\n",
       "    <tr>\n",
       "      <th>2025-03-27 13:30:21</th>\n",
       "      <td>27.50</td>\n",
       "      <td>66.5</td>\n",
       "      <td>1022.8</td>\n",
       "    </tr>\n",
       "  </tbody>\n",
       "</table>\n",
       "</div>"
      ],
      "text/plain": [
       "                     temperature  humidity  pressure\n",
       "2025-03-27 13:26:21        26.62      56.7    1015.3\n",
       "2025-03-27 13:27:21        27.06      59.5    1016.6\n",
       "2025-03-27 13:28:21        24.75      54.4    1011.1\n",
       "2025-03-27 13:29:21        31.35      55.5    1015.7\n",
       "2025-03-27 13:30:21        27.50      66.5    1022.8"
      ]
     },
     "metadata": {},
     "output_type": "display_data"
    }
   ],
   "source": [
    "# Apply calibration to sensor1\n",
    "calibration_factor = 1.1\n",
    "sensor1_calibrated = all_data[\"sensor1\"].copy()\n",
    "sensor1_calibrated['temperature'] *= calibration_factor\n",
    "\n",
    "# Save calibrated data\n",
    "db.upsert_df(\"sensor1\", sensor1_calibrated)\n",
    "\n",
    "print(\"Calibrated Sensor 1 Data (first 5 records):\")\n",
    "display(sensor1_calibrated.head())"
   ]
  },
  {
   "cell_type": "markdown",
   "metadata": {},
   "source": [
    "## Delete Old Data\n",
    "\n",
    "Let's delete data older than 30 minutes."
   ]
  },
  {
   "cell_type": "code",
   "execution_count": 9,
   "metadata": {},
   "outputs": [
    {
     "name": "stdout",
     "output_type": "stream",
     "text": [
      "Database state after deletion:\n",
      "FolderDB at timeseries_db\n",
      "--------------------------------------------------\n",
      "Found 2 JSONL files\n",
      "\n",
      "sensor1.jsonl:\n",
      "  Size: 9954 bytes\n",
      "  Count: 60\n",
      "  Key range: 2025-03-27T13:26:21 to 2025-03-27T14:25:21\n",
      "  Linted: False\n",
      "\n",
      "sensor2.jsonl:\n",
      "  Size: 4740 bytes\n",
      "  Count: 60\n",
      "  Key range: 2025-03-27T13:26:21 to 2025-03-27T14:25:21\n",
      "  Linted: False\n",
      "\n",
      "\n"
     ]
    }
   ],
   "source": [
    "# Delete old data from both sensors\n",
    "cutoff_time = datetime.now() - timedelta(minutes=30)\n",
    "\n",
    "db.delete_file_range(\"sensor1\", None, cutoff_time)\n",
    "db.delete_file_range(\"sensor2\", None, cutoff_time)\n",
    "\n",
    "print(\"Database state after deletion:\")\n",
    "print(str(db))"
   ]
  },
  {
   "cell_type": "markdown",
   "metadata": {},
   "source": [
    "## Lint DB"
   ]
  },
  {
   "cell_type": "code",
   "execution_count": 10,
   "metadata": {},
   "outputs": [
    {
     "name": "stdout",
     "output_type": "stream",
     "text": [
      "Found 2 JSONL files to lint.\n",
      "Linting file: sensor1.jsonl\n",
      "Successfully linted and updated metadata for sensor1.jsonl.\n",
      "Linting file: sensor2.jsonl\n",
      "Successfully linted and updated metadata for sensor2.jsonl.\n"
     ]
    }
   ],
   "source": [
    "db.lint_db()"
   ]
  },
  {
   "cell_type": "markdown",
   "metadata": {},
   "source": [
    "## Cleanup\n",
    "\n",
    "Finally, let's clean up by removing the database folder and its contents."
   ]
  },
  {
   "cell_type": "code",
   "execution_count": 11,
   "metadata": {},
   "outputs": [
    {
     "name": "stdout",
     "output_type": "stream",
     "text": [
      "Database folder has been cleaned up.\n"
     ]
    }
   ],
   "source": [
    "# Cleanup\n",
    "for file in os.listdir(db_folder):\n",
    "    os.remove(os.path.join(db_folder, file))\n",
    "os.rmdir(db_folder)\n",
    "\n",
    "print(\"Database folder has been cleaned up.\")"
   ]
  },
  {
   "cell_type": "code",
   "execution_count": null,
   "metadata": {},
   "outputs": [],
   "source": []
  }
 ],
 "metadata": {
  "kernelspec": {
   "display_name": "base",
   "language": "python",
   "name": "python3"
  },
  "language_info": {
   "codemirror_mode": {
    "name": "ipython",
    "version": 3
   },
   "file_extension": ".py",
   "mimetype": "text/x-python",
   "name": "python",
   "nbconvert_exporter": "python",
   "pygments_lexer": "ipython3",
   "version": "3.9.18"
  }
 },
 "nbformat": 4,
 "nbformat_minor": 4
}
