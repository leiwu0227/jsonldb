{
 "cells": [
  {
   "cell_type": "markdown",
   "metadata": {},
   "source": [
    "# Time Series Data with FolderDB\n",
    "\n",
    "This notebook demonstrates how to work with time series data using the FolderDB class. We'll show:\n",
    "- Generating time series data with datetime keys\n",
    "- Storing and retrieving time-based records\n",
    "- Performing range queries with timestamps\n",
    "- Calculating statistics on time series data"
   ]
  },
  {
   "cell_type": "markdown",
   "metadata": {},
   "source": [
    "## Setup and Imports\n",
    "\n",
    "First, let's import the required libraries and set up our environment."
   ]
  },
  {
   "cell_type": "code",
   "execution_count": 11,
   "metadata": {},
   "outputs": [],
   "source": [
    "import os\n",
    "import pandas as pd\n",
    "import numpy as np\n",
    "from datetime import datetime, timedelta\n",
    "import sys\n",
    "\n",
    "# Add the parent directory to the Python path\n",
    "sys.path.append(os.path.dirname(os.path.dirname(os.path.dirname(os.getcwd()))))\n",
    "\n",
    "\n",
    "from jsonldb.folderdb import FolderDB"
   ]
  },
  {
   "cell_type": "markdown",
   "metadata": {},
   "source": [
    "## Initialize Database\n",
    "\n",
    "Let's create a folder for our database and initialize the FolderDB instance."
   ]
  },
  {
   "cell_type": "code",
   "execution_count": 12,
   "metadata": {},
   "outputs": [],
   "source": [
    "# Create a folder for our database\n",
    "db_folder = \"timeseries_db\"\n",
    "os.makedirs(db_folder, exist_ok=True)\n",
    "\n",
    "# Initialize the database\n",
    "db = FolderDB(db_folder)"
   ]
  },
  {
   "cell_type": "markdown",
   "metadata": {},
   "source": [
    "## Generate Sample Data\n",
    "\n",
    "Let's create a function to generate sample sensor data with temperature, humidity, and pressure readings."
   ]
  },
  {
   "cell_type": "code",
   "execution_count": null,
   "metadata": {},
   "outputs": [],
   "source": [
    "def generate_sensor_data(start_time: datetime, duration_minutes: int, interval_minutes: int = 1) -> pd.DataFrame:\n",
    "    \"\"\"Generate sample sensor data.\n",
    "    \n",
    "    Args:\n",
    "        start_time: Starting datetime\n",
    "        duration_minutes: Duration in minutes\n",
    "        interval_minutes: Time interval between readings in minutes\n",
    "        \n",
    "    Returns:\n",
    "        DataFrame with sensor readings\n",
    "    \"\"\"\n",
    "    # Generate timestamps\n",
    "    timestamps = [start_time + timedelta(minutes=i) for i in range(0, duration_minutes, interval_minutes)]\n",
    "    \n",
    "    # Generate random sensor data\n",
    "    data = {\n",
    "        'temperature': np.random.normal(25, 2, len(timestamps)),\n",
    "        'humidity': np.random.normal(60, 5, len(timestamps)),\n",
    "        'pressure': np.random.normal(1013, 5, len(timestamps))\n",
    "    }\n",
    "    \n",
    "    # Create DataFrame\n",
    "    df = pd.DataFrame(data, index=timestamps)\n",
    "    \n",
    "    # Round values\n",
    "    df['temperature'] = df['temperature'].round(1)\n",
    "    df['humidity'] = df['humidity'].round(1)\n",
    "    df['pressure'] = df['pressure'].round(1)\n",
    "    \n",
    "    return df\n",
    "\n",
    "# Generate data for two sensors\n",
    "start_time = datetime.now() - timedelta(hours=1)\n",
    "sensor1_data = generate_sensor_data(start_time, 60)\n",
    "sensor2_data = generate_sensor_data(start_time, 60)\n",
    "\n",
    "print(\"Sensor 1 Data (first 5 records):\")\n",
    "display(sensor1_data.head())\n",
    "print(\"\\nSensor 2 Data (first 5 records):\")\n",
    "display(sensor2_data.head())"
   ]
  },
  {
   "cell_type": "markdown",
   "metadata": {},
   "source": [
    "## Save Data to Database\n",
    "\n",
    "Now let's save our sensor data to the database using the `upsert_df` method."
   ]
  },
  {
   "cell_type": "code",
   "execution_count": null,
   "metadata": {},
   "outputs": [],
   "source": [
    "# Save DataFrames to database\n",
    "db.upsert_df(\"sensor1\", sensor1_data)\n",
    "db.upsert_df(\"sensor2\", sensor2_data)\n",
    "\n",
    "print(\"Database state after saving:\")\n",
    "print(str(db))"
   ]
  },
  {
   "cell_type": "markdown",
   "metadata": {},
   "source": [
    "## Query Recent Data\n",
    "\n",
    "Let's query the last 30 minutes of data from both sensors."
   ]
  },
  {
   "cell_type": "code",
   "execution_count": null,
   "metadata": {},
   "outputs": [],
   "source": [
    "# Get current time and calculate time range\n",
    "end_time = datetime.now()\n",
    "start_time = end_time - timedelta(minutes=30)\n",
    "\n",
    "# Query recent data\n",
    "recent_data = db.get_df([\"sensor1\", \"sensor2\"], lower_key=start_time, upper_key=end_time)\n",
    "\n",
    "print(\"Recent Sensor 1 Data:\")\n",
    "display(recent_data[\"sensor1\"].head())\n",
    "print(\"\\nRecent Sensor 2 Data:\")\n",
    "display(recent_data[\"sensor2\"].head())"
   ]
  },
  {
   "cell_type": "markdown",
   "metadata": {},
   "source": [
    "## Calculate Statistics\n",
    "\n",
    "Let's calculate some basic statistics on the sensor data."
   ]
  },
  {
   "cell_type": "code",
   "execution_count": null,
   "metadata": {},
   "outputs": [],
   "source": [
    "# Get all data\n",
    "all_data = db.get_df([\"sensor1\", \"sensor2\"])\n",
    "\n",
    "print(\"Sensor 1 Statistics:\")\n",
    "display(all_data[\"sensor1\"].describe())\n",
    "print(\"\\nSensor 2 Statistics:\")\n",
    "display(all_data[\"sensor2\"].describe())"
   ]
  },
  {
   "cell_type": "markdown",
   "metadata": {},
   "source": [
    "## Apply Calibration\n",
    "\n",
    "Let's apply a calibration factor to one of the sensors."
   ]
  },
  {
   "cell_type": "code",
   "execution_count": null,
   "metadata": {},
   "outputs": [],
   "source": [
    "# Apply calibration to sensor1\n",
    "calibration_factor = 1.1\n",
    "sensor1_calibrated = all_data[\"sensor1\"].copy()\n",
    "sensor1_calibrated['temperature'] *= calibration_factor\n",
    "\n",
    "# Save calibrated data\n",
    "db.upsert_df(\"sensor1\", sensor1_calibrated)\n",
    "\n",
    "print(\"Calibrated Sensor 1 Data (first 5 records):\")\n",
    "display(sensor1_calibrated.head())"
   ]
  },
  {
   "cell_type": "markdown",
   "metadata": {},
   "source": [
    "## Delete Old Data\n",
    "\n",
    "Let's delete data older than 30 minutes."
   ]
  },
  {
   "cell_type": "code",
   "execution_count": null,
   "metadata": {},
   "outputs": [],
   "source": [
    "# Delete old data from both sensors\n",
    "cutoff_time = datetime.now() - timedelta(minutes=30)\n",
    "\n",
    "db.delete_file_range(\"sensor1\", None, cutoff_time)\n",
    "db.delete_file_range(\"sensor2\", None, cutoff_time)\n",
    "\n",
    "print(\"Database state after deletion:\")\n",
    "print(str(db))"
   ]
  },
  {
   "cell_type": "markdown",
   "metadata": {},
   "source": [
    "## Lint DB"
   ]
  },
  {
   "cell_type": "code",
   "execution_count": null,
   "metadata": {},
   "outputs": [],
   "source": [
    "db.lint_db()"
   ]
  },
  {
   "cell_type": "markdown",
   "metadata": {},
   "source": [
    "## Cleanup\n",
    "\n",
    "Finally, let's clean up by removing the database folder and its contents."
   ]
  },
  {
   "cell_type": "code",
   "execution_count": null,
   "metadata": {},
   "outputs": [],
   "source": [
    "# Cleanup\n",
    "for file in os.listdir(db_folder):\n",
    "    os.remove(os.path.join(db_folder, file))\n",
    "os.rmdir(db_folder)\n",
    "\n",
    "print(\"Database folder has been cleaned up.\")"
   ]
  },
  {
   "cell_type": "code",
   "execution_count": null,
   "metadata": {},
   "outputs": [],
   "source": []
  },
  {
   "cell_type": "code",
   "execution_count": null,
   "metadata": {},
   "outputs": [],
   "source": []
  }
 ],
 "metadata": {
  "kernelspec": {
   "display_name": "base",
   "language": "python",
   "name": "python3"
  },
  "language_info": {
   "codemirror_mode": {
    "name": "ipython",
    "version": 3
   },
   "file_extension": ".py",
   "mimetype": "text/x-python",
   "name": "python",
   "nbconvert_exporter": "python",
   "pygments_lexer": "ipython3",
   "version": "3.9.18"
  }
 },
 "nbformat": 4,
 "nbformat_minor": 4
}
