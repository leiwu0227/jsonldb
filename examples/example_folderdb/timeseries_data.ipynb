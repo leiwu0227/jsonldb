{
 "cells": [
  {
   "cell_type": "markdown",
   "metadata": {},
   "source": [
    "# Time Series Data with FolderDB\n",
    "\n",
    "This notebook demonstrates how to work with time series data using the FolderDB class. We'll show:\n",
    "- Generating time series data with datetime keys\n",
    "- Storing and retrieving time-based records\n",
    "- Performing range queries with timestamps\n",
    "- Calculating statistics on time series data"
   ]
  },
  {
   "cell_type": "markdown",
   "metadata": {},
   "source": [
    "## Setup and Imports\n",
    "\n",
    "First, let's import the required libraries and set up our environment."
   ]
  },
  {
   "cell_type": "code",
   "execution_count": 1,
   "metadata": {},
   "outputs": [],
   "source": [
    "import os\n",
    "import pandas as pd\n",
    "import numpy as np\n",
    "from datetime import datetime, timedelta\n",
    "from folderdb import FolderDB"
   ]
  },
  {
   "cell_type": "markdown",
   "metadata": {},
   "source": [
    "## Initialize Database\n",
    "\n",
    "Let's create a folder for our database and initialize the FolderDB instance."
   ]
  },
  {
   "cell_type": "code",
   "execution_count": 2,
   "metadata": {},
   "outputs": [],
   "source": [
    "# Create a folder for our database\n",
    "db_folder = \"timeseries_db\"\n",
    "os.makedirs(db_folder, exist_ok=True)\n",
    "\n",
    "# Initialize the database\n",
    "db = FolderDB(db_folder)"
   ]
  },
  {
   "cell_type": "markdown",
   "metadata": {},
   "source": [
    "## Generate Sample Data\n",
    "\n",
    "Let's create a function to generate sample sensor data with temperature, humidity, and pressure readings."
   ]
  },
  {
   "cell_type": "code",
   "execution_count": 3,
   "metadata": {},
   "outputs": [
    {
     "name": "stdout",
     "output_type": "stream",
     "text": [
      "Sensor 1 Data (first 5 records):\n"
     ]
    },
    {
     "data": {
      "text/html": [
       "<div>\n",
       "<style scoped>\n",
       "    .dataframe tbody tr th:only-of-type {\n",
       "        vertical-align: middle;\n",
       "    }\n",
       "\n",
       "    .dataframe tbody tr th {\n",
       "        vertical-align: top;\n",
       "    }\n",
       "\n",
       "    .dataframe thead th {\n",
       "        text-align: right;\n",
       "    }\n",
       "</style>\n",
       "<table border=\"1\" class=\"dataframe\">\n",
       "  <thead>\n",
       "    <tr style=\"text-align: right;\">\n",
       "      <th></th>\n",
       "      <th>temperature</th>\n",
       "      <th>humidity</th>\n",
       "      <th>pressure</th>\n",
       "    </tr>\n",
       "  </thead>\n",
       "  <tbody>\n",
       "    <tr>\n",
       "      <th>2025-03-26 15:58:04.689184</th>\n",
       "      <td>22.7</td>\n",
       "      <td>61.0</td>\n",
       "      <td>1013.0</td>\n",
       "    </tr>\n",
       "    <tr>\n",
       "      <th>2025-03-26 15:59:04.689184</th>\n",
       "      <td>24.4</td>\n",
       "      <td>69.7</td>\n",
       "      <td>1011.2</td>\n",
       "    </tr>\n",
       "    <tr>\n",
       "      <th>2025-03-26 16:00:04.689184</th>\n",
       "      <td>27.5</td>\n",
       "      <td>66.2</td>\n",
       "      <td>1011.2</td>\n",
       "    </tr>\n",
       "    <tr>\n",
       "      <th>2025-03-26 16:01:04.689184</th>\n",
       "      <td>23.3</td>\n",
       "      <td>55.7</td>\n",
       "      <td>1015.1</td>\n",
       "    </tr>\n",
       "    <tr>\n",
       "      <th>2025-03-26 16:02:04.689184</th>\n",
       "      <td>27.6</td>\n",
       "      <td>57.0</td>\n",
       "      <td>1012.3</td>\n",
       "    </tr>\n",
       "  </tbody>\n",
       "</table>\n",
       "</div>"
      ],
      "text/plain": [
       "                            temperature  humidity  pressure\n",
       "2025-03-26 15:58:04.689184         22.7      61.0    1013.0\n",
       "2025-03-26 15:59:04.689184         24.4      69.7    1011.2\n",
       "2025-03-26 16:00:04.689184         27.5      66.2    1011.2\n",
       "2025-03-26 16:01:04.689184         23.3      55.7    1015.1\n",
       "2025-03-26 16:02:04.689184         27.6      57.0    1012.3"
      ]
     },
     "metadata": {},
     "output_type": "display_data"
    },
    {
     "name": "stdout",
     "output_type": "stream",
     "text": [
      "\n",
      "Sensor 2 Data (first 5 records):\n"
     ]
    },
    {
     "data": {
      "text/html": [
       "<div>\n",
       "<style scoped>\n",
       "    .dataframe tbody tr th:only-of-type {\n",
       "        vertical-align: middle;\n",
       "    }\n",
       "\n",
       "    .dataframe tbody tr th {\n",
       "        vertical-align: top;\n",
       "    }\n",
       "\n",
       "    .dataframe thead th {\n",
       "        text-align: right;\n",
       "    }\n",
       "</style>\n",
       "<table border=\"1\" class=\"dataframe\">\n",
       "  <thead>\n",
       "    <tr style=\"text-align: right;\">\n",
       "      <th></th>\n",
       "      <th>temperature</th>\n",
       "      <th>humidity</th>\n",
       "      <th>pressure</th>\n",
       "    </tr>\n",
       "  </thead>\n",
       "  <tbody>\n",
       "    <tr>\n",
       "      <th>2025-03-26 15:58:04.689184</th>\n",
       "      <td>24.7</td>\n",
       "      <td>64.6</td>\n",
       "      <td>1017.2</td>\n",
       "    </tr>\n",
       "    <tr>\n",
       "      <th>2025-03-26 15:59:04.689184</th>\n",
       "      <td>24.8</td>\n",
       "      <td>69.5</td>\n",
       "      <td>1018.5</td>\n",
       "    </tr>\n",
       "    <tr>\n",
       "      <th>2025-03-26 16:00:04.689184</th>\n",
       "      <td>27.3</td>\n",
       "      <td>59.6</td>\n",
       "      <td>1013.4</td>\n",
       "    </tr>\n",
       "    <tr>\n",
       "      <th>2025-03-26 16:01:04.689184</th>\n",
       "      <td>24.9</td>\n",
       "      <td>57.6</td>\n",
       "      <td>1008.5</td>\n",
       "    </tr>\n",
       "    <tr>\n",
       "      <th>2025-03-26 16:02:04.689184</th>\n",
       "      <td>25.4</td>\n",
       "      <td>61.2</td>\n",
       "      <td>1010.1</td>\n",
       "    </tr>\n",
       "  </tbody>\n",
       "</table>\n",
       "</div>"
      ],
      "text/plain": [
       "                            temperature  humidity  pressure\n",
       "2025-03-26 15:58:04.689184         24.7      64.6    1017.2\n",
       "2025-03-26 15:59:04.689184         24.8      69.5    1018.5\n",
       "2025-03-26 16:00:04.689184         27.3      59.6    1013.4\n",
       "2025-03-26 16:01:04.689184         24.9      57.6    1008.5\n",
       "2025-03-26 16:02:04.689184         25.4      61.2    1010.1"
      ]
     },
     "metadata": {},
     "output_type": "display_data"
    }
   ],
   "source": [
    "def generate_sensor_data(start_time: datetime, duration_minutes: int, interval_minutes: int = 1) -> pd.DataFrame:\n",
    "    \"\"\"Generate sample sensor data.\n",
    "    \n",
    "    Args:\n",
    "        start_time: Starting datetime\n",
    "        duration_minutes: Duration in minutes\n",
    "        interval_minutes: Time interval between readings in minutes\n",
    "        \n",
    "    Returns:\n",
    "        DataFrame with sensor readings\n",
    "    \"\"\"\n",
    "    # Generate timestamps\n",
    "    timestamps = [start_time + timedelta(minutes=i) for i in range(0, duration_minutes, interval_minutes)]\n",
    "    \n",
    "    # Generate random sensor data\n",
    "    data = {\n",
    "        'temperature': np.random.normal(25, 2, len(timestamps)),\n",
    "        'humidity': np.random.normal(60, 5, len(timestamps)),\n",
    "        'pressure': np.random.normal(1013, 5, len(timestamps))\n",
    "    }\n",
    "    \n",
    "    # Create DataFrame\n",
    "    df = pd.DataFrame(data, index=timestamps)\n",
    "    \n",
    "    # Round values\n",
    "    df['temperature'] = df['temperature'].round(1)\n",
    "    df['humidity'] = df['humidity'].round(1)\n",
    "    df['pressure'] = df['pressure'].round(1)\n",
    "    \n",
    "    return df\n",
    "\n",
    "# Generate data for two sensors\n",
    "start_time = datetime.now() - timedelta(hours=1)\n",
    "sensor1_data = generate_sensor_data(start_time, 60)\n",
    "sensor2_data = generate_sensor_data(start_time, 60)\n",
    "\n",
    "print(\"Sensor 1 Data (first 5 records):\")\n",
    "display(sensor1_data.head())\n",
    "print(\"\\nSensor 2 Data (first 5 records):\")\n",
    "display(sensor2_data.head())"
   ]
  },
  {
   "cell_type": "markdown",
   "metadata": {},
   "source": [
    "## Save Data to Database\n",
    "\n",
    "Now let's save our sensor data to the database using the `upsert_df` method."
   ]
  },
  {
   "cell_type": "code",
   "execution_count": 4,
   "metadata": {},
   "outputs": [
    {
     "name": "stdout",
     "output_type": "stream",
     "text": [
      "Database state after saving:\n",
      "FolderDB at timeseries_db\n",
      "--------------------------------------------------\n",
      "sensor1.jsonl:\n",
      "  Size: 26631 bytes\n",
      "  Count: 180\n",
      "  Key range: 2025-03-26T15:55:23.039563 to 2025-03-26T16:57:04.689184\n",
      "  Linted: False\n",
      "sensor2.jsonl:\n",
      "  Size: 15478 bytes\n",
      "  Count: 180\n",
      "  Key range: 2025-03-26T15:55:23.039563 to 2025-03-26T16:57:04.689184\n",
      "  Linted: False\n"
     ]
    }
   ],
   "source": [
    "# Save DataFrames to database\n",
    "db.upsert_df(\"sensor1\", sensor1_data)\n",
    "db.upsert_df(\"sensor2\", sensor2_data)\n",
    "\n",
    "print(\"Database state after saving:\")\n",
    "print(str(db))"
   ]
  },
  {
   "cell_type": "markdown",
   "metadata": {},
   "source": [
    "## Query Recent Data\n",
    "\n",
    "Let's query the last 30 minutes of data from both sensors."
   ]
  },
  {
   "cell_type": "code",
   "execution_count": 5,
   "metadata": {},
   "outputs": [
    {
     "name": "stdout",
     "output_type": "stream",
     "text": [
      "Recent Sensor 1 Data:\n"
     ]
    },
    {
     "data": {
      "text/html": [
       "<div>\n",
       "<style scoped>\n",
       "    .dataframe tbody tr th:only-of-type {\n",
       "        vertical-align: middle;\n",
       "    }\n",
       "\n",
       "    .dataframe tbody tr th {\n",
       "        vertical-align: top;\n",
       "    }\n",
       "\n",
       "    .dataframe thead th {\n",
       "        text-align: right;\n",
       "    }\n",
       "</style>\n",
       "<table border=\"1\" class=\"dataframe\">\n",
       "  <thead>\n",
       "    <tr style=\"text-align: right;\">\n",
       "      <th></th>\n",
       "      <th>temperature</th>\n",
       "      <th>humidity</th>\n",
       "      <th>pressure</th>\n",
       "    </tr>\n",
       "  </thead>\n",
       "  <tbody>\n",
       "    <tr>\n",
       "      <th>2025-03-26T16:28:23.039563</th>\n",
       "      <td>25.96</td>\n",
       "      <td>56.2</td>\n",
       "      <td>1011.8</td>\n",
       "    </tr>\n",
       "    <tr>\n",
       "      <th>2025-03-26T16:28:32.690735</th>\n",
       "      <td>27.94</td>\n",
       "      <td>59.1</td>\n",
       "      <td>1009.1</td>\n",
       "    </tr>\n",
       "    <tr>\n",
       "      <th>2025-03-26T16:29:04.689184</th>\n",
       "      <td>24.20</td>\n",
       "      <td>58.7</td>\n",
       "      <td>1018.6</td>\n",
       "    </tr>\n",
       "    <tr>\n",
       "      <th>2025-03-26T16:29:23.039563</th>\n",
       "      <td>25.08</td>\n",
       "      <td>64.3</td>\n",
       "      <td>1008.1</td>\n",
       "    </tr>\n",
       "    <tr>\n",
       "      <th>2025-03-26T16:29:32.690735</th>\n",
       "      <td>28.27</td>\n",
       "      <td>58.0</td>\n",
       "      <td>1018.4</td>\n",
       "    </tr>\n",
       "  </tbody>\n",
       "</table>\n",
       "</div>"
      ],
      "text/plain": [
       "                            temperature  humidity  pressure\n",
       "2025-03-26T16:28:23.039563        25.96      56.2    1011.8\n",
       "2025-03-26T16:28:32.690735        27.94      59.1    1009.1\n",
       "2025-03-26T16:29:04.689184        24.20      58.7    1018.6\n",
       "2025-03-26T16:29:23.039563        25.08      64.3    1008.1\n",
       "2025-03-26T16:29:32.690735        28.27      58.0    1018.4"
      ]
     },
     "metadata": {},
     "output_type": "display_data"
    },
    {
     "name": "stdout",
     "output_type": "stream",
     "text": [
      "\n",
      "Recent Sensor 2 Data:\n"
     ]
    },
    {
     "data": {
      "text/html": [
       "<div>\n",
       "<style scoped>\n",
       "    .dataframe tbody tr th:only-of-type {\n",
       "        vertical-align: middle;\n",
       "    }\n",
       "\n",
       "    .dataframe tbody tr th {\n",
       "        vertical-align: top;\n",
       "    }\n",
       "\n",
       "    .dataframe thead th {\n",
       "        text-align: right;\n",
       "    }\n",
       "</style>\n",
       "<table border=\"1\" class=\"dataframe\">\n",
       "  <thead>\n",
       "    <tr style=\"text-align: right;\">\n",
       "      <th></th>\n",
       "      <th>temperature</th>\n",
       "      <th>humidity</th>\n",
       "      <th>pressure</th>\n",
       "    </tr>\n",
       "  </thead>\n",
       "  <tbody>\n",
       "    <tr>\n",
       "      <th>2025-03-26T16:28:23.039563</th>\n",
       "      <td>21.1</td>\n",
       "      <td>57.6</td>\n",
       "      <td>1010.2</td>\n",
       "    </tr>\n",
       "    <tr>\n",
       "      <th>2025-03-26T16:28:32.690735</th>\n",
       "      <td>23.9</td>\n",
       "      <td>58.7</td>\n",
       "      <td>1021.7</td>\n",
       "    </tr>\n",
       "    <tr>\n",
       "      <th>2025-03-26T16:29:04.689184</th>\n",
       "      <td>22.3</td>\n",
       "      <td>55.0</td>\n",
       "      <td>1003.7</td>\n",
       "    </tr>\n",
       "    <tr>\n",
       "      <th>2025-03-26T16:29:23.039563</th>\n",
       "      <td>27.2</td>\n",
       "      <td>63.3</td>\n",
       "      <td>1018.0</td>\n",
       "    </tr>\n",
       "    <tr>\n",
       "      <th>2025-03-26T16:29:32.690735</th>\n",
       "      <td>21.9</td>\n",
       "      <td>54.4</td>\n",
       "      <td>1009.3</td>\n",
       "    </tr>\n",
       "  </tbody>\n",
       "</table>\n",
       "</div>"
      ],
      "text/plain": [
       "                            temperature  humidity  pressure\n",
       "2025-03-26T16:28:23.039563         21.1      57.6    1010.2\n",
       "2025-03-26T16:28:32.690735         23.9      58.7    1021.7\n",
       "2025-03-26T16:29:04.689184         22.3      55.0    1003.7\n",
       "2025-03-26T16:29:23.039563         27.2      63.3    1018.0\n",
       "2025-03-26T16:29:32.690735         21.9      54.4    1009.3"
      ]
     },
     "metadata": {},
     "output_type": "display_data"
    }
   ],
   "source": [
    "# Get current time and calculate time range\n",
    "end_time = datetime.now()\n",
    "start_time = end_time - timedelta(minutes=30)\n",
    "\n",
    "# Query recent data\n",
    "recent_data = db.get_df([\"sensor1\", \"sensor2\"], lower_key=start_time, upper_key=end_time)\n",
    "\n",
    "print(\"Recent Sensor 1 Data:\")\n",
    "display(recent_data[\"sensor1\"].head())\n",
    "print(\"\\nRecent Sensor 2 Data:\")\n",
    "display(recent_data[\"sensor2\"].head())"
   ]
  },
  {
   "cell_type": "markdown",
   "metadata": {},
   "source": [
    "## Calculate Statistics\n",
    "\n",
    "Let's calculate some basic statistics on the sensor data."
   ]
  },
  {
   "cell_type": "code",
   "execution_count": 6,
   "metadata": {},
   "outputs": [
    {
     "name": "stdout",
     "output_type": "stream",
     "text": [
      "Sensor 1 Statistics:\n"
     ]
    },
    {
     "data": {
      "text/html": [
       "<div>\n",
       "<style scoped>\n",
       "    .dataframe tbody tr th:only-of-type {\n",
       "        vertical-align: middle;\n",
       "    }\n",
       "\n",
       "    .dataframe tbody tr th {\n",
       "        vertical-align: top;\n",
       "    }\n",
       "\n",
       "    .dataframe thead th {\n",
       "        text-align: right;\n",
       "    }\n",
       "</style>\n",
       "<table border=\"1\" class=\"dataframe\">\n",
       "  <thead>\n",
       "    <tr style=\"text-align: right;\">\n",
       "      <th></th>\n",
       "      <th>temperature</th>\n",
       "      <th>humidity</th>\n",
       "      <th>pressure</th>\n",
       "    </tr>\n",
       "  </thead>\n",
       "  <tbody>\n",
       "    <tr>\n",
       "      <th>count</th>\n",
       "      <td>180.000000</td>\n",
       "      <td>180.000000</td>\n",
       "      <td>180.000000</td>\n",
       "    </tr>\n",
       "    <tr>\n",
       "      <th>mean</th>\n",
       "      <td>26.676889</td>\n",
       "      <td>60.210000</td>\n",
       "      <td>1013.093889</td>\n",
       "    </tr>\n",
       "    <tr>\n",
       "      <th>std</th>\n",
       "      <td>2.461669</td>\n",
       "      <td>4.412971</td>\n",
       "      <td>4.668295</td>\n",
       "    </tr>\n",
       "    <tr>\n",
       "      <th>min</th>\n",
       "      <td>20.700000</td>\n",
       "      <td>47.500000</td>\n",
       "      <td>998.600000</td>\n",
       "    </tr>\n",
       "    <tr>\n",
       "      <th>25%</th>\n",
       "      <td>24.700000</td>\n",
       "      <td>56.925000</td>\n",
       "      <td>1009.875000</td>\n",
       "    </tr>\n",
       "    <tr>\n",
       "      <th>50%</th>\n",
       "      <td>26.895000</td>\n",
       "      <td>60.250000</td>\n",
       "      <td>1013.050000</td>\n",
       "    </tr>\n",
       "    <tr>\n",
       "      <th>75%</th>\n",
       "      <td>28.277500</td>\n",
       "      <td>63.200000</td>\n",
       "      <td>1016.100000</td>\n",
       "    </tr>\n",
       "    <tr>\n",
       "      <th>max</th>\n",
       "      <td>34.210000</td>\n",
       "      <td>72.600000</td>\n",
       "      <td>1025.800000</td>\n",
       "    </tr>\n",
       "  </tbody>\n",
       "</table>\n",
       "</div>"
      ],
      "text/plain": [
       "       temperature    humidity     pressure\n",
       "count   180.000000  180.000000   180.000000\n",
       "mean     26.676889   60.210000  1013.093889\n",
       "std       2.461669    4.412971     4.668295\n",
       "min      20.700000   47.500000   998.600000\n",
       "25%      24.700000   56.925000  1009.875000\n",
       "50%      26.895000   60.250000  1013.050000\n",
       "75%      28.277500   63.200000  1016.100000\n",
       "max      34.210000   72.600000  1025.800000"
      ]
     },
     "metadata": {},
     "output_type": "display_data"
    },
    {
     "name": "stdout",
     "output_type": "stream",
     "text": [
      "\n",
      "Sensor 2 Statistics:\n"
     ]
    },
    {
     "data": {
      "text/html": [
       "<div>\n",
       "<style scoped>\n",
       "    .dataframe tbody tr th:only-of-type {\n",
       "        vertical-align: middle;\n",
       "    }\n",
       "\n",
       "    .dataframe tbody tr th {\n",
       "        vertical-align: top;\n",
       "    }\n",
       "\n",
       "    .dataframe thead th {\n",
       "        text-align: right;\n",
       "    }\n",
       "</style>\n",
       "<table border=\"1\" class=\"dataframe\">\n",
       "  <thead>\n",
       "    <tr style=\"text-align: right;\">\n",
       "      <th></th>\n",
       "      <th>temperature</th>\n",
       "      <th>humidity</th>\n",
       "      <th>pressure</th>\n",
       "    </tr>\n",
       "  </thead>\n",
       "  <tbody>\n",
       "    <tr>\n",
       "      <th>count</th>\n",
       "      <td>180.000000</td>\n",
       "      <td>180.000000</td>\n",
       "      <td>180.000000</td>\n",
       "    </tr>\n",
       "    <tr>\n",
       "      <th>mean</th>\n",
       "      <td>25.160556</td>\n",
       "      <td>59.725556</td>\n",
       "      <td>1013.108333</td>\n",
       "    </tr>\n",
       "    <tr>\n",
       "      <th>std</th>\n",
       "      <td>2.063070</td>\n",
       "      <td>4.709198</td>\n",
       "      <td>5.205840</td>\n",
       "    </tr>\n",
       "    <tr>\n",
       "      <th>min</th>\n",
       "      <td>20.800000</td>\n",
       "      <td>48.700000</td>\n",
       "      <td>994.300000</td>\n",
       "    </tr>\n",
       "    <tr>\n",
       "      <th>25%</th>\n",
       "      <td>23.500000</td>\n",
       "      <td>56.425000</td>\n",
       "      <td>1009.800000</td>\n",
       "    </tr>\n",
       "    <tr>\n",
       "      <th>50%</th>\n",
       "      <td>25.200000</td>\n",
       "      <td>59.650000</td>\n",
       "      <td>1013.200000</td>\n",
       "    </tr>\n",
       "    <tr>\n",
       "      <th>75%</th>\n",
       "      <td>26.800000</td>\n",
       "      <td>62.425000</td>\n",
       "      <td>1016.825000</td>\n",
       "    </tr>\n",
       "    <tr>\n",
       "      <th>max</th>\n",
       "      <td>29.900000</td>\n",
       "      <td>74.700000</td>\n",
       "      <td>1028.400000</td>\n",
       "    </tr>\n",
       "  </tbody>\n",
       "</table>\n",
       "</div>"
      ],
      "text/plain": [
       "       temperature    humidity     pressure\n",
       "count   180.000000  180.000000   180.000000\n",
       "mean     25.160556   59.725556  1013.108333\n",
       "std       2.063070    4.709198     5.205840\n",
       "min      20.800000   48.700000   994.300000\n",
       "25%      23.500000   56.425000  1009.800000\n",
       "50%      25.200000   59.650000  1013.200000\n",
       "75%      26.800000   62.425000  1016.825000\n",
       "max      29.900000   74.700000  1028.400000"
      ]
     },
     "metadata": {},
     "output_type": "display_data"
    }
   ],
   "source": [
    "# Get all data\n",
    "all_data = db.get_df([\"sensor1\", \"sensor2\"])\n",
    "\n",
    "print(\"Sensor 1 Statistics:\")\n",
    "display(all_data[\"sensor1\"].describe())\n",
    "print(\"\\nSensor 2 Statistics:\")\n",
    "display(all_data[\"sensor2\"].describe())"
   ]
  },
  {
   "cell_type": "markdown",
   "metadata": {},
   "source": [
    "## Apply Calibration\n",
    "\n",
    "Let's apply a calibration factor to one of the sensors."
   ]
  },
  {
   "cell_type": "code",
   "execution_count": 7,
   "metadata": {},
   "outputs": [
    {
     "name": "stdout",
     "output_type": "stream",
     "text": [
      "Calibrated Sensor 1 Data (first 5 records):\n"
     ]
    },
    {
     "data": {
      "text/html": [
       "<div>\n",
       "<style scoped>\n",
       "    .dataframe tbody tr th:only-of-type {\n",
       "        vertical-align: middle;\n",
       "    }\n",
       "\n",
       "    .dataframe tbody tr th {\n",
       "        vertical-align: top;\n",
       "    }\n",
       "\n",
       "    .dataframe thead th {\n",
       "        text-align: right;\n",
       "    }\n",
       "</style>\n",
       "<table border=\"1\" class=\"dataframe\">\n",
       "  <thead>\n",
       "    <tr style=\"text-align: right;\">\n",
       "      <th></th>\n",
       "      <th>temperature</th>\n",
       "      <th>humidity</th>\n",
       "      <th>pressure</th>\n",
       "    </tr>\n",
       "  </thead>\n",
       "  <tbody>\n",
       "    <tr>\n",
       "      <th>2025-03-26T16:08:23.039563</th>\n",
       "      <td>25.410</td>\n",
       "      <td>60.5</td>\n",
       "      <td>1008.7</td>\n",
       "    </tr>\n",
       "    <tr>\n",
       "      <th>2025-03-26T16:26:32.690735</th>\n",
       "      <td>27.830</td>\n",
       "      <td>61.0</td>\n",
       "      <td>1013.1</td>\n",
       "    </tr>\n",
       "    <tr>\n",
       "      <th>2025-03-26T16:34:32.690735</th>\n",
       "      <td>31.460</td>\n",
       "      <td>58.6</td>\n",
       "      <td>1010.6</td>\n",
       "    </tr>\n",
       "    <tr>\n",
       "      <th>2025-03-26T15:55:23.039563</th>\n",
       "      <td>31.218</td>\n",
       "      <td>59.4</td>\n",
       "      <td>1015.6</td>\n",
       "    </tr>\n",
       "    <tr>\n",
       "      <th>2025-03-26T15:56:23.039563</th>\n",
       "      <td>30.734</td>\n",
       "      <td>56.5</td>\n",
       "      <td>1009.6</td>\n",
       "    </tr>\n",
       "  </tbody>\n",
       "</table>\n",
       "</div>"
      ],
      "text/plain": [
       "                            temperature  humidity  pressure\n",
       "2025-03-26T16:08:23.039563       25.410      60.5    1008.7\n",
       "2025-03-26T16:26:32.690735       27.830      61.0    1013.1\n",
       "2025-03-26T16:34:32.690735       31.460      58.6    1010.6\n",
       "2025-03-26T15:55:23.039563       31.218      59.4    1015.6\n",
       "2025-03-26T15:56:23.039563       30.734      56.5    1009.6"
      ]
     },
     "metadata": {},
     "output_type": "display_data"
    }
   ],
   "source": [
    "# Apply calibration to sensor1\n",
    "calibration_factor = 1.1\n",
    "sensor1_calibrated = all_data[\"sensor1\"].copy()\n",
    "sensor1_calibrated['temperature'] *= calibration_factor\n",
    "\n",
    "# Save calibrated data\n",
    "db.upsert_df(\"sensor1\", sensor1_calibrated)\n",
    "\n",
    "print(\"Calibrated Sensor 1 Data (first 5 records):\")\n",
    "display(sensor1_calibrated.head())"
   ]
  },
  {
   "cell_type": "markdown",
   "metadata": {},
   "source": [
    "## Delete Old Data\n",
    "\n",
    "Let's delete data older than 30 minutes."
   ]
  },
  {
   "cell_type": "code",
   "execution_count": 8,
   "metadata": {},
   "outputs": [
    {
     "name": "stdout",
     "output_type": "stream",
     "text": [
      "Database state after deletion:\n",
      "FolderDB at timeseries_db\n",
      "--------------------------------------------------\n",
      "sensor1.jsonl:\n",
      "  Size: 36720 bytes\n",
      "  Count: 180\n",
      "  Key range: 2025-03-26T15:55:23.039563 to 2025-03-26T16:57:04.689184\n",
      "  Linted: False\n",
      "sensor2.jsonl:\n",
      "  Size: 15478 bytes\n",
      "  Count: 180\n",
      "  Key range: 2025-03-26T15:55:23.039563 to 2025-03-26T16:57:04.689184\n",
      "  Linted: False\n"
     ]
    }
   ],
   "source": [
    "# Delete old data from both sensors\n",
    "cutoff_time = datetime.now() - timedelta(minutes=30)\n",
    "\n",
    "db.delete_file_range(\"sensor1\", None, cutoff_time)\n",
    "db.delete_file_range(\"sensor2\", None, cutoff_time)\n",
    "\n",
    "print(\"Database state after deletion:\")\n",
    "print(str(db))"
   ]
  },
  {
   "cell_type": "markdown",
   "metadata": {},
   "source": [
    "## Lint DB"
   ]
  },
  {
   "cell_type": "code",
   "execution_count": 9,
   "metadata": {},
   "outputs": [
    {
     "name": "stdout",
     "output_type": "stream",
     "text": [
      "Found 2 JSONL files to lint.\n",
      "Linting file: sensor1.jsonl\n",
      "Successfully linted and updated metadata for sensor1.jsonl.\n",
      "Linting file: sensor2.jsonl\n",
      "Successfully linted and updated metadata for sensor2.jsonl.\n"
     ]
    }
   ],
   "source": [
    "db.lint_db()"
   ]
  },
  {
   "cell_type": "markdown",
   "metadata": {},
   "source": [
    "## Cleanup\n",
    "\n",
    "Finally, let's clean up by removing the database folder and its contents."
   ]
  },
  {
   "cell_type": "code",
   "execution_count": 10,
   "metadata": {},
   "outputs": [
    {
     "name": "stdout",
     "output_type": "stream",
     "text": [
      "Database folder has been cleaned up.\n"
     ]
    }
   ],
   "source": [
    "# Cleanup\n",
    "for file in os.listdir(db_folder):\n",
    "    os.remove(os.path.join(db_folder, file))\n",
    "os.rmdir(db_folder)\n",
    "\n",
    "print(\"Database folder has been cleaned up.\")"
   ]
  },
  {
   "cell_type": "code",
   "execution_count": null,
   "metadata": {},
   "outputs": [],
   "source": []
  }
 ],
 "metadata": {
  "kernelspec": {
   "display_name": "base",
   "language": "python",
   "name": "python3"
  },
  "language_info": {
   "codemirror_mode": {
    "name": "ipython",
    "version": 3
   },
   "file_extension": ".py",
   "mimetype": "text/x-python",
   "name": "python",
   "nbconvert_exporter": "python",
   "pygments_lexer": "ipython3",
   "version": "3.9.18"
  }
 },
 "nbformat": 4,
 "nbformat_minor": 4
}
