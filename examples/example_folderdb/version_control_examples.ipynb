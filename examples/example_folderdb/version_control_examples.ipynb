{
 "cells": [
  {
   "cell_type": "markdown",
   "metadata": {},
   "source": [
    "# Version Control with FolderDB\n",
    "\n",
    "This notebook demonstrates how to use the version control features of the FolderDB class, including:\n",
    "- Initializing a database with version control\n",
    "- Making commits with descriptive messages\n",
    "- Listing all versions\n",
    "- Reverting to previous versions"
   ]
  },
  {
   "cell_type": "markdown",
   "metadata": {},
   "source": [
    "## Setup and Imports\n",
    "\n",
    "First, let's import the required libraries and set up our environment."
   ]
  },
  {
   "cell_type": "code",
   "execution_count": 1,
   "metadata": {},
   "outputs": [],
   "source": [
    "import os\n",
    "import pandas as pd\n",
    "from datetime import datetime\n",
    "from jsonldb.folderdb import FolderDB"
   ]
  },
  {
   "cell_type": "markdown",
   "metadata": {},
   "source": [
    "## Initialize Database\n",
    "\n",
    "Let's create a folder for our database and initialize the FolderDB instance."
   ]
  },
  {
   "cell_type": "code",
   "execution_count": null,
   "metadata": {},
   "outputs": [],
   "source": [
    "# Create a folder for our database\n",
    "db_folder = \"version_control_db\"\n",
    "if not os.path.exists(db_folder):\n",
    "    os.makedirs(db_folder)\n",
    "\n",
    "# Initialize the database\n",
    "db = FolderDB(db_folder)\n",
    "print(f\"Created FolderDB at: {db_folder}\")"
   ]
  },
  {
   "cell_type": "markdown",
   "metadata": {},
   "source": [
    "## Create Initial Data\n",
    "\n",
    "Let's create some sample DataFrames with user and order information."
   ]
  },
  {
   "cell_type": "code",
   "execution_count": null,
   "metadata": {},
   "outputs": [],
   "source": [
    "# Create users DataFrame\n",
    "users_df = pd.DataFrame({\n",
    "    'name': ['Alice', 'Bob', 'Charlie'],\n",
    "    'age': [25, 30, 35],\n",
    "    'city': ['New York', 'London', 'Paris']\n",
    "}, index=['user1', 'user2', 'user3'])\n",
    "\n",
    "# Create orders DataFrame\n",
    "orders_df = pd.DataFrame({\n",
    "    'product': ['Laptop', 'Phone', 'Tablet'],\n",
    "    'price': [1000, 500, 300],\n",
    "    'quantity': [1, 2, 3]\n",
    "}, index=['order1', 'order2', 'order3'])\n",
    "\n",
    "print(\"Users DataFrame:\")\n",
    "display(users_df)\n",
    "print(\"\\nOrders DataFrame:\")\n",
    "display(orders_df)"
   ]
  },
  {
   "cell_type": "markdown",
   "metadata": {},
   "source": [
    "## Save Initial Data and Make First Commit\n",
    "\n",
    "Now let's save our DataFrames to the database and create our first commit."
   ]
  },
  {
   "cell_type": "code",
   "execution_count": null,
   "metadata": {},
   "outputs": [],
   "source": [
    "# Save DataFrames to database\n",
    "print(\"1. Saving initial data...\")\n",
    "db.upsert_df(\"users\", users_df)\n",
    "db.upsert_df(\"orders\", orders_df)\n",
    "\n",
    "# Commit initial state\n",
    "print(\"\\n2. Committing initial state...\")\n",
    "db.commit(\"Initial commit with users and orders data\")\n",
    "\n",
    "print(\"\\nDatabase state after initial commit:\")\n",
    "print(str(db))"
   ]
  },
  {
   "cell_type": "markdown",
   "metadata": {},
   "source": [
    "## Make Changes and Create Second Commit\n",
    "\n",
    "Let's make some changes to our data and create another commit."
   ]
  },
  {
   "cell_type": "code",
   "execution_count": null,
   "metadata": {},
   "outputs": [],
   "source": [
    "# Make some changes\n",
    "print(\"3. Making changes...\")\n",
    "\n",
    "# Add a new order\n",
    "new_order = pd.DataFrame({\n",
    "    'product': ['Smart Watch'],\n",
    "    'price': [200],\n",
    "    'quantity': [1]\n",
    "}, index=['order4'])\n",
    "db.upsert_df(\"orders\", new_order)\n",
    "\n",
    "# Update a user\n",
    "updated_user = pd.DataFrame({\n",
    "    'name': ['Alice Smith'],\n",
    "    'age': [26],\n",
    "    'city': ['Boston']\n",
    "}, index=['user1'])\n",
    "db.upsert_df(\"users\", updated_user)\n",
    "\n",
    "# Commit changes\n",
    "db.commit(\"Added new order and updated user information\")\n",
    "\n",
    "print(\"\\nDatabase state after changes:\")\n",
    "print(str(db))"
   ]
  },
  {
   "cell_type": "markdown",
   "metadata": {},
   "source": [
    "## List All Versions\n",
    "\n",
    "Let's see all the versions we've created."
   ]
  },
  {
   "cell_type": "code",
   "execution_count": null,
   "metadata": {},
   "outputs": [],
   "source": [
    "print(\"4. Listing all versions:\")\n",
    "versions = db.version()\n",
    "for hash_value, message in versions.items():\n",
    "    print(f\"{hash_value[:8]}: {message}\")"
   ]
  },
  {
   "cell_type": "markdown",
   "metadata": {},
   "source": [
    "## Revert to Initial State\n",
    "\n",
    "Now let's revert back to our initial state and verify the data."
   ]
  },
  {
   "cell_type": "code",
   "execution_count": null,
   "metadata": {},
   "outputs": [],
   "source": [
    "# Get the initial commit hash\n",
    "initial_hash = list(versions.keys())[-1]  # Last commit is the first one\n",
    "\n",
    "# Revert to initial state\n",
    "print(f\"\\n5. Reverting to initial state (commit {initial_hash[:8]})...\")\n",
    "db.revert(initial_hash)\n",
    "\n",
    "# Verify the data is back to original state\n",
    "print(\"\\n6. Verifying reverted data:\")\n",
    "print(\"\\nUsers:\")\n",
    "display(db.get_df([\"users\"])[\"users\"])\n",
    "print(\"\\nOrders:\")\n",
    "display(db.get_df([\"orders\"])[\"orders\"])"
   ]
  },
  {
   "cell_type": "markdown",
   "metadata": {},
   "source": [
    "## Cleanup\n",
    "\n",
    "Finally, let's clean up by removing the database folder and its contents."
   ]
  },
  {
   "cell_type": "code",
   "execution_count": null,
   "metadata": {},
   "outputs": [],
   "source": [
    "print(\"7. Cleaning up...\")\n",
    "for file in os.listdir(db_folder):\n",
    "    os.remove(os.path.join(db_folder, file))\n",
    "os.rmdir(db_folder)\n",
    "print(\"   - Removed temporary database\")"
   ]
  },
  {
   "cell_type": "code",
   "execution_count": null,
   "metadata": {},
   "outputs": [],
   "source": []
  }
 ],
 "metadata": {
  "kernelspec": {
   "display_name": "base",
   "language": "python",
   "name": "python3"
  },
  "language_info": {
   "codemirror_mode": {
    "name": "ipython",
    "version": 3
   },
   "file_extension": ".py",
   "mimetype": "text/x-python",
   "name": "python",
   "nbconvert_exporter": "python",
   "pygments_lexer": "ipython3",
   "version": "3.9.18"
  }
 },
 "nbformat": 4,
 "nbformat_minor": 4
}
