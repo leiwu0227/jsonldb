{
 "cells": [
  {
   "cell_type": "markdown",
   "metadata": {},
   "source": [
    "# Version Control with FolderDB\n",
    "\n",
    "This notebook demonstrates how to use the version control features of the FolderDB class, including:\n",
    "- Initializing a database with version control\n",
    "- Making commits with descriptive messages\n",
    "- Listing all versions\n",
    "- Reverting to previous versions"
   ]
  },
  {
   "cell_type": "markdown",
   "metadata": {},
   "source": [
    "## Setup and Imports\n",
    "\n",
    "First, let's import the required libraries and set up our environment."
   ]
  },
  {
   "cell_type": "code",
   "execution_count": 1,
   "metadata": {},
   "outputs": [],
   "source": [
    "import os\n",
    "import pandas as pd\n",
    "from datetime import datetime\n",
    "from folderdb import FolderDB"
   ]
  },
  {
   "cell_type": "markdown",
   "metadata": {},
   "source": [
    "## Initialize Database\n",
    "\n",
    "Let's create a folder for our database and initialize the FolderDB instance."
   ]
  },
  {
   "cell_type": "code",
   "execution_count": 2,
   "metadata": {},
   "outputs": [
    {
     "name": "stdout",
     "output_type": "stream",
     "text": [
      "Created FolderDB at: version_control_db\n"
     ]
    }
   ],
   "source": [
    "# Create a folder for our database\n",
    "db_folder = \"version_control_db\"\n",
    "if not os.path.exists(db_folder):\n",
    "    os.makedirs(db_folder)\n",
    "\n",
    "# Initialize the database\n",
    "db = FolderDB(db_folder)\n",
    "print(f\"Created FolderDB at: {db_folder}\")"
   ]
  },
  {
   "cell_type": "markdown",
   "metadata": {},
   "source": [
    "## Create Initial Data\n",
    "\n",
    "Let's create some sample DataFrames with user and order information."
   ]
  },
  {
   "cell_type": "code",
   "execution_count": 3,
   "metadata": {},
   "outputs": [
    {
     "name": "stdout",
     "output_type": "stream",
     "text": [
      "Users DataFrame:\n"
     ]
    },
    {
     "data": {
      "text/html": [
       "<div>\n",
       "<style scoped>\n",
       "    .dataframe tbody tr th:only-of-type {\n",
       "        vertical-align: middle;\n",
       "    }\n",
       "\n",
       "    .dataframe tbody tr th {\n",
       "        vertical-align: top;\n",
       "    }\n",
       "\n",
       "    .dataframe thead th {\n",
       "        text-align: right;\n",
       "    }\n",
       "</style>\n",
       "<table border=\"1\" class=\"dataframe\">\n",
       "  <thead>\n",
       "    <tr style=\"text-align: right;\">\n",
       "      <th></th>\n",
       "      <th>name</th>\n",
       "      <th>age</th>\n",
       "      <th>city</th>\n",
       "    </tr>\n",
       "  </thead>\n",
       "  <tbody>\n",
       "    <tr>\n",
       "      <th>user1</th>\n",
       "      <td>Alice</td>\n",
       "      <td>25</td>\n",
       "      <td>New York</td>\n",
       "    </tr>\n",
       "    <tr>\n",
       "      <th>user2</th>\n",
       "      <td>Bob</td>\n",
       "      <td>30</td>\n",
       "      <td>London</td>\n",
       "    </tr>\n",
       "    <tr>\n",
       "      <th>user3</th>\n",
       "      <td>Charlie</td>\n",
       "      <td>35</td>\n",
       "      <td>Paris</td>\n",
       "    </tr>\n",
       "  </tbody>\n",
       "</table>\n",
       "</div>"
      ],
      "text/plain": [
       "          name  age      city\n",
       "user1    Alice   25  New York\n",
       "user2      Bob   30    London\n",
       "user3  Charlie   35     Paris"
      ]
     },
     "metadata": {},
     "output_type": "display_data"
    },
    {
     "name": "stdout",
     "output_type": "stream",
     "text": [
      "\n",
      "Orders DataFrame:\n"
     ]
    },
    {
     "data": {
      "text/html": [
       "<div>\n",
       "<style scoped>\n",
       "    .dataframe tbody tr th:only-of-type {\n",
       "        vertical-align: middle;\n",
       "    }\n",
       "\n",
       "    .dataframe tbody tr th {\n",
       "        vertical-align: top;\n",
       "    }\n",
       "\n",
       "    .dataframe thead th {\n",
       "        text-align: right;\n",
       "    }\n",
       "</style>\n",
       "<table border=\"1\" class=\"dataframe\">\n",
       "  <thead>\n",
       "    <tr style=\"text-align: right;\">\n",
       "      <th></th>\n",
       "      <th>product</th>\n",
       "      <th>price</th>\n",
       "      <th>quantity</th>\n",
       "    </tr>\n",
       "  </thead>\n",
       "  <tbody>\n",
       "    <tr>\n",
       "      <th>order1</th>\n",
       "      <td>Laptop</td>\n",
       "      <td>1000</td>\n",
       "      <td>1</td>\n",
       "    </tr>\n",
       "    <tr>\n",
       "      <th>order2</th>\n",
       "      <td>Phone</td>\n",
       "      <td>500</td>\n",
       "      <td>2</td>\n",
       "    </tr>\n",
       "    <tr>\n",
       "      <th>order3</th>\n",
       "      <td>Tablet</td>\n",
       "      <td>300</td>\n",
       "      <td>3</td>\n",
       "    </tr>\n",
       "  </tbody>\n",
       "</table>\n",
       "</div>"
      ],
      "text/plain": [
       "       product  price  quantity\n",
       "order1  Laptop   1000         1\n",
       "order2   Phone    500         2\n",
       "order3  Tablet    300         3"
      ]
     },
     "metadata": {},
     "output_type": "display_data"
    }
   ],
   "source": [
    "# Create users DataFrame\n",
    "users_df = pd.DataFrame({\n",
    "    'name': ['Alice', 'Bob', 'Charlie'],\n",
    "    'age': [25, 30, 35],\n",
    "    'city': ['New York', 'London', 'Paris']\n",
    "}, index=['user1', 'user2', 'user3'])\n",
    "\n",
    "# Create orders DataFrame\n",
    "orders_df = pd.DataFrame({\n",
    "    'product': ['Laptop', 'Phone', 'Tablet'],\n",
    "    'price': [1000, 500, 300],\n",
    "    'quantity': [1, 2, 3]\n",
    "}, index=['order1', 'order2', 'order3'])\n",
    "\n",
    "print(\"Users DataFrame:\")\n",
    "display(users_df)\n",
    "print(\"\\nOrders DataFrame:\")\n",
    "display(orders_df)"
   ]
  },
  {
   "cell_type": "markdown",
   "metadata": {},
   "source": [
    "## Save Initial Data and Make First Commit\n",
    "\n",
    "Now let's save our DataFrames to the database and create our first commit."
   ]
  },
  {
   "cell_type": "code",
   "execution_count": 4,
   "metadata": {},
   "outputs": [
    {
     "name": "stdout",
     "output_type": "stream",
     "text": [
      "1. Saving initial data...\n",
      "\n",
      "2. Committing initial state...\n",
      "Initialized git repository in version_control_db\n",
      "Committing changes in the folder: version_control_db\n",
      "Committed changes with message: Manual Commit: 2025-03-26@17-20 Initial commit with users and orders data\n",
      "Commit successful.\n",
      "\n",
      "Database state after initial commit:\n",
      "FolderDB at version_control_db\n",
      "--------------------------------------------------\n",
      "users.jsonl:\n",
      "  Size: 157 bytes\n",
      "  Count: 3\n",
      "  Key range: user1 to user3\n",
      "  Linted: False\n",
      "orders.jsonl:\n",
      "  Size: 171 bytes\n",
      "  Count: 3\n",
      "  Key range: order1 to order3\n",
      "  Linted: False\n"
     ]
    }
   ],
   "source": [
    "# Save DataFrames to database\n",
    "print(\"1. Saving initial data...\")\n",
    "db.upsert_df(\"users\", users_df)\n",
    "db.upsert_df(\"orders\", orders_df)\n",
    "\n",
    "# Commit initial state\n",
    "print(\"\\n2. Committing initial state...\")\n",
    "db.commit(\"Initial commit with users and orders data\")\n",
    "\n",
    "print(\"\\nDatabase state after initial commit:\")\n",
    "print(str(db))"
   ]
  },
  {
   "cell_type": "markdown",
   "metadata": {},
   "source": [
    "## Make Changes and Create Second Commit\n",
    "\n",
    "Let's make some changes to our data and create another commit."
   ]
  },
  {
   "cell_type": "code",
   "execution_count": 5,
   "metadata": {},
   "outputs": [
    {
     "name": "stdout",
     "output_type": "stream",
     "text": [
      "3. Making changes...\n",
      "Committing changes in the folder: version_control_db\n",
      "Committed changes with message: Manual Commit: 2025-03-26@17-21 Added new order and updated user information\n",
      "Commit successful.\n",
      "\n",
      "Database state after changes:\n",
      "FolderDB at version_control_db\n",
      "--------------------------------------------------\n",
      "users.jsonl:\n",
      "  Size: 215 bytes\n",
      "  Count: 3\n",
      "  Key range: user1 to user3\n",
      "  Linted: False\n",
      "orders.jsonl:\n",
      "  Size: 233 bytes\n",
      "  Count: 4\n",
      "  Key range: order1 to order4\n",
      "  Linted: False\n"
     ]
    }
   ],
   "source": [
    "# Make some changes\n",
    "print(\"3. Making changes...\")\n",
    "\n",
    "# Add a new order\n",
    "new_order = pd.DataFrame({\n",
    "    'product': ['Smart Watch'],\n",
    "    'price': [200],\n",
    "    'quantity': [1]\n",
    "}, index=['order4'])\n",
    "db.upsert_df(\"orders\", new_order)\n",
    "\n",
    "# Update a user\n",
    "updated_user = pd.DataFrame({\n",
    "    'name': ['Alice Smith'],\n",
    "    'age': [26],\n",
    "    'city': ['Boston']\n",
    "}, index=['user1'])\n",
    "db.upsert_df(\"users\", updated_user)\n",
    "\n",
    "# Commit changes\n",
    "db.commit(\"Added new order and updated user information\")\n",
    "\n",
    "print(\"\\nDatabase state after changes:\")\n",
    "print(str(db))"
   ]
  },
  {
   "cell_type": "markdown",
   "metadata": {},
   "source": [
    "## List All Versions\n",
    "\n",
    "Let's see all the versions we've created."
   ]
  },
  {
   "cell_type": "code",
   "execution_count": 6,
   "metadata": {},
   "outputs": [
    {
     "name": "stdout",
     "output_type": "stream",
     "text": [
      "4. Listing all versions:\n",
      "264bea4f: Manual Commit: 2025-03-26@17-21 Added new order and updated user information\n",
      "43b7dddf: Manual Commit: 2025-03-26@17-20 Initial commit with users and orders data\n"
     ]
    }
   ],
   "source": [
    "print(\"4. Listing all versions:\")\n",
    "versions = db.version()\n",
    "for hash_value, message in versions.items():\n",
    "    print(f\"{hash_value[:8]}: {message}\")"
   ]
  },
  {
   "cell_type": "markdown",
   "metadata": {},
   "source": [
    "## Revert to Initial State\n",
    "\n",
    "Now let's revert back to our initial state and verify the data."
   ]
  },
  {
   "cell_type": "code",
   "execution_count": 7,
   "metadata": {},
   "outputs": [
    {
     "name": "stdout",
     "output_type": "stream",
     "text": [
      "\n",
      "5. Reverting to initial state (commit 43b7dddf)...\n",
      "Attempting to revert the folder: version_control_db to version: 43b7dddfc0d653d593b942010257cb9795e841b0\n",
      "Reverted to commit 43b7dddfc0d653d593b942010257cb9795e841b0\n",
      "Successfully reverted the folder: version_control_db to version: 43b7dddfc0d653d593b942010257cb9795e841b0\n",
      "\n",
      "6. Verifying reverted data:\n",
      "\n",
      "Users:\n"
     ]
    },
    {
     "data": {
      "text/html": [
       "<div>\n",
       "<style scoped>\n",
       "    .dataframe tbody tr th:only-of-type {\n",
       "        vertical-align: middle;\n",
       "    }\n",
       "\n",
       "    .dataframe tbody tr th {\n",
       "        vertical-align: top;\n",
       "    }\n",
       "\n",
       "    .dataframe thead th {\n",
       "        text-align: right;\n",
       "    }\n",
       "</style>\n",
       "<table border=\"1\" class=\"dataframe\">\n",
       "  <thead>\n",
       "    <tr style=\"text-align: right;\">\n",
       "      <th></th>\n",
       "      <th>name</th>\n",
       "      <th>age</th>\n",
       "      <th>city</th>\n",
       "    </tr>\n",
       "  </thead>\n",
       "  <tbody>\n",
       "    <tr>\n",
       "      <th>user1</th>\n",
       "      <td>Alice</td>\n",
       "      <td>25</td>\n",
       "      <td>New York</td>\n",
       "    </tr>\n",
       "    <tr>\n",
       "      <th>user2</th>\n",
       "      <td>Bob</td>\n",
       "      <td>30</td>\n",
       "      <td>London</td>\n",
       "    </tr>\n",
       "    <tr>\n",
       "      <th>user3</th>\n",
       "      <td>Charlie</td>\n",
       "      <td>35</td>\n",
       "      <td>Paris</td>\n",
       "    </tr>\n",
       "  </tbody>\n",
       "</table>\n",
       "</div>"
      ],
      "text/plain": [
       "          name  age      city\n",
       "user1    Alice   25  New York\n",
       "user2      Bob   30    London\n",
       "user3  Charlie   35     Paris"
      ]
     },
     "metadata": {},
     "output_type": "display_data"
    },
    {
     "name": "stdout",
     "output_type": "stream",
     "text": [
      "\n",
      "Orders:\n"
     ]
    },
    {
     "data": {
      "text/html": [
       "<div>\n",
       "<style scoped>\n",
       "    .dataframe tbody tr th:only-of-type {\n",
       "        vertical-align: middle;\n",
       "    }\n",
       "\n",
       "    .dataframe tbody tr th {\n",
       "        vertical-align: top;\n",
       "    }\n",
       "\n",
       "    .dataframe thead th {\n",
       "        text-align: right;\n",
       "    }\n",
       "</style>\n",
       "<table border=\"1\" class=\"dataframe\">\n",
       "  <thead>\n",
       "    <tr style=\"text-align: right;\">\n",
       "      <th></th>\n",
       "      <th>product</th>\n",
       "      <th>price</th>\n",
       "      <th>quantity</th>\n",
       "    </tr>\n",
       "  </thead>\n",
       "  <tbody>\n",
       "    <tr>\n",
       "      <th>order1</th>\n",
       "      <td>Laptop</td>\n",
       "      <td>1000</td>\n",
       "      <td>1</td>\n",
       "    </tr>\n",
       "    <tr>\n",
       "      <th>order2</th>\n",
       "      <td>Phone</td>\n",
       "      <td>500</td>\n",
       "      <td>2</td>\n",
       "    </tr>\n",
       "    <tr>\n",
       "      <th>order3</th>\n",
       "      <td>Tablet</td>\n",
       "      <td>300</td>\n",
       "      <td>3</td>\n",
       "    </tr>\n",
       "  </tbody>\n",
       "</table>\n",
       "</div>"
      ],
      "text/plain": [
       "       product  price  quantity\n",
       "order1  Laptop   1000         1\n",
       "order2   Phone    500         2\n",
       "order3  Tablet    300         3"
      ]
     },
     "metadata": {},
     "output_type": "display_data"
    }
   ],
   "source": [
    "# Get the initial commit hash\n",
    "initial_hash = list(versions.keys())[-1]  # Last commit is the first one\n",
    "\n",
    "# Revert to initial state\n",
    "print(f\"\\n5. Reverting to initial state (commit {initial_hash[:8]})...\")\n",
    "db.revert(initial_hash)\n",
    "\n",
    "# Verify the data is back to original state\n",
    "print(\"\\n6. Verifying reverted data:\")\n",
    "print(\"\\nUsers:\")\n",
    "display(db.get_df([\"users\"])[\"users\"])\n",
    "print(\"\\nOrders:\")\n",
    "display(db.get_df([\"orders\"])[\"orders\"])"
   ]
  },
  {
   "cell_type": "markdown",
   "metadata": {},
   "source": [
    "## Cleanup\n",
    "\n",
    "Finally, let's clean up by removing the database folder and its contents."
   ]
  },
  {
   "cell_type": "code",
   "execution_count": 8,
   "metadata": {},
   "outputs": [
    {
     "name": "stdout",
     "output_type": "stream",
     "text": [
      "7. Cleaning up...\n"
     ]
    },
    {
     "ename": "PermissionError",
     "evalue": "[WinError 5] Access is denied: 'version_control_db\\\\.git'",
     "output_type": "error",
     "traceback": [
      "\u001b[1;31m---------------------------------------------------------------------------\u001b[0m",
      "\u001b[1;31mPermissionError\u001b[0m                           Traceback (most recent call last)",
      "Cell \u001b[1;32mIn[8], line 3\u001b[0m\n\u001b[0;32m      1\u001b[0m \u001b[38;5;28mprint\u001b[39m(\u001b[38;5;124m\"\u001b[39m\u001b[38;5;124m7. Cleaning up...\u001b[39m\u001b[38;5;124m\"\u001b[39m)\n\u001b[0;32m      2\u001b[0m \u001b[38;5;28;01mfor\u001b[39;00m file \u001b[38;5;129;01min\u001b[39;00m os\u001b[38;5;241m.\u001b[39mlistdir(db_folder):\n\u001b[1;32m----> 3\u001b[0m     \u001b[43mos\u001b[49m\u001b[38;5;241;43m.\u001b[39;49m\u001b[43mremove\u001b[49m\u001b[43m(\u001b[49m\u001b[43mos\u001b[49m\u001b[38;5;241;43m.\u001b[39;49m\u001b[43mpath\u001b[49m\u001b[38;5;241;43m.\u001b[39;49m\u001b[43mjoin\u001b[49m\u001b[43m(\u001b[49m\u001b[43mdb_folder\u001b[49m\u001b[43m,\u001b[49m\u001b[43m \u001b[49m\u001b[43mfile\u001b[49m\u001b[43m)\u001b[49m\u001b[43m)\u001b[49m\n\u001b[0;32m      4\u001b[0m os\u001b[38;5;241m.\u001b[39mrmdir(db_folder)\n\u001b[0;32m      5\u001b[0m \u001b[38;5;28mprint\u001b[39m(\u001b[38;5;124m\"\u001b[39m\u001b[38;5;124m   - Removed temporary database\u001b[39m\u001b[38;5;124m\"\u001b[39m)\n",
      "\u001b[1;31mPermissionError\u001b[0m: [WinError 5] Access is denied: 'version_control_db\\\\.git'"
     ]
    }
   ],
   "source": [
    "print(\"7. Cleaning up...\")\n",
    "for file in os.listdir(db_folder):\n",
    "    os.remove(os.path.join(db_folder, file))\n",
    "os.rmdir(db_folder)\n",
    "print(\"   - Removed temporary database\")"
   ]
  }
 ],
 "metadata": {
  "kernelspec": {
   "display_name": "base",
   "language": "python",
   "name": "python3"
  },
  "language_info": {
   "codemirror_mode": {
    "name": "ipython",
    "version": 3
   },
   "file_extension": ".py",
   "mimetype": "text/x-python",
   "name": "python",
   "nbconvert_exporter": "python",
   "pygments_lexer": "ipython3",
   "version": "3.9.18"
  }
 },
 "nbformat": 4,
 "nbformat_minor": 4
}
